{
  "nbformat": 4,
  "nbformat_minor": 0,
  "metadata": {
    "colab": {
      "name": "Untitled0.ipynb",
      "provenance": [],
      "collapsed_sections": []
    },
    "kernelspec": {
      "display_name": "Python 3",
      "name": "python3"
    },
    "language_info": {
      "name": "python"
    }
  },
  "cells": [
    {
      "cell_type": "markdown",
      "metadata": {
        "id": "CmOi-RcJpGBZ"
      },
      "source": [
        "> # **DATASET OF EDX COURSES**\n",
        "\n",
        "---\n",
        "\n",
        "\n",
        "\n",
        "\n",
        "\n",
        "\n",
        "\n",
        "\n"
      ]
    },
    {
      "cell_type": "markdown",
      "metadata": {
        "id": "T6dVyXZ73vIh"
      },
      "source": [
        "> # **TEAM MEMBERS**\n",
        "\n",
        "**1.**   **Sanyam Bothra-E20CSE151**\n",
        "\n",
        "**2.**   **Ishita Goyal-E20CSE153**\n",
        "\n",
        "**3.**   **Sneha Gupta-E20CSE154**\n",
        "\n",
        "\n",
        "\n"
      ]
    },
    {
      "cell_type": "markdown",
      "metadata": {
        "id": "haCYp9f2yGis"
      },
      "source": [
        "\n",
        "\n",
        "> # **Step 1 - Select a real-world dataset**\n",
        "\n"
      ]
    },
    {
      "cell_type": "markdown",
      "metadata": {
        "id": "hkSmErmYQFsJ"
      },
      "source": [
        "**We have taken the dataset of edx courses till 2020.**\n",
        "\n",
        "**The following are the analytic tasks we have performed:**\n",
        "\n",
        "**TASK 1-What is the optimum course length of the courses?**\n",
        "\n",
        "**TASK 2-How many courses provide Introductory, Intermediate and Advanced levels?**\n",
        "\n",
        "**TASK 3-What is number of courses offered by each subject?**\n",
        "\n",
        "**TASK 4-Which University is providing most courses?**\n",
        "\n",
        "**TASK 5-What is the mean price offered by every subject?**\n",
        "\n",
        "**TASK 6 - Which course length has the maximum enrollments?**\n",
        "\n",
        "**TASK 7 - What is the number of enrollments in each level?**"
      ]
    },
    {
      "cell_type": "markdown",
      "metadata": {
        "id": "gjhhvvQvQMaJ"
      },
      "source": [
        "**The working of this project is based on Pandas and various data visualization libraries of Python:**\n",
        "\n",
        "\n",
        "\n",
        "**1.**   **Matplotlib**\n",
        "\n",
        "**2.**   **Plotly**\n",
        "\n",
        "**3. Seaborn**\n",
        "\n",
        "\n"
      ]
    },
    {
      "cell_type": "code",
      "metadata": {
        "id": "4kZA16_0_ol2"
      },
      "source": [
        "import pandas as pd\n",
        "import io\n",
        "import matplotlib.pyplot as plt\n",
        "from collections import Counter\n",
        "import plotly.express as px\n",
        "import plotly.graph_objects as go\n",
        "import seaborn as sns\n",
        "import matplotlib.pyplot as plt\n"
      ],
      "execution_count": 1,
      "outputs": []
    },
    {
      "cell_type": "code",
      "metadata": {
        "id": "7d0cEkHCI97_",
        "colab": {
          "base_uri": "https://localhost:8080/",
          "height": 1000
        },
        "outputId": "6cff19bf-fcbe-43ff-faa4-71174a76cb7a"
      },
      "source": [
        "edx=pd.read_csv(\"edx_courses.csv\")          #To read the csv file and create a dataframe edx\n",
        "edx\n"
      ],
      "execution_count": 2,
      "outputs": [
        {
          "output_type": "execute_result",
          "data": {
            "text/html": [
              "<div>\n",
              "<style scoped>\n",
              "    .dataframe tbody tr th:only-of-type {\n",
              "        vertical-align: middle;\n",
              "    }\n",
              "\n",
              "    .dataframe tbody tr th {\n",
              "        vertical-align: top;\n",
              "    }\n",
              "\n",
              "    .dataframe thead th {\n",
              "        text-align: right;\n",
              "    }\n",
              "</style>\n",
              "<table border=\"1\" class=\"dataframe\">\n",
              "  <thead>\n",
              "    <tr style=\"text-align: right;\">\n",
              "      <th></th>\n",
              "      <th>title</th>\n",
              "      <th>summary</th>\n",
              "      <th>n_enrolled</th>\n",
              "      <th>course_type</th>\n",
              "      <th>institution</th>\n",
              "      <th>instructors</th>\n",
              "      <th>Level</th>\n",
              "      <th>subject</th>\n",
              "      <th>language</th>\n",
              "      <th>subtitles</th>\n",
              "      <th>course_effort</th>\n",
              "      <th>course_length</th>\n",
              "      <th>price</th>\n",
              "      <th>course_description</th>\n",
              "      <th>course_syllabus</th>\n",
              "      <th>course_url</th>\n",
              "    </tr>\n",
              "  </thead>\n",
              "  <tbody>\n",
              "    <tr>\n",
              "      <th>0</th>\n",
              "      <td>How to Learn Online</td>\n",
              "      <td>Learn essential strategies for successful onli...</td>\n",
              "      <td>124,980</td>\n",
              "      <td>Self-paced on your time</td>\n",
              "      <td>edX</td>\n",
              "      <td>Nina Huntemann-Robyn Belair-Ben Piscopo</td>\n",
              "      <td>Introductory</td>\n",
              "      <td>Education &amp; Teacher Training</td>\n",
              "      <td>English</td>\n",
              "      <td>English</td>\n",
              "      <td>2–3 hours per week</td>\n",
              "      <td>2 Weeks</td>\n",
              "      <td>FREE-Add a Verified Certificate for $49 USD</td>\n",
              "      <td>Designed for those who are new to elearning, t...</td>\n",
              "      <td>Welcome - We start with opportunities to meet ...</td>\n",
              "      <td>https://www.edx.org/course/how-to-learn-online</td>\n",
              "    </tr>\n",
              "    <tr>\n",
              "      <th>1</th>\n",
              "      <td>Programming for Everybody (Getting Started wit...</td>\n",
              "      <td>This course is a \"no prerequisite\" introductio...</td>\n",
              "      <td>293,864</td>\n",
              "      <td>Self-paced on your time</td>\n",
              "      <td>The University of Michigan</td>\n",
              "      <td>Charles Severance</td>\n",
              "      <td>Introductory</td>\n",
              "      <td>Computer Science</td>\n",
              "      <td>English</td>\n",
              "      <td>English</td>\n",
              "      <td>2–4 hours per week</td>\n",
              "      <td>7 Weeks</td>\n",
              "      <td>FREE-Add a Verified Certificate for $49 USD</td>\n",
              "      <td>This course aims to teach everyone the basics ...</td>\n",
              "      <td>NaN</td>\n",
              "      <td>https://www.edx.org/course/programming-for-eve...</td>\n",
              "    </tr>\n",
              "    <tr>\n",
              "      <th>2</th>\n",
              "      <td>CS50's Introduction to Computer Science</td>\n",
              "      <td>An introduction to the intellectual enterprise...</td>\n",
              "      <td>2,442,271</td>\n",
              "      <td>Self-paced on your time</td>\n",
              "      <td>Harvard University</td>\n",
              "      <td>David J. Malan-Doug Lloyd-Brian Yu</td>\n",
              "      <td>Introductory</td>\n",
              "      <td>Computer Science</td>\n",
              "      <td>English</td>\n",
              "      <td>English</td>\n",
              "      <td>6–18 hours per week</td>\n",
              "      <td>12 Weeks</td>\n",
              "      <td>FREE-Add a Verified Certificate for $90 USD</td>\n",
              "      <td>This is CS50x , Harvard University's introduct...</td>\n",
              "      <td>NaN</td>\n",
              "      <td>https://www.edx.org/course/cs50s-introduction-...</td>\n",
              "    </tr>\n",
              "    <tr>\n",
              "      <th>3</th>\n",
              "      <td>The Analytics Edge</td>\n",
              "      <td>Through inspiring examples and stories, discov...</td>\n",
              "      <td>129,555</td>\n",
              "      <td>Instructor-led on a course schedule</td>\n",
              "      <td>Massachusetts Institute of Technology</td>\n",
              "      <td>Dimitris Bertsimas-Allison O'Hair-John Silberh...</td>\n",
              "      <td>Intermediate</td>\n",
              "      <td>Data Analysis &amp; Statistics</td>\n",
              "      <td>English</td>\n",
              "      <td>English</td>\n",
              "      <td>10–15 hours per week</td>\n",
              "      <td>13 Weeks</td>\n",
              "      <td>FREE-Add a Verified Certificate for $199 USD</td>\n",
              "      <td>In the last decade, the amount of data availab...</td>\n",
              "      <td>NaN</td>\n",
              "      <td>https://www.edx.org/course/the-analytics-edge</td>\n",
              "    </tr>\n",
              "    <tr>\n",
              "      <th>4</th>\n",
              "      <td>Marketing Analytics: Marketing Measurement Str...</td>\n",
              "      <td>This course is part of a MicroMasters® Program</td>\n",
              "      <td>81,140</td>\n",
              "      <td>Self-paced on your time</td>\n",
              "      <td>University of California, Berkeley</td>\n",
              "      <td>Stephan Sorger</td>\n",
              "      <td>Introductory</td>\n",
              "      <td>Computer Science</td>\n",
              "      <td>English</td>\n",
              "      <td>English</td>\n",
              "      <td>5–7 hours per week</td>\n",
              "      <td>4 Weeks</td>\n",
              "      <td>FREE-Add a Verified Certificate for $249 USD</td>\n",
              "      <td>Begin your journey in a new career in marketin...</td>\n",
              "      <td>NaN</td>\n",
              "      <td>https://www.edx.org/course/marketing-analytics...</td>\n",
              "    </tr>\n",
              "    <tr>\n",
              "      <th>...</th>\n",
              "      <td>...</td>\n",
              "      <td>...</td>\n",
              "      <td>...</td>\n",
              "      <td>...</td>\n",
              "      <td>...</td>\n",
              "      <td>...</td>\n",
              "      <td>...</td>\n",
              "      <td>...</td>\n",
              "      <td>...</td>\n",
              "      <td>...</td>\n",
              "      <td>...</td>\n",
              "      <td>...</td>\n",
              "      <td>...</td>\n",
              "      <td>...</td>\n",
              "      <td>...</td>\n",
              "      <td>...</td>\n",
              "    </tr>\n",
              "    <tr>\n",
              "      <th>970</th>\n",
              "      <td>Leaders in Citizen Security and Justice Manage...</td>\n",
              "      <td>Learn about the latest in prevention, police a...</td>\n",
              "      <td>NaN</td>\n",
              "      <td>Self-paced on your time</td>\n",
              "      <td>Inter-American Development Bank</td>\n",
              "      <td>Olga Espinoza-Eduardo Pazinato-Alejandra Mera-...</td>\n",
              "      <td>Intermediate</td>\n",
              "      <td>Social Sciences</td>\n",
              "      <td>English</td>\n",
              "      <td>English</td>\n",
              "      <td>4–5 hours per week</td>\n",
              "      <td>10 Weeks</td>\n",
              "      <td>FREE-Add a Verified Certificate for $25 USD</td>\n",
              "      <td>The high rates of crime and violence are two o...</td>\n",
              "      <td>NaN</td>\n",
              "      <td>https://www.edx.org/course/leaders-in-citizen-...</td>\n",
              "    </tr>\n",
              "    <tr>\n",
              "      <th>971</th>\n",
              "      <td>Pattern Studying and Making | 图案审美与创作</td>\n",
              "      <td>Fantastic experiences in beauty and its repres...</td>\n",
              "      <td>NaN</td>\n",
              "      <td>Self-paced on your time</td>\n",
              "      <td>Tsinghua University</td>\n",
              "      <td>Yuehua Nie</td>\n",
              "      <td>Introductory</td>\n",
              "      <td>Art &amp; Culture</td>\n",
              "      <td>中文</td>\n",
              "      <td>English, 中文</td>\n",
              "      <td>3–5 hours per week</td>\n",
              "      <td>12 Weeks</td>\n",
              "      <td>FREE-Add a Verified Certificate for $139 USD</td>\n",
              "      <td>Are you an original designer? Or a DIY fancier...</td>\n",
              "      <td>NaN</td>\n",
              "      <td>https://www.edx.org/course/pattern-studying-an...</td>\n",
              "    </tr>\n",
              "    <tr>\n",
              "      <th>972</th>\n",
              "      <td>Computational Neuroscience: Neuronal Dynamics ...</td>\n",
              "      <td>This course explains the mathematical and comp...</td>\n",
              "      <td>11,246</td>\n",
              "      <td>Self-paced on your time</td>\n",
              "      <td>École polytechnique fédérale de Lausanne</td>\n",
              "      <td>Wulfram Gerstner</td>\n",
              "      <td>Advanced</td>\n",
              "      <td>Biology &amp; Life Sciences</td>\n",
              "      <td>English</td>\n",
              "      <td>English</td>\n",
              "      <td>4–6 hours per week</td>\n",
              "      <td>6 Weeks</td>\n",
              "      <td>FREE-Add a Verified Certificate for $139 USD</td>\n",
              "      <td>What happens in your brain when you make a dec...</td>\n",
              "      <td>Textbook: Neuronal Dynamics - from single neur...</td>\n",
              "      <td>https://www.edx.org/course/computational-neuro...</td>\n",
              "    </tr>\n",
              "    <tr>\n",
              "      <th>973</th>\n",
              "      <td>Cities and the Challenge of Sustainable Develo...</td>\n",
              "      <td>What is a sustainable city? Learn the basics h...</td>\n",
              "      <td>8,775</td>\n",
              "      <td>Self-paced on your time</td>\n",
              "      <td>SDG Academy</td>\n",
              "      <td>Jeffrey D. Sachs</td>\n",
              "      <td>Introductory</td>\n",
              "      <td>Environmental Studies</td>\n",
              "      <td>English</td>\n",
              "      <td>English</td>\n",
              "      <td>1–2 hours per week</td>\n",
              "      <td>1 Weeks</td>\n",
              "      <td>FREE-Add a Verified Certificate for $25 USD</td>\n",
              "      <td>According to the United Nations, urbanization ...</td>\n",
              "      <td>Module 1: Introduction to the SDGsProfessor Je...</td>\n",
              "      <td>https://www.edx.org/course/cities-and-the-chal...</td>\n",
              "    </tr>\n",
              "    <tr>\n",
              "      <th>974</th>\n",
              "      <td>MathTrackX: Special Functions</td>\n",
              "      <td>Understand trigonometric, exponential and loga...</td>\n",
              "      <td>NaN</td>\n",
              "      <td>Self-paced on your time</td>\n",
              "      <td>University of Adelaide</td>\n",
              "      <td>Dr David Butler</td>\n",
              "      <td>Introductory</td>\n",
              "      <td>Math</td>\n",
              "      <td>English</td>\n",
              "      <td>English</td>\n",
              "      <td>3–6 hours per week</td>\n",
              "      <td>4 Weeks</td>\n",
              "      <td>FREE-Add a Verified Certificate for $79 USD</td>\n",
              "      <td>This course is part two of the MathTrackX XSer...</td>\n",
              "      <td>NaN</td>\n",
              "      <td>https://www.edx.org/course/mathtrackx-special-...</td>\n",
              "    </tr>\n",
              "  </tbody>\n",
              "</table>\n",
              "<p>975 rows × 16 columns</p>\n",
              "</div>"
            ],
            "text/plain": [
              "                                                 title  ...                                         course_url\n",
              "0                                  How to Learn Online  ...     https://www.edx.org/course/how-to-learn-online\n",
              "1    Programming for Everybody (Getting Started wit...  ...  https://www.edx.org/course/programming-for-eve...\n",
              "2              CS50's Introduction to Computer Science  ...  https://www.edx.org/course/cs50s-introduction-...\n",
              "3                                   The Analytics Edge  ...      https://www.edx.org/course/the-analytics-edge\n",
              "4    Marketing Analytics: Marketing Measurement Str...  ...  https://www.edx.org/course/marketing-analytics...\n",
              "..                                                 ...  ...                                                ...\n",
              "970  Leaders in Citizen Security and Justice Manage...  ...  https://www.edx.org/course/leaders-in-citizen-...\n",
              "971              Pattern Studying and Making | 图案审美与创作  ...  https://www.edx.org/course/pattern-studying-an...\n",
              "972  Computational Neuroscience: Neuronal Dynamics ...  ...  https://www.edx.org/course/computational-neuro...\n",
              "973  Cities and the Challenge of Sustainable Develo...  ...  https://www.edx.org/course/cities-and-the-chal...\n",
              "974                      MathTrackX: Special Functions  ...  https://www.edx.org/course/mathtrackx-special-...\n",
              "\n",
              "[975 rows x 16 columns]"
            ]
          },
          "metadata": {},
          "execution_count": 2
        }
      ]
    },
    {
      "cell_type": "markdown",
      "metadata": {
        "id": "sJO89AttyY93"
      },
      "source": [
        "\n",
        "\n",
        "> # **Step 2 - Perform Data Preparation and Cleaning**\n",
        "\n"
      ]
    },
    {
      "cell_type": "markdown",
      "metadata": {
        "id": "h88zIID-RsIt"
      },
      "source": [
        "# **DATA CLEANING**\n",
        "**We have loaded the dataset into data frame using Pandas. Our dataset is in the CSV format which has 975 rows x 16 columns.**\n",
        "\n",
        "**We will be cleaning some of the columns from our orginal data:**\n",
        "\n",
        "*   **course_description**\n",
        "*   **course_syllabus**\n",
        "*   **course_url**\n",
        "*   **summary**\n",
        "*   **language**\n",
        "*   **subtitles**\n",
        "\n",
        "**Also, we will be deleting some of the records which have null value and creating additional columns by splitting the original columns.**\n",
        "\n",
        "**The above data cleaning will help in better understanding, clear data visualization and analysis.**\n",
        "\n",
        "\n",
        "\n",
        "\n",
        "\n"
      ]
    },
    {
      "cell_type": "code",
      "metadata": {
        "id": "5fN6_jdBKvXg",
        "colab": {
          "base_uri": "https://localhost:8080/",
          "height": 1000
        },
        "outputId": "59404619-f9f6-4643-a807-9d889aeff69e"
      },
      "source": [
        "edx.drop([\"course_description\",\"course_syllabus\",\"course_url\",\"summary\",\"language\",\"subtitles\"],axis=1,inplace=True)   #Dropping the columns which are not required in analysis\n",
        "edx['n_enrolled']=edx['n_enrolled'].str.replace(',','')                                                                #To remove ',' and replace it with blank space\n",
        "edx.dropna(subset = [\"n_enrolled\"], inplace=True)                                                                      # Droping the NaN values from n_enrolled\n",
        "edx=edx.reset_index(drop=True)                                                                                         #To reset the index of the table \n",
        "edx                                                                                                                    #calling dataframe to display"
      ],
      "execution_count": 3,
      "outputs": [
        {
          "output_type": "execute_result",
          "data": {
            "text/html": [
              "<div>\n",
              "<style scoped>\n",
              "    .dataframe tbody tr th:only-of-type {\n",
              "        vertical-align: middle;\n",
              "    }\n",
              "\n",
              "    .dataframe tbody tr th {\n",
              "        vertical-align: top;\n",
              "    }\n",
              "\n",
              "    .dataframe thead th {\n",
              "        text-align: right;\n",
              "    }\n",
              "</style>\n",
              "<table border=\"1\" class=\"dataframe\">\n",
              "  <thead>\n",
              "    <tr style=\"text-align: right;\">\n",
              "      <th></th>\n",
              "      <th>title</th>\n",
              "      <th>n_enrolled</th>\n",
              "      <th>course_type</th>\n",
              "      <th>institution</th>\n",
              "      <th>instructors</th>\n",
              "      <th>Level</th>\n",
              "      <th>subject</th>\n",
              "      <th>course_effort</th>\n",
              "      <th>course_length</th>\n",
              "      <th>price</th>\n",
              "    </tr>\n",
              "  </thead>\n",
              "  <tbody>\n",
              "    <tr>\n",
              "      <th>0</th>\n",
              "      <td>How to Learn Online</td>\n",
              "      <td>124980</td>\n",
              "      <td>Self-paced on your time</td>\n",
              "      <td>edX</td>\n",
              "      <td>Nina Huntemann-Robyn Belair-Ben Piscopo</td>\n",
              "      <td>Introductory</td>\n",
              "      <td>Education &amp; Teacher Training</td>\n",
              "      <td>2–3 hours per week</td>\n",
              "      <td>2 Weeks</td>\n",
              "      <td>FREE-Add a Verified Certificate for $49 USD</td>\n",
              "    </tr>\n",
              "    <tr>\n",
              "      <th>1</th>\n",
              "      <td>Programming for Everybody (Getting Started wit...</td>\n",
              "      <td>293864</td>\n",
              "      <td>Self-paced on your time</td>\n",
              "      <td>The University of Michigan</td>\n",
              "      <td>Charles Severance</td>\n",
              "      <td>Introductory</td>\n",
              "      <td>Computer Science</td>\n",
              "      <td>2–4 hours per week</td>\n",
              "      <td>7 Weeks</td>\n",
              "      <td>FREE-Add a Verified Certificate for $49 USD</td>\n",
              "    </tr>\n",
              "    <tr>\n",
              "      <th>2</th>\n",
              "      <td>CS50's Introduction to Computer Science</td>\n",
              "      <td>2442271</td>\n",
              "      <td>Self-paced on your time</td>\n",
              "      <td>Harvard University</td>\n",
              "      <td>David J. Malan-Doug Lloyd-Brian Yu</td>\n",
              "      <td>Introductory</td>\n",
              "      <td>Computer Science</td>\n",
              "      <td>6–18 hours per week</td>\n",
              "      <td>12 Weeks</td>\n",
              "      <td>FREE-Add a Verified Certificate for $90 USD</td>\n",
              "    </tr>\n",
              "    <tr>\n",
              "      <th>3</th>\n",
              "      <td>The Analytics Edge</td>\n",
              "      <td>129555</td>\n",
              "      <td>Instructor-led on a course schedule</td>\n",
              "      <td>Massachusetts Institute of Technology</td>\n",
              "      <td>Dimitris Bertsimas-Allison O'Hair-John Silberh...</td>\n",
              "      <td>Intermediate</td>\n",
              "      <td>Data Analysis &amp; Statistics</td>\n",
              "      <td>10–15 hours per week</td>\n",
              "      <td>13 Weeks</td>\n",
              "      <td>FREE-Add a Verified Certificate for $199 USD</td>\n",
              "    </tr>\n",
              "    <tr>\n",
              "      <th>4</th>\n",
              "      <td>Marketing Analytics: Marketing Measurement Str...</td>\n",
              "      <td>81140</td>\n",
              "      <td>Self-paced on your time</td>\n",
              "      <td>University of California, Berkeley</td>\n",
              "      <td>Stephan Sorger</td>\n",
              "      <td>Introductory</td>\n",
              "      <td>Computer Science</td>\n",
              "      <td>5–7 hours per week</td>\n",
              "      <td>4 Weeks</td>\n",
              "      <td>FREE-Add a Verified Certificate for $249 USD</td>\n",
              "    </tr>\n",
              "    <tr>\n",
              "      <th>...</th>\n",
              "      <td>...</td>\n",
              "      <td>...</td>\n",
              "      <td>...</td>\n",
              "      <td>...</td>\n",
              "      <td>...</td>\n",
              "      <td>...</td>\n",
              "      <td>...</td>\n",
              "      <td>...</td>\n",
              "      <td>...</td>\n",
              "      <td>...</td>\n",
              "    </tr>\n",
              "    <tr>\n",
              "      <th>850</th>\n",
              "      <td>StudioX: Creating a Course with edX Studio</td>\n",
              "      <td>20355</td>\n",
              "      <td>Self-paced on your time</td>\n",
              "      <td>edX</td>\n",
              "      <td>Nina Huntemann-Ben Piscopo</td>\n",
              "      <td>Introductory</td>\n",
              "      <td>Education &amp; Teacher Training</td>\n",
              "      <td>4–6 hours per week</td>\n",
              "      <td>3 Weeks</td>\n",
              "      <td>FREE-Add a Verified Certificate for $99 USD</td>\n",
              "    </tr>\n",
              "    <tr>\n",
              "      <th>851</th>\n",
              "      <td>Introducción a las ondas gravitacionales</td>\n",
              "      <td>8657</td>\n",
              "      <td>Self-paced on your time</td>\n",
              "      <td>Universidad Nacional de Córdoba</td>\n",
              "      <td>Gabriela González</td>\n",
              "      <td>Introductory</td>\n",
              "      <td>Science</td>\n",
              "      <td>5–7 hours per week</td>\n",
              "      <td>4 Weeks</td>\n",
              "      <td>FREE-Add a Verified Certificate for $50 USD</td>\n",
              "    </tr>\n",
              "    <tr>\n",
              "      <th>852</th>\n",
              "      <td>Global China: From the Mongols to the Ming</td>\n",
              "      <td>41902</td>\n",
              "      <td>Self-paced on your time</td>\n",
              "      <td>Harvard University</td>\n",
              "      <td>Peter K. Bol-William C. Kirby</td>\n",
              "      <td>Introductory</td>\n",
              "      <td>History</td>\n",
              "      <td>1–3 hours per week</td>\n",
              "      <td>15 Weeks</td>\n",
              "      <td>FREE-Add a Verified Certificate for $139 USD</td>\n",
              "    </tr>\n",
              "    <tr>\n",
              "      <th>853</th>\n",
              "      <td>Computational Neuroscience: Neuronal Dynamics ...</td>\n",
              "      <td>11246</td>\n",
              "      <td>Self-paced on your time</td>\n",
              "      <td>École polytechnique fédérale de Lausanne</td>\n",
              "      <td>Wulfram Gerstner</td>\n",
              "      <td>Advanced</td>\n",
              "      <td>Biology &amp; Life Sciences</td>\n",
              "      <td>4–6 hours per week</td>\n",
              "      <td>6 Weeks</td>\n",
              "      <td>FREE-Add a Verified Certificate for $139 USD</td>\n",
              "    </tr>\n",
              "    <tr>\n",
              "      <th>854</th>\n",
              "      <td>Cities and the Challenge of Sustainable Develo...</td>\n",
              "      <td>8775</td>\n",
              "      <td>Self-paced on your time</td>\n",
              "      <td>SDG Academy</td>\n",
              "      <td>Jeffrey D. Sachs</td>\n",
              "      <td>Introductory</td>\n",
              "      <td>Environmental Studies</td>\n",
              "      <td>1–2 hours per week</td>\n",
              "      <td>1 Weeks</td>\n",
              "      <td>FREE-Add a Verified Certificate for $25 USD</td>\n",
              "    </tr>\n",
              "  </tbody>\n",
              "</table>\n",
              "<p>855 rows × 10 columns</p>\n",
              "</div>"
            ],
            "text/plain": [
              "                                                 title  ...                                         price\n",
              "0                                  How to Learn Online  ...   FREE-Add a Verified Certificate for $49 USD\n",
              "1    Programming for Everybody (Getting Started wit...  ...   FREE-Add a Verified Certificate for $49 USD\n",
              "2              CS50's Introduction to Computer Science  ...   FREE-Add a Verified Certificate for $90 USD\n",
              "3                                   The Analytics Edge  ...  FREE-Add a Verified Certificate for $199 USD\n",
              "4    Marketing Analytics: Marketing Measurement Str...  ...  FREE-Add a Verified Certificate for $249 USD\n",
              "..                                                 ...  ...                                           ...\n",
              "850         StudioX: Creating a Course with edX Studio  ...   FREE-Add a Verified Certificate for $99 USD\n",
              "851           Introducción a las ondas gravitacionales  ...   FREE-Add a Verified Certificate for $50 USD\n",
              "852         Global China: From the Mongols to the Ming  ...  FREE-Add a Verified Certificate for $139 USD\n",
              "853  Computational Neuroscience: Neuronal Dynamics ...  ...  FREE-Add a Verified Certificate for $139 USD\n",
              "854  Cities and the Challenge of Sustainable Develo...  ...   FREE-Add a Verified Certificate for $25 USD\n",
              "\n",
              "[855 rows x 10 columns]"
            ]
          },
          "metadata": {},
          "execution_count": 3
        }
      ]
    },
    {
      "cell_type": "markdown",
      "metadata": {
        "id": "pKtX4ON5hHCP"
      },
      "source": [
        "# **Splitting of price column**"
      ]
    },
    {
      "cell_type": "code",
      "metadata": {
        "colab": {
          "base_uri": "https://localhost:8080/",
          "height": 1000
        },
        "id": "_iR7f-kcaI8g",
        "outputId": "f471ca04-3218-4356-e636-c2b0f66ae7cf"
      },
      "source": [
        "z=edx['price'].str.split('FREE-Add a Verified Certificate for').str.get(1)      #To extract the $cost USD by using splitting at 'FREE-Add a Verified Certificate for'\n",
        "z\n",
        "\n",
        "edx['cost of verified certificate']=None                                        #Creating a new column and declaring it with none values for every row\n",
        "index_description=edx.columns.get_loc('title')                                  # Taking reference of index from 'title' column\n",
        "index_date=edx.columns.get_loc('cost of verified certificate')                  #To set the index of cost column accroding to 'title'\n",
        "e=z.str.split('$')                                                              #To remove dollar from the entries in cost column\n",
        "for i in range(0,855):\n",
        "    t=(e[i][1])                                                                 #Creating a variable t and storing number+USD\n",
        "    b=t.split()                                                                 #splitting t according to space and storing only numerical value in b\n",
        "    edx.iat[i,index_date]=b[0]          \n",
        "edx"
      ],
      "execution_count": 4,
      "outputs": [
        {
          "output_type": "execute_result",
          "data": {
            "text/html": [
              "<div>\n",
              "<style scoped>\n",
              "    .dataframe tbody tr th:only-of-type {\n",
              "        vertical-align: middle;\n",
              "    }\n",
              "\n",
              "    .dataframe tbody tr th {\n",
              "        vertical-align: top;\n",
              "    }\n",
              "\n",
              "    .dataframe thead th {\n",
              "        text-align: right;\n",
              "    }\n",
              "</style>\n",
              "<table border=\"1\" class=\"dataframe\">\n",
              "  <thead>\n",
              "    <tr style=\"text-align: right;\">\n",
              "      <th></th>\n",
              "      <th>title</th>\n",
              "      <th>n_enrolled</th>\n",
              "      <th>course_type</th>\n",
              "      <th>institution</th>\n",
              "      <th>instructors</th>\n",
              "      <th>Level</th>\n",
              "      <th>subject</th>\n",
              "      <th>course_effort</th>\n",
              "      <th>course_length</th>\n",
              "      <th>price</th>\n",
              "      <th>cost of verified certificate</th>\n",
              "    </tr>\n",
              "  </thead>\n",
              "  <tbody>\n",
              "    <tr>\n",
              "      <th>0</th>\n",
              "      <td>How to Learn Online</td>\n",
              "      <td>124980</td>\n",
              "      <td>Self-paced on your time</td>\n",
              "      <td>edX</td>\n",
              "      <td>Nina Huntemann-Robyn Belair-Ben Piscopo</td>\n",
              "      <td>Introductory</td>\n",
              "      <td>Education &amp; Teacher Training</td>\n",
              "      <td>2–3 hours per week</td>\n",
              "      <td>2 Weeks</td>\n",
              "      <td>FREE-Add a Verified Certificate for $49 USD</td>\n",
              "      <td>49</td>\n",
              "    </tr>\n",
              "    <tr>\n",
              "      <th>1</th>\n",
              "      <td>Programming for Everybody (Getting Started wit...</td>\n",
              "      <td>293864</td>\n",
              "      <td>Self-paced on your time</td>\n",
              "      <td>The University of Michigan</td>\n",
              "      <td>Charles Severance</td>\n",
              "      <td>Introductory</td>\n",
              "      <td>Computer Science</td>\n",
              "      <td>2–4 hours per week</td>\n",
              "      <td>7 Weeks</td>\n",
              "      <td>FREE-Add a Verified Certificate for $49 USD</td>\n",
              "      <td>49</td>\n",
              "    </tr>\n",
              "    <tr>\n",
              "      <th>2</th>\n",
              "      <td>CS50's Introduction to Computer Science</td>\n",
              "      <td>2442271</td>\n",
              "      <td>Self-paced on your time</td>\n",
              "      <td>Harvard University</td>\n",
              "      <td>David J. Malan-Doug Lloyd-Brian Yu</td>\n",
              "      <td>Introductory</td>\n",
              "      <td>Computer Science</td>\n",
              "      <td>6–18 hours per week</td>\n",
              "      <td>12 Weeks</td>\n",
              "      <td>FREE-Add a Verified Certificate for $90 USD</td>\n",
              "      <td>90</td>\n",
              "    </tr>\n",
              "    <tr>\n",
              "      <th>3</th>\n",
              "      <td>The Analytics Edge</td>\n",
              "      <td>129555</td>\n",
              "      <td>Instructor-led on a course schedule</td>\n",
              "      <td>Massachusetts Institute of Technology</td>\n",
              "      <td>Dimitris Bertsimas-Allison O'Hair-John Silberh...</td>\n",
              "      <td>Intermediate</td>\n",
              "      <td>Data Analysis &amp; Statistics</td>\n",
              "      <td>10–15 hours per week</td>\n",
              "      <td>13 Weeks</td>\n",
              "      <td>FREE-Add a Verified Certificate for $199 USD</td>\n",
              "      <td>199</td>\n",
              "    </tr>\n",
              "    <tr>\n",
              "      <th>4</th>\n",
              "      <td>Marketing Analytics: Marketing Measurement Str...</td>\n",
              "      <td>81140</td>\n",
              "      <td>Self-paced on your time</td>\n",
              "      <td>University of California, Berkeley</td>\n",
              "      <td>Stephan Sorger</td>\n",
              "      <td>Introductory</td>\n",
              "      <td>Computer Science</td>\n",
              "      <td>5–7 hours per week</td>\n",
              "      <td>4 Weeks</td>\n",
              "      <td>FREE-Add a Verified Certificate for $249 USD</td>\n",
              "      <td>249</td>\n",
              "    </tr>\n",
              "    <tr>\n",
              "      <th>...</th>\n",
              "      <td>...</td>\n",
              "      <td>...</td>\n",
              "      <td>...</td>\n",
              "      <td>...</td>\n",
              "      <td>...</td>\n",
              "      <td>...</td>\n",
              "      <td>...</td>\n",
              "      <td>...</td>\n",
              "      <td>...</td>\n",
              "      <td>...</td>\n",
              "      <td>...</td>\n",
              "    </tr>\n",
              "    <tr>\n",
              "      <th>850</th>\n",
              "      <td>StudioX: Creating a Course with edX Studio</td>\n",
              "      <td>20355</td>\n",
              "      <td>Self-paced on your time</td>\n",
              "      <td>edX</td>\n",
              "      <td>Nina Huntemann-Ben Piscopo</td>\n",
              "      <td>Introductory</td>\n",
              "      <td>Education &amp; Teacher Training</td>\n",
              "      <td>4–6 hours per week</td>\n",
              "      <td>3 Weeks</td>\n",
              "      <td>FREE-Add a Verified Certificate for $99 USD</td>\n",
              "      <td>99</td>\n",
              "    </tr>\n",
              "    <tr>\n",
              "      <th>851</th>\n",
              "      <td>Introducción a las ondas gravitacionales</td>\n",
              "      <td>8657</td>\n",
              "      <td>Self-paced on your time</td>\n",
              "      <td>Universidad Nacional de Córdoba</td>\n",
              "      <td>Gabriela González</td>\n",
              "      <td>Introductory</td>\n",
              "      <td>Science</td>\n",
              "      <td>5–7 hours per week</td>\n",
              "      <td>4 Weeks</td>\n",
              "      <td>FREE-Add a Verified Certificate for $50 USD</td>\n",
              "      <td>50</td>\n",
              "    </tr>\n",
              "    <tr>\n",
              "      <th>852</th>\n",
              "      <td>Global China: From the Mongols to the Ming</td>\n",
              "      <td>41902</td>\n",
              "      <td>Self-paced on your time</td>\n",
              "      <td>Harvard University</td>\n",
              "      <td>Peter K. Bol-William C. Kirby</td>\n",
              "      <td>Introductory</td>\n",
              "      <td>History</td>\n",
              "      <td>1–3 hours per week</td>\n",
              "      <td>15 Weeks</td>\n",
              "      <td>FREE-Add a Verified Certificate for $139 USD</td>\n",
              "      <td>139</td>\n",
              "    </tr>\n",
              "    <tr>\n",
              "      <th>853</th>\n",
              "      <td>Computational Neuroscience: Neuronal Dynamics ...</td>\n",
              "      <td>11246</td>\n",
              "      <td>Self-paced on your time</td>\n",
              "      <td>École polytechnique fédérale de Lausanne</td>\n",
              "      <td>Wulfram Gerstner</td>\n",
              "      <td>Advanced</td>\n",
              "      <td>Biology &amp; Life Sciences</td>\n",
              "      <td>4–6 hours per week</td>\n",
              "      <td>6 Weeks</td>\n",
              "      <td>FREE-Add a Verified Certificate for $139 USD</td>\n",
              "      <td>139</td>\n",
              "    </tr>\n",
              "    <tr>\n",
              "      <th>854</th>\n",
              "      <td>Cities and the Challenge of Sustainable Develo...</td>\n",
              "      <td>8775</td>\n",
              "      <td>Self-paced on your time</td>\n",
              "      <td>SDG Academy</td>\n",
              "      <td>Jeffrey D. Sachs</td>\n",
              "      <td>Introductory</td>\n",
              "      <td>Environmental Studies</td>\n",
              "      <td>1–2 hours per week</td>\n",
              "      <td>1 Weeks</td>\n",
              "      <td>FREE-Add a Verified Certificate for $25 USD</td>\n",
              "      <td>25</td>\n",
              "    </tr>\n",
              "  </tbody>\n",
              "</table>\n",
              "<p>855 rows × 11 columns</p>\n",
              "</div>"
            ],
            "text/plain": [
              "                                                 title  ... cost of verified certificate\n",
              "0                                  How to Learn Online  ...                           49\n",
              "1    Programming for Everybody (Getting Started wit...  ...                           49\n",
              "2              CS50's Introduction to Computer Science  ...                           90\n",
              "3                                   The Analytics Edge  ...                          199\n",
              "4    Marketing Analytics: Marketing Measurement Str...  ...                          249\n",
              "..                                                 ...  ...                          ...\n",
              "850         StudioX: Creating a Course with edX Studio  ...                           99\n",
              "851           Introducción a las ondas gravitacionales  ...                           50\n",
              "852         Global China: From the Mongols to the Ming  ...                          139\n",
              "853  Computational Neuroscience: Neuronal Dynamics ...  ...                          139\n",
              "854  Cities and the Challenge of Sustainable Develo...  ...                           25\n",
              "\n",
              "[855 rows x 11 columns]"
            ]
          },
          "metadata": {},
          "execution_count": 4
        }
      ]
    },
    {
      "cell_type": "markdown",
      "metadata": {
        "id": "_webwmNMhVFn"
      },
      "source": [
        "# **Splitting of course_length column**"
      ]
    },
    {
      "cell_type": "code",
      "metadata": {
        "colab": {
          "base_uri": "https://localhost:8080/",
          "height": 1000
        },
        "id": "SmQ84wLSqxBm",
        "outputId": "0ae37d44-e583-492b-bc8c-d7b37abc8c74"
      },
      "source": [
        "edx[['course_length', 'course_int']] = edx['course_length'].str.split(' ', 1, expand=True)    #To extract integer part from course length column\n",
        "edx.drop([\"course_int\"],axis=1,inplace=True)                                                  #Dropping the course_int column as it is not required\n",
        "edx"
      ],
      "execution_count": 5,
      "outputs": [
        {
          "output_type": "execute_result",
          "data": {
            "text/html": [
              "<div>\n",
              "<style scoped>\n",
              "    .dataframe tbody tr th:only-of-type {\n",
              "        vertical-align: middle;\n",
              "    }\n",
              "\n",
              "    .dataframe tbody tr th {\n",
              "        vertical-align: top;\n",
              "    }\n",
              "\n",
              "    .dataframe thead th {\n",
              "        text-align: right;\n",
              "    }\n",
              "</style>\n",
              "<table border=\"1\" class=\"dataframe\">\n",
              "  <thead>\n",
              "    <tr style=\"text-align: right;\">\n",
              "      <th></th>\n",
              "      <th>title</th>\n",
              "      <th>n_enrolled</th>\n",
              "      <th>course_type</th>\n",
              "      <th>institution</th>\n",
              "      <th>instructors</th>\n",
              "      <th>Level</th>\n",
              "      <th>subject</th>\n",
              "      <th>course_effort</th>\n",
              "      <th>course_length</th>\n",
              "      <th>price</th>\n",
              "      <th>cost of verified certificate</th>\n",
              "    </tr>\n",
              "  </thead>\n",
              "  <tbody>\n",
              "    <tr>\n",
              "      <th>0</th>\n",
              "      <td>How to Learn Online</td>\n",
              "      <td>124980</td>\n",
              "      <td>Self-paced on your time</td>\n",
              "      <td>edX</td>\n",
              "      <td>Nina Huntemann-Robyn Belair-Ben Piscopo</td>\n",
              "      <td>Introductory</td>\n",
              "      <td>Education &amp; Teacher Training</td>\n",
              "      <td>2–3 hours per week</td>\n",
              "      <td>2</td>\n",
              "      <td>FREE-Add a Verified Certificate for $49 USD</td>\n",
              "      <td>49</td>\n",
              "    </tr>\n",
              "    <tr>\n",
              "      <th>1</th>\n",
              "      <td>Programming for Everybody (Getting Started wit...</td>\n",
              "      <td>293864</td>\n",
              "      <td>Self-paced on your time</td>\n",
              "      <td>The University of Michigan</td>\n",
              "      <td>Charles Severance</td>\n",
              "      <td>Introductory</td>\n",
              "      <td>Computer Science</td>\n",
              "      <td>2–4 hours per week</td>\n",
              "      <td>7</td>\n",
              "      <td>FREE-Add a Verified Certificate for $49 USD</td>\n",
              "      <td>49</td>\n",
              "    </tr>\n",
              "    <tr>\n",
              "      <th>2</th>\n",
              "      <td>CS50's Introduction to Computer Science</td>\n",
              "      <td>2442271</td>\n",
              "      <td>Self-paced on your time</td>\n",
              "      <td>Harvard University</td>\n",
              "      <td>David J. Malan-Doug Lloyd-Brian Yu</td>\n",
              "      <td>Introductory</td>\n",
              "      <td>Computer Science</td>\n",
              "      <td>6–18 hours per week</td>\n",
              "      <td>12</td>\n",
              "      <td>FREE-Add a Verified Certificate for $90 USD</td>\n",
              "      <td>90</td>\n",
              "    </tr>\n",
              "    <tr>\n",
              "      <th>3</th>\n",
              "      <td>The Analytics Edge</td>\n",
              "      <td>129555</td>\n",
              "      <td>Instructor-led on a course schedule</td>\n",
              "      <td>Massachusetts Institute of Technology</td>\n",
              "      <td>Dimitris Bertsimas-Allison O'Hair-John Silberh...</td>\n",
              "      <td>Intermediate</td>\n",
              "      <td>Data Analysis &amp; Statistics</td>\n",
              "      <td>10–15 hours per week</td>\n",
              "      <td>13</td>\n",
              "      <td>FREE-Add a Verified Certificate for $199 USD</td>\n",
              "      <td>199</td>\n",
              "    </tr>\n",
              "    <tr>\n",
              "      <th>4</th>\n",
              "      <td>Marketing Analytics: Marketing Measurement Str...</td>\n",
              "      <td>81140</td>\n",
              "      <td>Self-paced on your time</td>\n",
              "      <td>University of California, Berkeley</td>\n",
              "      <td>Stephan Sorger</td>\n",
              "      <td>Introductory</td>\n",
              "      <td>Computer Science</td>\n",
              "      <td>5–7 hours per week</td>\n",
              "      <td>4</td>\n",
              "      <td>FREE-Add a Verified Certificate for $249 USD</td>\n",
              "      <td>249</td>\n",
              "    </tr>\n",
              "    <tr>\n",
              "      <th>...</th>\n",
              "      <td>...</td>\n",
              "      <td>...</td>\n",
              "      <td>...</td>\n",
              "      <td>...</td>\n",
              "      <td>...</td>\n",
              "      <td>...</td>\n",
              "      <td>...</td>\n",
              "      <td>...</td>\n",
              "      <td>...</td>\n",
              "      <td>...</td>\n",
              "      <td>...</td>\n",
              "    </tr>\n",
              "    <tr>\n",
              "      <th>850</th>\n",
              "      <td>StudioX: Creating a Course with edX Studio</td>\n",
              "      <td>20355</td>\n",
              "      <td>Self-paced on your time</td>\n",
              "      <td>edX</td>\n",
              "      <td>Nina Huntemann-Ben Piscopo</td>\n",
              "      <td>Introductory</td>\n",
              "      <td>Education &amp; Teacher Training</td>\n",
              "      <td>4–6 hours per week</td>\n",
              "      <td>3</td>\n",
              "      <td>FREE-Add a Verified Certificate for $99 USD</td>\n",
              "      <td>99</td>\n",
              "    </tr>\n",
              "    <tr>\n",
              "      <th>851</th>\n",
              "      <td>Introducción a las ondas gravitacionales</td>\n",
              "      <td>8657</td>\n",
              "      <td>Self-paced on your time</td>\n",
              "      <td>Universidad Nacional de Córdoba</td>\n",
              "      <td>Gabriela González</td>\n",
              "      <td>Introductory</td>\n",
              "      <td>Science</td>\n",
              "      <td>5–7 hours per week</td>\n",
              "      <td>4</td>\n",
              "      <td>FREE-Add a Verified Certificate for $50 USD</td>\n",
              "      <td>50</td>\n",
              "    </tr>\n",
              "    <tr>\n",
              "      <th>852</th>\n",
              "      <td>Global China: From the Mongols to the Ming</td>\n",
              "      <td>41902</td>\n",
              "      <td>Self-paced on your time</td>\n",
              "      <td>Harvard University</td>\n",
              "      <td>Peter K. Bol-William C. Kirby</td>\n",
              "      <td>Introductory</td>\n",
              "      <td>History</td>\n",
              "      <td>1–3 hours per week</td>\n",
              "      <td>15</td>\n",
              "      <td>FREE-Add a Verified Certificate for $139 USD</td>\n",
              "      <td>139</td>\n",
              "    </tr>\n",
              "    <tr>\n",
              "      <th>853</th>\n",
              "      <td>Computational Neuroscience: Neuronal Dynamics ...</td>\n",
              "      <td>11246</td>\n",
              "      <td>Self-paced on your time</td>\n",
              "      <td>École polytechnique fédérale de Lausanne</td>\n",
              "      <td>Wulfram Gerstner</td>\n",
              "      <td>Advanced</td>\n",
              "      <td>Biology &amp; Life Sciences</td>\n",
              "      <td>4–6 hours per week</td>\n",
              "      <td>6</td>\n",
              "      <td>FREE-Add a Verified Certificate for $139 USD</td>\n",
              "      <td>139</td>\n",
              "    </tr>\n",
              "    <tr>\n",
              "      <th>854</th>\n",
              "      <td>Cities and the Challenge of Sustainable Develo...</td>\n",
              "      <td>8775</td>\n",
              "      <td>Self-paced on your time</td>\n",
              "      <td>SDG Academy</td>\n",
              "      <td>Jeffrey D. Sachs</td>\n",
              "      <td>Introductory</td>\n",
              "      <td>Environmental Studies</td>\n",
              "      <td>1–2 hours per week</td>\n",
              "      <td>1</td>\n",
              "      <td>FREE-Add a Verified Certificate for $25 USD</td>\n",
              "      <td>25</td>\n",
              "    </tr>\n",
              "  </tbody>\n",
              "</table>\n",
              "<p>855 rows × 11 columns</p>\n",
              "</div>"
            ],
            "text/plain": [
              "                                                 title  ... cost of verified certificate\n",
              "0                                  How to Learn Online  ...                           49\n",
              "1    Programming for Everybody (Getting Started wit...  ...                           49\n",
              "2              CS50's Introduction to Computer Science  ...                           90\n",
              "3                                   The Analytics Edge  ...                          199\n",
              "4    Marketing Analytics: Marketing Measurement Str...  ...                          249\n",
              "..                                                 ...  ...                          ...\n",
              "850         StudioX: Creating a Course with edX Studio  ...                           99\n",
              "851           Introducción a las ondas gravitacionales  ...                           50\n",
              "852         Global China: From the Mongols to the Ming  ...                          139\n",
              "853  Computational Neuroscience: Neuronal Dynamics ...  ...                          139\n",
              "854  Cities and the Challenge of Sustainable Develo...  ...                           25\n",
              "\n",
              "[855 rows x 11 columns]"
            ]
          },
          "metadata": {},
          "execution_count": 5
        }
      ]
    },
    {
      "cell_type": "markdown",
      "metadata": {
        "id": "gaYxpspyugst"
      },
      "source": [
        "# **Implementing data through HEAT MAP**"
      ]
    },
    {
      "cell_type": "code",
      "metadata": {
        "colab": {
          "base_uri": "https://localhost:8080/",
          "height": 400
        },
        "id": "haQmGNPbasmF",
        "outputId": "4e41fe57-a492-4a20-9751-874e7811e6de"
      },
      "source": [
        "dx=edx[['n_enrolled','cost of verified certificate','course_length']]           #creating a dataframe dx consisting of 'n_enrolled','cost of verified certificate','course_length'\n",
        "corre = dx.astype('float64').corr()                                             #converting the datatype of elements from string to float\n",
        "  \n",
        "data_set = corre.corr()                                                         #calling function corr to create heat map    \n",
        "colormap = sns.color_palette(\"Blues\")                                           #Setting color to blue for heat map\n",
        "ax = sns.heatmap(data_set, linewidth = 0.5, annot=True, cmap = colormap )       #Code to create a heat map\n",
        "  \n",
        "plt.title(\"Heat Map\")                                                           #Giving title as \"Heat Map\"\n",
        "plt.show()                                                                      #To show the map"
      ],
      "execution_count": 6,
      "outputs": [
        {
          "output_type": "display_data",
          "data": {
            "image/png": "[encoded data removed]",
            "text/plain": [
              "<Figure size 432x288 with 2 Axes>"
            ]
          },
          "metadata": {
            "needs_background": "light"
          }
        }
      ]
    },
    {
      "cell_type": "markdown",
      "metadata": {
        "id": "Ph2RxMgGujqS"
      },
      "source": [
        "# **NOTE**✍ \n",
        "\n",
        "✔ **Above heatmap is for analysing the correlation between different columns of a dataset:**\n",
        "\n",
        "*   **n_enrolled**\n",
        "\n",
        "*   **cost of verified certificate**\n",
        "\n",
        "*   **course_length**\n",
        "\n",
        "✔ **You can see a vertical line around the heatmap, this is a color bar. It clearly indicates that, for higher value, the color is dark and for lower value, the color is a lighter shade.**\n",
        "\n",
        "✔ **Above chart is made using Seaborn.**\n",
        "\n",
        "\n",
        "\n",
        "\n",
        "\n",
        "\n"
      ]
    },
    {
      "cell_type": "markdown",
      "metadata": {
        "id": "Pf6kpMdSzAEr"
      },
      "source": [
        "\n",
        "\n",
        "> # **Step 3 and 4 - Perform exploratory analysis and visualization. Ask and answer questions about data**\n",
        "\n"
      ]
    },
    {
      "cell_type": "markdown",
      "metadata": {
        "id": "-x3Ygy1nlPT1"
      },
      "source": [
        "# **TASK 1 - What is the optimum course length of the courses?**"
      ]
    },
    {
      "cell_type": "code",
      "metadata": {
        "colab": {
          "base_uri": "https://localhost:8080/"
        },
        "id": "Yo7EZoFMRPM-",
        "outputId": "f84f1a05-61f7-49b3-edc8-8be19fe35257"
      },
      "source": [
        "edx['course_length']                                                                  #Displaying the course length of every row"
      ],
      "execution_count": 7,
      "outputs": [
        {
          "output_type": "execute_result",
          "data": {
            "text/plain": [
              "0       2\n",
              "1       7\n",
              "2      12\n",
              "3      13\n",
              "4       4\n",
              "       ..\n",
              "850     3\n",
              "851     4\n",
              "852    15\n",
              "853     6\n",
              "854     1\n",
              "Name: course_length, Length: 855, dtype: object"
            ]
          },
          "metadata": {},
          "execution_count": 7
        }
      ]
    },
    {
      "cell_type": "markdown",
      "metadata": {
        "id": "sFKF35iexRl2"
      },
      "source": [
        "# **Taking out mean course length**"
      ]
    },
    {
      "cell_type": "code",
      "metadata": {
        "colab": {
          "base_uri": "https://localhost:8080/"
        },
        "id": "2M34vR83xVSc",
        "outputId": "8618ec69-c6d5-4c71-8b6e-f8ef0e02d707"
      },
      "source": [
        "l=[]                                                                            #declaring a list to store the value of course_length    \n",
        "sum=0   \n",
        "p=0\n",
        "for i in edx[\"course_length\"]:                                                  #loop to find total course course_length and appending it to list\n",
        "    p+=1\n",
        "    w=int(i)\n",
        "    sum+=w\n",
        "    l.append(i)\n",
        "print(sum/p)                                                                    #printing the mean course_length"
      ],
      "execution_count": 8,
      "outputs": [
        {
          "output_type": "stream",
          "name": "stdout",
          "text": [
            "6.851461988304093\n"
          ]
        }
      ]
    },
    {
      "cell_type": "markdown",
      "metadata": {
        "id": "wzHgbHBYxbUD"
      },
      "source": [
        "**The mean course length deduced is 6.85.**"
      ]
    },
    {
      "cell_type": "markdown",
      "metadata": {
        "id": "rHeckeK4lt8x"
      },
      "source": [
        "# **Implementing data through BUBBLE CHART**"
      ]
    },
    {
      "cell_type": "code",
      "metadata": {
        "colab": {
          "base_uri": "https://localhost:8080/"
        },
        "id": "YTXZkbXL1tk-",
        "outputId": "b4bb6d50-2a81-42b4-c067-7a1efc76217c"
      },
      "source": [
        "g=edx['course_length']                                                          #Creating dataframe g storing course_length details\n",
        "t=[]                                                                            #Creating empty list  \n",
        "p=[]                                                                            \n",
        "p.append(g)                                                                     #Storing values of dataframe to p list\n",
        "for i in range(0,855):                                                            \n",
        "    t.append(p[0][i])                                                           #Appending the course_length to t\n",
        "l = t\n",
        "l = Counter(l).most_common()                                                    #Storing the each week with their occurance in the list l\n",
        "m1=[]                                                                           #Creating a list to store weeks\n",
        "for i in range (0,len(l)):                                                    \n",
        "    m1.append(l[i][0])                                                          #Appending weeks to m1\n",
        "\n",
        "m2=[]                                                                           #creating list to store count of each week\n",
        "for i in range (0,len(l)):\n",
        "    m2.append(l[i][1])                                                          #Appending to m2\n",
        "\n",
        "for i in range(0,len(m1)):                                                      \n",
        "    m1[i]=m1[i]+\" weeks\"                                                        #Concating the number with weeks in m1\n",
        "print(m1)    \n",
        "print(m2)                                                              "
      ],
      "execution_count": 9,
      "outputs": [
        {
          "output_type": "stream",
          "name": "stdout",
          "text": [
            "['6 weeks', '4 weeks', '5 weeks', '7 weeks', '10 weeks', '8 weeks', '12 weeks', '3 weeks', '9 weeks', '15 weeks', '2 weeks', '14 weeks', '16 weeks', '1 weeks', '13 weeks', '11 weeks', '18 weeks', '17 weeks']\n",
            "[173, 159, 119, 83, 80, 77, 34, 26, 20, 18, 16, 15, 12, 7, 6, 6, 3, 1]\n"
          ]
        }
      ]
    },
    {
      "cell_type": "code",
      "metadata": {
        "colab": {
          "base_uri": "https://localhost:8080/",
          "height": 542
        },
        "id": "yyKgPdQB2Nsk",
        "outputId": "f294ffae-2ba2-42f1-8e0b-632f28536c66"
      },
      "source": [
        "fig = go.Figure(data=[go.Scatter( \n",
        "    x=m1, y=m2,\n",
        "    mode='markers',\n",
        "    marker=dict(\n",
        "        color=[120, 125, 130, 135, 140, 145, 150, 155, 160, 165, 170, 175, 180, 185, 190, 190, 200, 205],                                   #Selecting colors for graph\n",
        "        opacity=[0.6],\n",
        "        size=[120, 115, 110, 105, 100, 95, 90 ,85, 80, 75 ,70, 65, 60, 55, 50, 45, 40, 35],showscale=True,                                   #Defining the size of each bubble in chart\n",
        "    )\n",
        ")])\n",
        "\n",
        "fig.update_layout(\n",
        "    title='Optimum course length of courses',                                      #title of the bubble chart\n",
        "  yaxis=dict(                                                                   #Assigning attributes to Y axis\n",
        "        title='Course Length',                                                  \n",
        "        gridcolor='white',\n",
        "        gridwidth=2,\n",
        "    ),\n",
        "\n",
        "    xaxis=dict(                                                                 #Assigning attributes to X axis\n",
        "        title='Weeks',  \n",
        "        gridcolor='white',\n",
        "        gridwidth=4,\n",
        "    ),\n",
        "    paper_bgcolor='rgb(243, 243, 243)',                                         #Colors for the backgroungd bubble chart\n",
        "    plot_bgcolor='rgb(243, 243, 243)',\n",
        ")\n",
        "fig.show()                                                                      #To display scatter bubble chart"
      ],
      "execution_count": 10,
      "outputs": [
        {
          "output_type": "display_data",
          "data": {
            "text/html": [
              "<html>\n",
              "<head><meta charset=\"utf-8\" /></head>\n",
              "<body>\n",
              "    <div>\n",
              "            <script src=\"https://cdnjs.cloudflare.com/ajax/libs/mathjax/2.7.5/MathJax.js?config=TeX-AMS-MML_SVG\"></script><script type=\"text/javascript\">if (window.MathJax) {MathJax.Hub.Config({SVG: {font: \"STIX-Web\"}});}</script>\n",
              "                <script type=\"text/javascript\">window.PlotlyConfig = {MathJaxConfig: 'local'};</script>\n",
              "        <script src=\"https://cdn.plot.ly/plotly-latest.min.js\"></script>    \n",
              "            <div id=\"cc11223b-5ca1-4105-a566-53d90daf53a4\" class=\"plotly-graph-div\" style=\"height:525px; width:100%;\"></div>\n",
              "            <script type=\"text/javascript\">\n",
              "                \n",
              "                    window.PLOTLYENV=window.PLOTLYENV || {};\n",
              "                    \n",
              "                if (document.getElementById(\"cc11223b-5ca1-4105-a566-53d90daf53a4\")) {\n",
              "                    Plotly.newPlot(\n",
              "                        'cc11223b-5ca1-4105-a566-53d90daf53a4',\n",
              "                        [{\"marker\": {\"color\": [120, 125, 130, 135, 140, 145, 150, 155, 160, 165, 170, 175, 180, 185, 190, 190, 200, 205], \"opacity\": [0.6], \"showscale\": true, \"size\": [120, 115, 110, 105, 100, 95, 90, 85, 80, 75, 70, 65, 60, 55, 50, 45, 40, 35]}, \"mode\": \"markers\", \"type\": \"scatter\", \"x\": [\"6 weeks\", \"4 weeks\", \"5 weeks\", \"7 weeks\", \"10 weeks\", \"8 weeks\", \"12 weeks\", \"3 weeks\", \"9 weeks\", \"15 weeks\", \"2 weeks\", \"14 weeks\", \"16 weeks\", \"1 weeks\", \"13 weeks\", \"11 weeks\", \"18 weeks\", \"17 weeks\"], \"y\": [173, 159, 119, 83, 80, 77, 34, 26, 20, 18, 16, 15, 12, 7, 6, 6, 3, 1]}],\n",
              "                        {\"paper_bgcolor\": \"rgb(243, 243, 243)\", \"plot_bgcolor\": \"rgb(243, 243, 243)\", \"template\": {\"data\": {\"bar\": [{\"error_x\": {\"color\": \"#2a3f5f\"}, \"error_y\": {\"color\": \"#2a3f5f\"}, \"marker\": {\"line\": {\"color\": \"#E5ECF6\", \"width\": 0.5}}, \"type\": \"bar\"}], \"barpolar\": [{\"marker\": {\"line\": {\"color\": \"#E5ECF6\", \"width\": 0.5}}, \"type\": \"barpolar\"}], \"carpet\": [{\"aaxis\": {\"endlinecolor\": \"#2a3f5f\", \"gridcolor\": \"white\", \"linecolor\": \"white\", \"minorgridcolor\": \"white\", \"startlinecolor\": \"#2a3f5f\"}, \"baxis\": {\"endlinecolor\": \"#2a3f5f\", \"gridcolor\": \"white\", \"linecolor\": \"white\", \"minorgridcolor\": \"white\", \"startlinecolor\": \"#2a3f5f\"}, \"type\": \"carpet\"}], \"choropleth\": [{\"colorbar\": {\"outlinewidth\": 0, \"ticks\": \"\"}, \"type\": \"choropleth\"}], \"contour\": [{\"colorbar\": {\"outlinewidth\": 0, \"ticks\": \"\"}, \"colorscale\": [[0.0, \"#0d0887\"], [0.1111111111111111, \"#46039f\"], [0.2222222222222222, \"#7201a8\"], [0.3333333333333333, \"#9c179e\"], [0.4444444444444444, \"#bd3786\"], [0.5555555555555556, \"#d8576b\"], [0.6666666666666666, \"#ed7953\"], [0.7777777777777778, \"#fb9f3a\"], [0.8888888888888888, \"#fdca26\"], [1.0, \"#f0f921\"]], \"type\": \"contour\"}], \"contourcarpet\": [{\"colorbar\": {\"outlinewidth\": 0, \"ticks\": \"\"}, \"type\": \"contourcarpet\"}], \"heatmap\": [{\"colorbar\": {\"outlinewidth\": 0, \"ticks\": \"\"}, \"colorscale\": [[0.0, \"#0d0887\"], [0.1111111111111111, \"#46039f\"], [0.2222222222222222, \"#7201a8\"], [0.3333333333333333, \"#9c179e\"], [0.4444444444444444, \"#bd3786\"], [0.5555555555555556, \"#d8576b\"], [0.6666666666666666, \"#ed7953\"], [0.7777777777777778, \"#fb9f3a\"], [0.8888888888888888, \"#fdca26\"], [1.0, \"#f0f921\"]], \"type\": \"heatmap\"}], \"heatmapgl\": [{\"colorbar\": {\"outlinewidth\": 0, \"ticks\": \"\"}, \"colorscale\": [[0.0, \"#0d0887\"], [0.1111111111111111, \"#46039f\"], [0.2222222222222222, \"#7201a8\"], [0.3333333333333333, \"#9c179e\"], [0.4444444444444444, \"#bd3786\"], [0.5555555555555556, \"#d8576b\"], [0.6666666666666666, \"#ed7953\"], [0.7777777777777778, \"#fb9f3a\"], [0.8888888888888888, \"#fdca26\"], [1.0, \"#f0f921\"]], \"type\": \"heatmapgl\"}], \"histogram\": [{\"marker\": {\"colorbar\": {\"outlinewidth\": 0, \"ticks\": \"\"}}, \"type\": \"histogram\"}], \"histogram2d\": [{\"colorbar\": {\"outlinewidth\": 0, \"ticks\": \"\"}, \"colorscale\": [[0.0, \"#0d0887\"], [0.1111111111111111, \"#46039f\"], [0.2222222222222222, \"#7201a8\"], [0.3333333333333333, \"#9c179e\"], [0.4444444444444444, \"#bd3786\"], [0.5555555555555556, \"#d8576b\"], [0.6666666666666666, \"#ed7953\"], [0.7777777777777778, \"#fb9f3a\"], [0.8888888888888888, \"#fdca26\"], [1.0, \"#f0f921\"]], \"type\": \"histogram2d\"}], \"histogram2dcontour\": [{\"colorbar\": {\"outlinewidth\": 0, \"ticks\": \"\"}, \"colorscale\": [[0.0, \"#0d0887\"], [0.1111111111111111, \"#46039f\"], [0.2222222222222222, \"#7201a8\"], [0.3333333333333333, \"#9c179e\"], [0.4444444444444444, \"#bd3786\"], [0.5555555555555556, \"#d8576b\"], [0.6666666666666666, \"#ed7953\"], [0.7777777777777778, \"#fb9f3a\"], [0.8888888888888888, \"#fdca26\"], [1.0, \"#f0f921\"]], \"type\": \"histogram2dcontour\"}], \"mesh3d\": [{\"colorbar\": {\"outlinewidth\": 0, \"ticks\": \"\"}, \"type\": \"mesh3d\"}], \"parcoords\": [{\"line\": {\"colorbar\": {\"outlinewidth\": 0, \"ticks\": \"\"}}, \"type\": \"parcoords\"}], \"pie\": [{\"automargin\": true, \"type\": \"pie\"}], \"scatter\": [{\"marker\": {\"colorbar\": {\"outlinewidth\": 0, \"ticks\": \"\"}}, \"type\": \"scatter\"}], \"scatter3d\": [{\"line\": {\"colorbar\": {\"outlinewidth\": 0, \"ticks\": \"\"}}, \"marker\": {\"colorbar\": {\"outlinewidth\": 0, \"ticks\": \"\"}}, \"type\": \"scatter3d\"}], \"scattercarpet\": [{\"marker\": {\"colorbar\": {\"outlinewidth\": 0, \"ticks\": \"\"}}, \"type\": \"scattercarpet\"}], \"scattergeo\": [{\"marker\": {\"colorbar\": {\"outlinewidth\": 0, \"ticks\": \"\"}}, \"type\": \"scattergeo\"}], \"scattergl\": [{\"marker\": {\"colorbar\": {\"outlinewidth\": 0, \"ticks\": \"\"}}, \"type\": \"scattergl\"}], \"scattermapbox\": [{\"marker\": {\"colorbar\": {\"outlinewidth\": 0, \"ticks\": \"\"}}, \"type\": \"scattermapbox\"}], \"scatterpolar\": [{\"marker\": {\"colorbar\": {\"outlinewidth\": 0, \"ticks\": \"\"}}, \"type\": \"scatterpolar\"}], \"scatterpolargl\": [{\"marker\": {\"colorbar\": {\"outlinewidth\": 0, \"ticks\": \"\"}}, \"type\": \"scatterpolargl\"}], \"scatterternary\": [{\"marker\": {\"colorbar\": {\"outlinewidth\": 0, \"ticks\": \"\"}}, \"type\": \"scatterternary\"}], \"surface\": [{\"colorbar\": {\"outlinewidth\": 0, \"ticks\": \"\"}, \"colorscale\": [[0.0, \"#0d0887\"], [0.1111111111111111, \"#46039f\"], [0.2222222222222222, \"#7201a8\"], [0.3333333333333333, \"#9c179e\"], [0.4444444444444444, \"#bd3786\"], [0.5555555555555556, \"#d8576b\"], [0.6666666666666666, \"#ed7953\"], [0.7777777777777778, \"#fb9f3a\"], [0.8888888888888888, \"#fdca26\"], [1.0, \"#f0f921\"]], \"type\": \"surface\"}], \"table\": [{\"cells\": {\"fill\": {\"color\": \"#EBF0F8\"}, \"line\": {\"color\": \"white\"}}, \"header\": {\"fill\": {\"color\": \"#C8D4E3\"}, \"line\": {\"color\": \"white\"}}, \"type\": \"table\"}]}, \"layout\": {\"annotationdefaults\": {\"arrowcolor\": \"#2a3f5f\", \"arrowhead\": 0, \"arrowwidth\": 1}, \"coloraxis\": {\"colorbar\": {\"outlinewidth\": 0, \"ticks\": \"\"}}, \"colorscale\": {\"diverging\": [[0, \"#8e0152\"], [0.1, \"#c51b7d\"], [0.2, \"#de77ae\"], [0.3, \"#f1b6da\"], [0.4, \"#fde0ef\"], [0.5, \"#f7f7f7\"], [0.6, \"#e6f5d0\"], [0.7, \"#b8e186\"], [0.8, \"#7fbc41\"], [0.9, \"#4d9221\"], [1, \"#276419\"]], \"sequential\": [[0.0, \"#0d0887\"], [0.1111111111111111, \"#46039f\"], [0.2222222222222222, \"#7201a8\"], [0.3333333333333333, \"#9c179e\"], [0.4444444444444444, \"#bd3786\"], [0.5555555555555556, \"#d8576b\"], [0.6666666666666666, \"#ed7953\"], [0.7777777777777778, \"#fb9f3a\"], [0.8888888888888888, \"#fdca26\"], [1.0, \"#f0f921\"]], \"sequentialminus\": [[0.0, \"#0d0887\"], [0.1111111111111111, \"#46039f\"], [0.2222222222222222, \"#7201a8\"], [0.3333333333333333, \"#9c179e\"], [0.4444444444444444, \"#bd3786\"], [0.5555555555555556, \"#d8576b\"], [0.6666666666666666, \"#ed7953\"], [0.7777777777777778, \"#fb9f3a\"], [0.8888888888888888, \"#fdca26\"], [1.0, \"#f0f921\"]]}, \"colorway\": [\"#636efa\", \"#EF553B\", \"#00cc96\", \"#ab63fa\", \"#FFA15A\", \"#19d3f3\", \"#FF6692\", \"#B6E880\", \"#FF97FF\", \"#FECB52\"], \"font\": {\"color\": \"#2a3f5f\"}, \"geo\": {\"bgcolor\": \"white\", \"lakecolor\": \"white\", \"landcolor\": \"#E5ECF6\", \"showlakes\": true, \"showland\": true, \"subunitcolor\": \"white\"}, \"hoverlabel\": {\"align\": \"left\"}, \"hovermode\": \"closest\", \"mapbox\": {\"style\": \"light\"}, \"paper_bgcolor\": \"white\", \"plot_bgcolor\": \"#E5ECF6\", \"polar\": {\"angularaxis\": {\"gridcolor\": \"white\", \"linecolor\": \"white\", \"ticks\": \"\"}, \"bgcolor\": \"#E5ECF6\", \"radialaxis\": {\"gridcolor\": \"white\", \"linecolor\": \"white\", \"ticks\": \"\"}}, \"scene\": {\"xaxis\": {\"backgroundcolor\": \"#E5ECF6\", \"gridcolor\": \"white\", \"gridwidth\": 2, \"linecolor\": \"white\", \"showbackground\": true, \"ticks\": \"\", \"zerolinecolor\": \"white\"}, \"yaxis\": {\"backgroundcolor\": \"#E5ECF6\", \"gridcolor\": \"white\", \"gridwidth\": 2, \"linecolor\": \"white\", \"showbackground\": true, \"ticks\": \"\", \"zerolinecolor\": \"white\"}, \"zaxis\": {\"backgroundcolor\": \"#E5ECF6\", \"gridcolor\": \"white\", \"gridwidth\": 2, \"linecolor\": \"white\", \"showbackground\": true, \"ticks\": \"\", \"zerolinecolor\": \"white\"}}, \"shapedefaults\": {\"line\": {\"color\": \"#2a3f5f\"}}, \"ternary\": {\"aaxis\": {\"gridcolor\": \"white\", \"linecolor\": \"white\", \"ticks\": \"\"}, \"baxis\": {\"gridcolor\": \"white\", \"linecolor\": \"white\", \"ticks\": \"\"}, \"bgcolor\": \"#E5ECF6\", \"caxis\": {\"gridcolor\": \"white\", \"linecolor\": \"white\", \"ticks\": \"\"}}, \"title\": {\"x\": 0.05}, \"xaxis\": {\"automargin\": true, \"gridcolor\": \"white\", \"linecolor\": \"white\", \"ticks\": \"\", \"title\": {\"standoff\": 15}, \"zerolinecolor\": \"white\", \"zerolinewidth\": 2}, \"yaxis\": {\"automargin\": true, \"gridcolor\": \"white\", \"linecolor\": \"white\", \"ticks\": \"\", \"title\": {\"standoff\": 15}, \"zerolinecolor\": \"white\", \"zerolinewidth\": 2}}}, \"title\": {\"text\": \"Optimum course length of courses\"}, \"xaxis\": {\"gridcolor\": \"white\", \"gridwidth\": 4, \"title\": {\"text\": \"Weeks\"}}, \"yaxis\": {\"gridcolor\": \"white\", \"gridwidth\": 2, \"title\": {\"text\": \"Course Length\"}}},\n",
              "                        {\"responsive\": true}\n",
              "                    ).then(function(){\n",
              "                            \n",
              "var gd = document.getElementById('cc11223b-5ca1-4105-a566-53d90daf53a4');\n",
              "var x = new MutationObserver(function (mutations, observer) {{\n",
              "        var display = window.getComputedStyle(gd).display;\n",
              "        if (!display || display === 'none') {{\n",
              "            console.log([gd, 'removed!']);\n",
              "            Plotly.purge(gd);\n",
              "            observer.disconnect();\n",
              "        }}\n",
              "}});\n",
              "\n",
              "// Listen for the removal of the full notebook cells\n",
              "var notebookContainer = gd.closest('#notebook-container');\n",
              "if (notebookContainer) {{\n",
              "    x.observe(notebookContainer, {childList: true});\n",
              "}}\n",
              "\n",
              "// Listen for the clearing of the current output cell\n",
              "var outputEl = gd.closest('.output');\n",
              "if (outputEl) {{\n",
              "    x.observe(outputEl, {childList: true});\n",
              "}}\n",
              "\n",
              "                        })\n",
              "                };\n",
              "                \n",
              "            </script>\n",
              "        </div>\n",
              "</body>\n",
              "</html>"
            ]
          },
          "metadata": {}
        }
      ]
    },
    {
      "cell_type": "markdown",
      "metadata": {
        "id": "58izHeaDoBzV"
      },
      "source": [
        "# **NOTE**✍\n",
        "\n",
        "✔  **Bubble chart is primarily used to depict and show relationships between numeric variables.**\n",
        "\n",
        "✔ **In the bubble chart above, each bubble represents duration of weeks, its area is proportional to its count of course length.**\n",
        "\n",
        "✔ **From the above bubble chart, the course length of 6 weeks has the most count which means many courses have the course length of 6 weeks and course length 17 weeks has the least count.**\n",
        "\n",
        "✔ **Above chart is made using Plotly.**\n"
      ]
    },
    {
      "cell_type": "markdown",
      "metadata": {
        "id": "RXbOKi-Tl37O"
      },
      "source": [
        "# **TASK 2 - How many courses provide Introductory, Intermediate and Advanced levels?**"
      ]
    },
    {
      "cell_type": "code",
      "metadata": {
        "colab": {
          "base_uri": "https://localhost:8080/"
        },
        "id": "jscj48hmX_GR",
        "outputId": "9e7451f8-11c3-427c-8a98-8a3aeaeb02a4"
      },
      "source": [
        "t=[]                                                                          #List to store the introductory , intermediate and advanced course \n",
        "t1=[]                                                                         # List to store the count of introductory , intermediate and advanced level\n",
        "t.append(edx['Level'].value_counts())\n",
        "for i in range(0,3):\n",
        "  t1.append(t[0][i])                                                          #appending list\n",
        "print(t1)                                                                     # Print the list in which 0 index has number of introductory level , 1 index has number of intermediate level ,\n",
        "                                                                              #  2 index has number of advanced level"
      ],
      "execution_count": 11,
      "outputs": [
        {
          "output_type": "stream",
          "name": "stdout",
          "text": [
            "[542, 237, 76]\n"
          ]
        }
      ]
    },
    {
      "cell_type": "markdown",
      "metadata": {
        "id": "vCAWIlCUnBW0"
      },
      "source": [
        "# **Implementing data through RADAR CHART**"
      ]
    },
    {
      "cell_type": "code",
      "metadata": {
        "colab": {
          "base_uri": "https://localhost:8080/",
          "height": 542
        },
        "id": "eE9pnq7nY9Sa",
        "outputId": "57acf9f0-4925-4295-8bef-df206cf5414b"
      },
      "source": [
        "fig = go.Figure(data=go.Scatterpolar(r=t1, theta=['Introductory','Intermediate', 'Advanced'], fill='toself'))             #For making radar chart where r is the count and theta is the levels\n",
        "fig.update_layout(polar=dict(radialaxis=dict(visible=True),),showlegend=True)                                             #For making the radial axis and scale\n",
        "fig.show()                                                                                                                #To display radar chart"
      ],
      "execution_count": 12,
      "outputs": [
        {
          "output_type": "display_data",
          "data": {
            "text/html": [
              "<html>\n",
              "<head><meta charset=\"utf-8\" /></head>\n",
              "<body>\n",
              "    <div>\n",
              "            <script src=\"https://cdnjs.cloudflare.com/ajax/libs/mathjax/2.7.5/MathJax.js?config=TeX-AMS-MML_SVG\"></script><script type=\"text/javascript\">if (window.MathJax) {MathJax.Hub.Config({SVG: {font: \"STIX-Web\"}});}</script>\n",
              "                <script type=\"text/javascript\">window.PlotlyConfig = {MathJaxConfig: 'local'};</script>\n",
              "        <script src=\"https://cdn.plot.ly/plotly-latest.min.js\"></script>    \n",
              "            <div id=\"c62279e5-9da4-45ec-8c77-60fca42a79d5\" class=\"plotly-graph-div\" style=\"height:525px; width:100%;\"></div>\n",
              "            <script type=\"text/javascript\">\n",
              "                \n",
              "                    window.PLOTLYENV=window.PLOTLYENV || {};\n",
              "                    \n",
              "                if (document.getElementById(\"c62279e5-9da4-45ec-8c77-60fca42a79d5\")) {\n",
              "                    Plotly.newPlot(\n",
              "                        'c62279e5-9da4-45ec-8c77-60fca42a79d5',\n",
              "                        [{\"fill\": \"toself\", \"r\": [542, 237, 76], \"theta\": [\"Introductory\", \"Intermediate\", \"Advanced\"], \"type\": \"scatterpolar\"}],\n",
              "                        {\"polar\": {\"radialaxis\": {\"visible\": true}}, \"showlegend\": true, \"template\": {\"data\": {\"bar\": [{\"error_x\": {\"color\": \"#2a3f5f\"}, \"error_y\": {\"color\": \"#2a3f5f\"}, \"marker\": {\"line\": {\"color\": \"#E5ECF6\", \"width\": 0.5}}, \"type\": \"bar\"}], \"barpolar\": [{\"marker\": {\"line\": {\"color\": \"#E5ECF6\", \"width\": 0.5}}, \"type\": \"barpolar\"}], \"carpet\": [{\"aaxis\": {\"endlinecolor\": \"#2a3f5f\", \"gridcolor\": \"white\", \"linecolor\": \"white\", \"minorgridcolor\": \"white\", \"startlinecolor\": \"#2a3f5f\"}, \"baxis\": {\"endlinecolor\": \"#2a3f5f\", \"gridcolor\": \"white\", \"linecolor\": \"white\", \"minorgridcolor\": \"white\", \"startlinecolor\": \"#2a3f5f\"}, \"type\": \"carpet\"}], \"choropleth\": [{\"colorbar\": {\"outlinewidth\": 0, \"ticks\": \"\"}, \"type\": \"choropleth\"}], \"contour\": [{\"colorbar\": {\"outlinewidth\": 0, \"ticks\": \"\"}, \"colorscale\": [[0.0, \"#0d0887\"], [0.1111111111111111, \"#46039f\"], [0.2222222222222222, \"#7201a8\"], [0.3333333333333333, \"#9c179e\"], [0.4444444444444444, \"#bd3786\"], [0.5555555555555556, \"#d8576b\"], [0.6666666666666666, \"#ed7953\"], [0.7777777777777778, \"#fb9f3a\"], [0.8888888888888888, \"#fdca26\"], [1.0, \"#f0f921\"]], \"type\": \"contour\"}], \"contourcarpet\": [{\"colorbar\": {\"outlinewidth\": 0, \"ticks\": \"\"}, \"type\": \"contourcarpet\"}], \"heatmap\": [{\"colorbar\": {\"outlinewidth\": 0, \"ticks\": \"\"}, \"colorscale\": [[0.0, \"#0d0887\"], [0.1111111111111111, \"#46039f\"], [0.2222222222222222, \"#7201a8\"], [0.3333333333333333, \"#9c179e\"], [0.4444444444444444, \"#bd3786\"], [0.5555555555555556, \"#d8576b\"], [0.6666666666666666, \"#ed7953\"], [0.7777777777777778, \"#fb9f3a\"], [0.8888888888888888, \"#fdca26\"], [1.0, \"#f0f921\"]], \"type\": \"heatmap\"}], \"heatmapgl\": [{\"colorbar\": {\"outlinewidth\": 0, \"ticks\": \"\"}, \"colorscale\": [[0.0, \"#0d0887\"], [0.1111111111111111, \"#46039f\"], [0.2222222222222222, \"#7201a8\"], [0.3333333333333333, \"#9c179e\"], [0.4444444444444444, \"#bd3786\"], [0.5555555555555556, \"#d8576b\"], [0.6666666666666666, \"#ed7953\"], [0.7777777777777778, \"#fb9f3a\"], [0.8888888888888888, \"#fdca26\"], [1.0, \"#f0f921\"]], \"type\": \"heatmapgl\"}], \"histogram\": [{\"marker\": {\"colorbar\": {\"outlinewidth\": 0, \"ticks\": \"\"}}, \"type\": \"histogram\"}], \"histogram2d\": [{\"colorbar\": {\"outlinewidth\": 0, \"ticks\": \"\"}, \"colorscale\": [[0.0, \"#0d0887\"], [0.1111111111111111, \"#46039f\"], [0.2222222222222222, \"#7201a8\"], [0.3333333333333333, \"#9c179e\"], [0.4444444444444444, \"#bd3786\"], [0.5555555555555556, \"#d8576b\"], [0.6666666666666666, \"#ed7953\"], [0.7777777777777778, \"#fb9f3a\"], [0.8888888888888888, \"#fdca26\"], [1.0, \"#f0f921\"]], \"type\": \"histogram2d\"}], \"histogram2dcontour\": [{\"colorbar\": {\"outlinewidth\": 0, \"ticks\": \"\"}, \"colorscale\": [[0.0, \"#0d0887\"], [0.1111111111111111, \"#46039f\"], [0.2222222222222222, \"#7201a8\"], [0.3333333333333333, \"#9c179e\"], [0.4444444444444444, \"#bd3786\"], [0.5555555555555556, \"#d8576b\"], [0.6666666666666666, \"#ed7953\"], [0.7777777777777778, \"#fb9f3a\"], [0.8888888888888888, \"#fdca26\"], [1.0, \"#f0f921\"]], \"type\": \"histogram2dcontour\"}], \"mesh3d\": [{\"colorbar\": {\"outlinewidth\": 0, \"ticks\": \"\"}, \"type\": \"mesh3d\"}], \"parcoords\": [{\"line\": {\"colorbar\": {\"outlinewidth\": 0, \"ticks\": \"\"}}, \"type\": \"parcoords\"}], \"pie\": [{\"automargin\": true, \"type\": \"pie\"}], \"scatter\": [{\"marker\": {\"colorbar\": {\"outlinewidth\": 0, \"ticks\": \"\"}}, \"type\": \"scatter\"}], \"scatter3d\": [{\"line\": {\"colorbar\": {\"outlinewidth\": 0, \"ticks\": \"\"}}, \"marker\": {\"colorbar\": {\"outlinewidth\": 0, \"ticks\": \"\"}}, \"type\": \"scatter3d\"}], \"scattercarpet\": [{\"marker\": {\"colorbar\": {\"outlinewidth\": 0, \"ticks\": \"\"}}, \"type\": \"scattercarpet\"}], \"scattergeo\": [{\"marker\": {\"colorbar\": {\"outlinewidth\": 0, \"ticks\": \"\"}}, \"type\": \"scattergeo\"}], \"scattergl\": [{\"marker\": {\"colorbar\": {\"outlinewidth\": 0, \"ticks\": \"\"}}, \"type\": \"scattergl\"}], \"scattermapbox\": [{\"marker\": {\"colorbar\": {\"outlinewidth\": 0, \"ticks\": \"\"}}, \"type\": \"scattermapbox\"}], \"scatterpolar\": [{\"marker\": {\"colorbar\": {\"outlinewidth\": 0, \"ticks\": \"\"}}, \"type\": \"scatterpolar\"}], \"scatterpolargl\": [{\"marker\": {\"colorbar\": {\"outlinewidth\": 0, \"ticks\": \"\"}}, \"type\": \"scatterpolargl\"}], \"scatterternary\": [{\"marker\": {\"colorbar\": {\"outlinewidth\": 0, \"ticks\": \"\"}}, \"type\": \"scatterternary\"}], \"surface\": [{\"colorbar\": {\"outlinewidth\": 0, \"ticks\": \"\"}, \"colorscale\": [[0.0, \"#0d0887\"], [0.1111111111111111, \"#46039f\"], [0.2222222222222222, \"#7201a8\"], [0.3333333333333333, \"#9c179e\"], [0.4444444444444444, \"#bd3786\"], [0.5555555555555556, \"#d8576b\"], [0.6666666666666666, \"#ed7953\"], [0.7777777777777778, \"#fb9f3a\"], [0.8888888888888888, \"#fdca26\"], [1.0, \"#f0f921\"]], \"type\": \"surface\"}], \"table\": [{\"cells\": {\"fill\": {\"color\": \"#EBF0F8\"}, \"line\": {\"color\": \"white\"}}, \"header\": {\"fill\": {\"color\": \"#C8D4E3\"}, \"line\": {\"color\": \"white\"}}, \"type\": \"table\"}]}, \"layout\": {\"annotationdefaults\": {\"arrowcolor\": \"#2a3f5f\", \"arrowhead\": 0, \"arrowwidth\": 1}, \"coloraxis\": {\"colorbar\": {\"outlinewidth\": 0, \"ticks\": \"\"}}, \"colorscale\": {\"diverging\": [[0, \"#8e0152\"], [0.1, \"#c51b7d\"], [0.2, \"#de77ae\"], [0.3, \"#f1b6da\"], [0.4, \"#fde0ef\"], [0.5, \"#f7f7f7\"], [0.6, \"#e6f5d0\"], [0.7, \"#b8e186\"], [0.8, \"#7fbc41\"], [0.9, \"#4d9221\"], [1, \"#276419\"]], \"sequential\": [[0.0, \"#0d0887\"], [0.1111111111111111, \"#46039f\"], [0.2222222222222222, \"#7201a8\"], [0.3333333333333333, \"#9c179e\"], [0.4444444444444444, \"#bd3786\"], [0.5555555555555556, \"#d8576b\"], [0.6666666666666666, \"#ed7953\"], [0.7777777777777778, \"#fb9f3a\"], [0.8888888888888888, \"#fdca26\"], [1.0, \"#f0f921\"]], \"sequentialminus\": [[0.0, \"#0d0887\"], [0.1111111111111111, \"#46039f\"], [0.2222222222222222, \"#7201a8\"], [0.3333333333333333, \"#9c179e\"], [0.4444444444444444, \"#bd3786\"], [0.5555555555555556, \"#d8576b\"], [0.6666666666666666, \"#ed7953\"], [0.7777777777777778, \"#fb9f3a\"], [0.8888888888888888, \"#fdca26\"], [1.0, \"#f0f921\"]]}, \"colorway\": [\"#636efa\", \"#EF553B\", \"#00cc96\", \"#ab63fa\", \"#FFA15A\", \"#19d3f3\", \"#FF6692\", \"#B6E880\", \"#FF97FF\", \"#FECB52\"], \"font\": {\"color\": \"#2a3f5f\"}, \"geo\": {\"bgcolor\": \"white\", \"lakecolor\": \"white\", \"landcolor\": \"#E5ECF6\", \"showlakes\": true, \"showland\": true, \"subunitcolor\": \"white\"}, \"hoverlabel\": {\"align\": \"left\"}, \"hovermode\": \"closest\", \"mapbox\": {\"style\": \"light\"}, \"paper_bgcolor\": \"white\", \"plot_bgcolor\": \"#E5ECF6\", \"polar\": {\"angularaxis\": {\"gridcolor\": \"white\", \"linecolor\": \"white\", \"ticks\": \"\"}, \"bgcolor\": \"#E5ECF6\", \"radialaxis\": {\"gridcolor\": \"white\", \"linecolor\": \"white\", \"ticks\": \"\"}}, \"scene\": {\"xaxis\": {\"backgroundcolor\": \"#E5ECF6\", \"gridcolor\": \"white\", \"gridwidth\": 2, \"linecolor\": \"white\", \"showbackground\": true, \"ticks\": \"\", \"zerolinecolor\": \"white\"}, \"yaxis\": {\"backgroundcolor\": \"#E5ECF6\", \"gridcolor\": \"white\", \"gridwidth\": 2, \"linecolor\": \"white\", \"showbackground\": true, \"ticks\": \"\", \"zerolinecolor\": \"white\"}, \"zaxis\": {\"backgroundcolor\": \"#E5ECF6\", \"gridcolor\": \"white\", \"gridwidth\": 2, \"linecolor\": \"white\", \"showbackground\": true, \"ticks\": \"\", \"zerolinecolor\": \"white\"}}, \"shapedefaults\": {\"line\": {\"color\": \"#2a3f5f\"}}, \"ternary\": {\"aaxis\": {\"gridcolor\": \"white\", \"linecolor\": \"white\", \"ticks\": \"\"}, \"baxis\": {\"gridcolor\": \"white\", \"linecolor\": \"white\", \"ticks\": \"\"}, \"bgcolor\": \"#E5ECF6\", \"caxis\": {\"gridcolor\": \"white\", \"linecolor\": \"white\", \"ticks\": \"\"}}, \"title\": {\"x\": 0.05}, \"xaxis\": {\"automargin\": true, \"gridcolor\": \"white\", \"linecolor\": \"white\", \"ticks\": \"\", \"title\": {\"standoff\": 15}, \"zerolinecolor\": \"white\", \"zerolinewidth\": 2}, \"yaxis\": {\"automargin\": true, \"gridcolor\": \"white\", \"linecolor\": \"white\", \"ticks\": \"\", \"title\": {\"standoff\": 15}, \"zerolinecolor\": \"white\", \"zerolinewidth\": 2}}}},\n",
              "                        {\"responsive\": true}\n",
              "                    ).then(function(){\n",
              "                            \n",
              "var gd = document.getElementById('c62279e5-9da4-45ec-8c77-60fca42a79d5');\n",
              "var x = new MutationObserver(function (mutations, observer) {{\n",
              "        var display = window.getComputedStyle(gd).display;\n",
              "        if (!display || display === 'none') {{\n",
              "            console.log([gd, 'removed!']);\n",
              "            Plotly.purge(gd);\n",
              "            observer.disconnect();\n",
              "        }}\n",
              "}});\n",
              "\n",
              "// Listen for the removal of the full notebook cells\n",
              "var notebookContainer = gd.closest('#notebook-container');\n",
              "if (notebookContainer) {{\n",
              "    x.observe(notebookContainer, {childList: true});\n",
              "}}\n",
              "\n",
              "// Listen for the clearing of the current output cell\n",
              "var outputEl = gd.closest('.output');\n",
              "if (outputEl) {{\n",
              "    x.observe(outputEl, {childList: true});\n",
              "}}\n",
              "\n",
              "                        })\n",
              "                };\n",
              "                \n",
              "            </script>\n",
              "        </div>\n",
              "</body>\n",
              "</html>"
            ]
          },
          "metadata": {}
        }
      ]
    },
    {
      "cell_type": "markdown",
      "metadata": {
        "id": "E7YBcAMfZ6Ip"
      },
      "source": [
        "# **NOTE**✍\n",
        "\n",
        "✔ **A radar chart is an informative visual tool in which multiple variables are compared on a two-dimensional plane. Axes emerge from a common central point and all the axes are equally distributed and uniformly drawn from each other.**\n",
        "\n",
        "✔ **From the above radar chart, we can see that majority of the courses by edx are Introductory and the least are Advanced.**\n",
        "\n",
        "✔ **Above chart is made using Plotly.**"
      ]
    },
    {
      "cell_type": "markdown",
      "metadata": {
        "id": "f85pLJ6tXqu1"
      },
      "source": [
        "# **TASK 3 -\tWhat is number of courses offered by each subject?**\n",
        "\n",
        "# **Implementing data through BAR GRAPH**"
      ]
    },
    {
      "cell_type": "code",
      "metadata": {
        "colab": {
          "base_uri": "https://localhost:8080/",
          "height": 738
        },
        "id": "n9VXnITnSCSJ",
        "outputId": "573a24ca-59e7-4e3d-bb4e-8be59958ad03"
      },
      "source": [
        "bar_edx=edx['subject'].value_counts()\n",
        "bar_edx.plot(kind='bar',figsize=(20,10), title=\"Number of courses offered by each subject\", color=['#ee6055','#60d394','#aaf683','#ffd97d',\n",
        "                                                                              '#ff70a6','#ff9770','#ffd670','#e9ff70','#b965e3',\n",
        "                                                                              '#7fc8f8','#dcedff','#5aa9e6','#79addc','#ffc09f',\n",
        "                                                                              '#ffee93','#fcf5c7','#adf7b6','#cad893','#b4decf',\n",
        "                                                                              '#edc889','#ead793','#edb7a3','#bdb2ff','#9bf6ff',\n",
        "                                                                              '#ffc6ff','#e0c9b7','#ffaf9d','#eac5d8','#ffa6c1'])        #code To make bar graph\n",
        "\n",
        "      \n",
        "plt.xlabel(\"Subjects\")     #Declaring x axis as Subjects\n",
        "plt.ylabel(\"Number of Courses\")  #Declaring y axis as Number of courses"
      ],
      "execution_count": 13,
      "outputs": [
        {
          "output_type": "execute_result",
          "data": {
            "text/plain": [
              "Text(0, 0.5, 'Number of Courses')"
            ]
          },
          "metadata": {},
          "execution_count": 13
        },
        {
          "output_type": "display_data",
          "data": {
            "image/png": "[encoded data removed]",
            "text/plain": [
              "<Figure size 1440x720 with 1 Axes>"
            ]
          },
          "metadata": {
            "needs_background": "light"
          }
        }
      ]
    },
    {
      "cell_type": "markdown",
      "metadata": {
        "id": "6ppJlUnNY6_A"
      },
      "source": [
        "# **NOTE**✍\n",
        "\n",
        "✔ **Bar graphs are used to compare things between different groups or to track changes over time.**\n",
        "\n",
        "✔ **The above bar graph is a decreasing graph, we can see that the maximun courses are offered by Computer Science and least courses are offered by Ethics.**\n",
        "\n",
        "✔ **Above chart is made using Matplotlib.**"
      ]
    },
    {
      "cell_type": "markdown",
      "metadata": {
        "id": "WYdwCVf0mUlb"
      },
      "source": [
        "# **TASK 4 - Which University is providing most courses?**\n",
        "\n",
        "# **Implementing data through PIE CHART**"
      ]
    },
    {
      "cell_type": "code",
      "metadata": {
        "colab": {
          "base_uri": "https://localhost:8080/",
          "height": 608
        },
        "id": "7CsWnXxjkY5v",
        "outputId": "4b0dd7c2-2caa-4f60-dd7a-e9b89b59bb2c"
      },
      "source": [
        "x=edx['institution'].value_counts().head(15)\n",
        "x.plot(kind='pie',figsize=(13,10), title=\"Number of courses provided by the University\", autopct='%1.1f%%', shadow=True, startangle=0,                                        #To create a pie chart by declaring kind ,size and other attributes \n",
        "       explode = (0.1, 0, 0, 0, 0, 0, 0, 0, 0, 0, 0, 0, 0, 0, 0), colors = ['#ee6055','#60d394','#aaf683','#ffd97d','#ff70a6','#ff9770','#ffd670',        \n",
        "                                                                            '#e9ff70','#b965e3','#7fc8f8','#dcedff','#5aa9e6','#79addc','#ffc09f','#ffee93',                          \n",
        "                                                                            '#fcf5c7','#adf7b6','#cad893','#b4decf','#edc889','#ead793','#edb7a3',\n",
        "                                                                            '#bdb2ff','#9bf6ff','#ffc6ff','#e0c9b7','#ffaf9d','#eac5d8','#ffa6c1'])                           #Declaring color coding for pie chart\n",
        "\n"
      ],
      "execution_count": 14,
      "outputs": [
        {
          "output_type": "execute_result",
          "data": {
            "text/plain": [
              "<matplotlib.axes._subplots.AxesSubplot at 0x7f954134fb50>"
            ]
          },
          "metadata": {},
          "execution_count": 14
        },
        {
          "output_type": "display_data",
          "data": {
            "image/png": "[encoded data removed]",
            "text/plain": [
              "<Figure size 936x720 with 1 Axes>"
            ]
          },
          "metadata": {}
        }
      ]
    },
    {
      "cell_type": "markdown",
      "metadata": {
        "id": "OpNptb3Vuh7e"
      },
      "source": [
        "# **NOTE**✍\n",
        "\n",
        "✔ **A Pie Chart is a circular statistical plot that can display only one series of data. The area of the chart is the total percentage of the given data.** \n",
        "\n",
        "✔ **We have taken top 15 universities and henceforth we can conclude that most of the courses are offered by Harvard University and the least by The University of Maryland, College Park-University System of Maryland.**\n",
        "\n",
        "✔ **Above chart is made using Matplotlib.**"
      ]
    },
    {
      "cell_type": "markdown",
      "metadata": {
        "id": "-MOOStSZZXj-"
      },
      "source": [
        "# **TASK 5-What is the Mean price offered by every subject?**"
      ]
    },
    {
      "cell_type": "code",
      "metadata": {
        "id": "lx6avabFLoU3"
      },
      "source": [
        "l1=[]    #Declaring a list to store mean cost of different subjects\n"
      ],
      "execution_count": 15,
      "outputs": []
    },
    {
      "cell_type": "code",
      "metadata": {
        "id": "qFDrlrEUDqo6",
        "colab": {
          "base_uri": "https://localhost:8080/"
        },
        "outputId": "8e9906cb-f5d1-4c1f-b5ad-15167da8667d"
      },
      "source": [
        "p2=edx[edx['subject']=='Computer Science']                                    #Creating a dataframe p2 of computer science\n",
        "p2=p2.reset_index(drop=True)                                                  #To Reset index in p2 frame\n",
        " \n",
        "l21=[]                                                                        #Creating a list \n",
        "l21.append(p2['cost of verified certificate'])                                #appending l21 with the cost of computer Science and index\n",
        "\n",
        "l54=[]                                                                        #Creating a list\n",
        "for i in range(len(p2['cost of verified certificate'])):                      #To initialise a loop from zero till length of 'cost'\n",
        "    l54.append(l21[0][i])                                                     #To append cost by dropping the index value\n",
        "l32=[]                                                                        #Creating another list  \n",
        "for x in l54:                                                                 #loop for the values in l54   \n",
        "    l32.append(float(x))                                                      #To convert the integer values to float\n",
        "l32                                             \n",
        "sum=0                                                                         #To Find sum of all the cost of courses in computer science\n",
        "for i in l32:\n",
        "    sum+=i                                                                    #Incrementing value of sum\n",
        "a=(sum/(len(p2['cost of verified certificate'])))                                                     #To find mean of the cost \n",
        "l1.append(a)                                                                  #Appending mean of computer Science to l1\n",
        "print(l1)                                                                     #To print list"
      ],
      "execution_count": 16,
      "outputs": [
        {
          "output_type": "stream",
          "name": "stdout",
          "text": [
            "[126.45533333333336]\n"
          ]
        }
      ]
    },
    {
      "cell_type": "code",
      "metadata": {
        "colab": {
          "base_uri": "https://localhost:8080/"
        },
        "id": "3xE8AAUKIUZw",
        "outputId": "e8abf259-61b2-417a-8cdf-3eb59347224b"
      },
      "source": [
        "p2=edx[edx['subject']=='Data Analysis & Statistics']                          #Creating a dataframe p2 of Data Analysis & Statistics\n",
        "p2=p2.reset_index(drop=True)                                                  #To Reset index in p2 frame\n",
        "\n",
        "l21=[]                                                                        #Creating a list\n",
        "l21.append(p2['cost of verified certificate'])                                #appending l21 with the cost of Data Analysis & Statistics and index\n",
        "\n",
        "l54=[]                                                                        #Creating a list\n",
        "for i in range(len(p2['cost of verified certificate'])):                      #To initialise a loop from zero till length of 'cost'\n",
        "    l54.append(l21[0][i])                                                     #To append cost by dropping the index value\n",
        "l32=[]                                                                        #Creating another list\n",
        "for x in l54:                                                                 #loop for the values in l54\n",
        "    l32.append(float(x))                                                      #To convert the integer values to float\n",
        "l32\n",
        "sum=0                                                                         #To Find sum of all the cost of courses in computer science\n",
        "for i in l32:\n",
        "    sum+=i                                                                    #Incrementing value of sum\n",
        "a=(sum/(len(p2['cost of verified certificate'])))                             #To find mean of the cost \n",
        "l1.append(a)                                                                  #Appending mean of Data Analysis & Statistics to l1\n",
        "print(l1)                                                                     #To print list"
      ],
      "execution_count": 17,
      "outputs": [
        {
          "output_type": "stream",
          "name": "stdout",
          "text": [
            "[126.45533333333336, 99.91666666666667]\n"
          ]
        }
      ]
    },
    {
      "cell_type": "code",
      "metadata": {
        "colab": {
          "base_uri": "https://localhost:8080/"
        },
        "id": "6GktECBMKMRf",
        "outputId": "7497a480-ad26-4e02-cc6a-501bb4e59492"
      },
      "source": [
        "p2=edx[edx['subject']=='Education & Teacher Training']                        #Creating a dataframe p2 of Education & Teacher Training\n",
        "p2=p2.reset_index(drop=True)                                                  #To Reset index in p2 frame\n",
        "\n",
        "l21=[]                                                                        #Creating a list \n",
        "l21.append(p2['cost of verified certificate'])                                #appending l21 with the cost of Education & Teacher Training and index\n",
        "\n",
        "l54=[]                                                                        #Creating a list\n",
        "for i in range(len(p2['cost of verified certificate'])):                      #To initialise a loop from zero till length of 'cost'\n",
        "    l54.append(l21[0][i])                                                     #To append cost by dropping the index value\n",
        "l32=[]                                                                        #Creating another list \n",
        "for x in l54:                                                                 #loop for the values in l54  \n",
        "    l32.append(float(x))                                                      #To convert the integer values to float\n",
        "l32                                                                         \n",
        "sum=0                                                                         #To Find sum of all the cost of courses in Education & Teacher Training\n",
        "for i in l32:\n",
        "    sum+=i                                                                    #Incrementing value of sum\n",
        "a=(sum/(len(p2['cost of verified certificate'])))                             #To find mean of the cost \n",
        "l1.append(a)                                                                  #Appending mean of Education & Teacher Training to l1\n",
        "print(l1)                                                                     #To print list"
      ],
      "execution_count": 18,
      "outputs": [
        {
          "output_type": "stream",
          "name": "stdout",
          "text": [
            "[126.45533333333336, 99.91666666666667, 87.0]\n"
          ]
        }
      ]
    },
    {
      "cell_type": "code",
      "metadata": {
        "colab": {
          "base_uri": "https://localhost:8080/"
        },
        "id": "fsfw-pyuKUuZ",
        "outputId": "464c3f08-2afa-49b8-b2fe-3ceff5a86230"
      },
      "source": [
        "p2=edx[edx['subject']=='Science']                                             #Creating a dataframe p2 of Science\n",
        "p2=p2.reset_index(drop=True)                                                  #To Reset index in p2 frame\n",
        "\n",
        "l21=[]                                                                        #Creating a list \n",
        "l21.append(p2['cost of verified certificate'])                                #appending l21 with the cost of Science and index\n",
        "\n",
        "l54=[]                                                                        #Creating a list\n",
        "for i in range(len(p2['cost of verified certificate'])):                      #To initialise a loop from zero till length of 'cost'\n",
        "    l54.append(l21[0][i])                                                     #To append cost by dropping the index value\n",
        "l32=[]                                                                        #Creating another list \n",
        "for x in l54:                                                                 #loop for the values in l54  \n",
        "    l32.append(float(x))                                                      #To convert the integer values to float\n",
        "l32                                                                         \n",
        "sum=0                                                                         #To Find sum of all the cost of courses in Science\n",
        "for i in l32:\n",
        "    sum+=i                                                                    #Incrementing value of sum\n",
        "a=(sum/(len(p2['cost of verified certificate'])))                             #To find mean of the cost \n",
        "l1.append(a)                                                                  #Appending mean of Science to l1\n",
        "print(l1)                                                                     #To print list"
      ],
      "execution_count": 19,
      "outputs": [
        {
          "output_type": "stream",
          "name": "stdout",
          "text": [
            "[126.45533333333336, 99.91666666666667, 87.0, 63.888888888888886]\n"
          ]
        }
      ]
    },
    {
      "cell_type": "code",
      "metadata": {
        "colab": {
          "base_uri": "https://localhost:8080/"
        },
        "id": "-qMjBdDaKbgP",
        "outputId": "144878b0-8661-4f09-ec3a-e7b1ef4c7979"
      },
      "source": [
        "p2=edx[edx['subject']=='History']                                             #Creating a dataframe p2 of History\n",
        "p2=p2.reset_index(drop=True)                                                  #To Reset index in p2 frame\n",
        "\n",
        "l21=[]                                                                        #Creating a list \n",
        "l21.append(p2['cost of verified certificate'])                                #appending l21 with the cost of History and index\n",
        "\n",
        "l54=[]                                                                        #Creating a list\n",
        "for i in range(len(p2['cost of verified certificate'])):                      #To initialise a loop from zero till length of 'cost'\n",
        "    l54.append(l21[0][i])                                                     #To append cost by dropping the index value\n",
        "l32=[]                                                                        #Creating another list \n",
        "for x in l54:                                                                 #loop for the values in l54  \n",
        "    l32.append(float(x))                                                      #To convert the integer values to float\n",
        "l32                                                                         \n",
        "sum=0                                                                         #To Find sum of all the cost of courses in History\n",
        "for i in l32:\n",
        "    sum+=i                                                                    #Incrementing value of sum\n",
        "a=(sum/(len(p2['cost of verified certificate'])))                             #To find mean of the cost \n",
        "l1.append(a)                                                                  #Appending mean of History to l1\n",
        "print(l1)                                                                     #To print list"
      ],
      "execution_count": 20,
      "outputs": [
        {
          "output_type": "stream",
          "name": "stdout",
          "text": [
            "[126.45533333333336, 99.91666666666667, 87.0, 63.888888888888886, 89.3529411764706]\n"
          ]
        }
      ]
    },
    {
      "cell_type": "code",
      "metadata": {
        "colab": {
          "base_uri": "https://localhost:8080/"
        },
        "id": "jjVv_-B3KdDX",
        "outputId": "32f1f23d-0ef3-49a4-9800-6f9a8c594db4"
      },
      "source": [
        "p2=edx[edx['subject']=='Biology & Life Sciences']                             #Creating a dataframe p2 of Biology & Life Sciences\n",
        "p2=p2.reset_index(drop=True)                                                  #To Reset index in p2 frame\n",
        "\n",
        "l21=[]                                                                        #Creating a list \n",
        "l21.append(p2['cost of verified certificate'])                                #appending l21 with the cost of Biology & Life Sciences and index\n",
        "\n",
        "l54=[]                                                                        #Creating a list\n",
        "for i in range(len(p2['cost of verified certificate'])):                      #To initialise a loop from zero till length of 'cost'\n",
        "    l54.append(l21[0][i])                                                     #To append cost by dropping the index value\n",
        "l32=[]                                                                        #Creating another list \n",
        "for x in l54:                                                                 #loop for the values in l54  \n",
        "    l32.append(float(x))                                                      #To convert the integer values to float\n",
        "l32                                                                         \n",
        "sum=0                                                                         #To Find sum of all the cost of courses in Biology & Life Sciences\n",
        "for i in l32:\n",
        "    sum+=i                                                                    #Incrementing value of sum\n",
        "a=(sum/(len(p2['cost of verified certificate'])))                             #To find mean of the cost \n",
        "l1.append(a)                                                                  #Appending mean of Biology & Life Sciences to l1\n",
        "print(l1)                                                                     #To print list"
      ],
      "execution_count": 21,
      "outputs": [
        {
          "output_type": "stream",
          "name": "stdout",
          "text": [
            "[126.45533333333336, 99.91666666666667, 87.0, 63.888888888888886, 89.3529411764706, 88.20588235294117]\n"
          ]
        }
      ]
    },
    {
      "cell_type": "code",
      "metadata": {
        "colab": {
          "base_uri": "https://localhost:8080/"
        },
        "id": "RnfPMZSxKdg3",
        "outputId": "facc17c1-4d95-493e-f35c-3a55590da087"
      },
      "source": [
        "p2=edx[edx['subject']=='Environmental Studies']                               #Creating a dataframe p2 of Environmental Studies\n",
        "p2=p2.reset_index(drop=True)                                                  #To Reset index in p2 frame\n",
        "\n",
        "l21=[]                                                                        #Creating a list \n",
        "l21.append(p2['cost of verified certificate'])                                #appending l21 with the cost of Environmental Studies and index\n",
        "\n",
        "l54=[]                                                                        #Creating a list\n",
        "for i in range(len(p2['cost of verified certificate'])):                      #To initialise a loop from zero till length of 'cost'\n",
        "    l54.append(l21[0][i])                                                     #To append cost by dropping the index value\n",
        "l32=[]                                                                        #Creating another list \n",
        "for x in l54:                                                                 #loop for the values in l54  \n",
        "    l32.append(float(x))                                                      #To convert the integer values to float\n",
        "l32                                                                         \n",
        "sum=0                                                                         #To Find sum of all the cost of courses in Environmental Studies\n",
        "for i in l32:\n",
        "    sum+=i                                                                    #Incrementing value of sum\n",
        "a=(sum/(len(p2['cost of verified certificate'])))                             #To find mean of the cost \n",
        "l1.append(a)                                                                  #Appending mean of Environmental Studies to l1\n",
        "print(l1)                                                                     #To print list"
      ],
      "execution_count": 22,
      "outputs": [
        {
          "output_type": "stream",
          "name": "stdout",
          "text": [
            "[126.45533333333336, 99.91666666666667, 87.0, 63.888888888888886, 89.3529411764706, 88.20588235294117, 70.07142857142857]\n"
          ]
        }
      ]
    },
    {
      "cell_type": "code",
      "metadata": {
        "colab": {
          "base_uri": "https://localhost:8080/"
        },
        "id": "CGDHcZKGKoU9",
        "outputId": "628574af-578d-4fdf-fffe-2995763199a1"
      },
      "source": [
        "p2=edx[edx['subject']=='Humanities']                                          #Creating a dataframe p2 of Humanities\n",
        "p2=p2.reset_index(drop=True)                                                  #To Reset index in p2 frame\n",
        "\n",
        "l21=[]                                                                        #Creating a list \n",
        "l21.append(p2['cost of verified certificate'])                                #appending l21 with the cost of Humanities and index\n",
        "\n",
        "l54=[]                                                                        #Creating a list\n",
        "for i in range(len(p2['cost of verified certificate'])):                      #To initialise a loop from zero till length of 'cost'\n",
        "    l54.append(l21[0][i])                                                     #To append cost by dropping the index value\n",
        "l32=[]                                                                        #Creating another list \n",
        "for x in l54:                                                                 #loop for the values in l54  \n",
        "    l32.append(float(x))                                                      #To convert the integer values to float\n",
        "l32                                                                         \n",
        "sum=0                                                                         #To Find sum of all the cost of courses in Humanities\n",
        "for i in l32:\n",
        "    sum+=i                                                                    #Incrementing value of sum\n",
        "a=(sum/(len(p2['cost of verified certificate'])))                             #To find mean of the cost \n",
        "l1.append(a)                                                                  #Appending mean of Humanities to l1\n",
        "print(l1)                                                                     #To print list"
      ],
      "execution_count": 23,
      "outputs": [
        {
          "output_type": "stream",
          "name": "stdout",
          "text": [
            "[126.45533333333336, 99.91666666666667, 87.0, 63.888888888888886, 89.3529411764706, 88.20588235294117, 70.07142857142857, 65.74177419354838]\n"
          ]
        }
      ]
    },
    {
      "cell_type": "code",
      "metadata": {
        "colab": {
          "base_uri": "https://localhost:8080/"
        },
        "id": "AOhKD834KogE",
        "outputId": "56da0148-2e97-40f3-fde4-6074c4b2cde6"
      },
      "source": [
        "p2=edx[edx['subject']=='Ethics']                                              #Creating a dataframe p2 of Ethics\n",
        "p2=p2.reset_index(drop=True)                                                  #To Reset index in p2 frame\n",
        "\n",
        "l21=[]                                                                        #Creating a list \n",
        "l21.append(p2['cost of verified certificate'])                                #appending l21 with the cost of Ethics and index\n",
        "\n",
        "l54=[]                                                                        #Creating a list\n",
        "for i in range(len(p2['cost of verified certificate'])):                      #To initialise a loop from zero till length of 'cost'\n",
        "    l54.append(l21[0][i])                                                     #To append cost by dropping the index value\n",
        "l32=[]                                                                        #Creating another list \n",
        "for x in l54:                                                                 #loop for the values in l54  \n",
        "    l32.append(float(x))                                                      #To convert the integer values to float\n",
        "l32                                                                         \n",
        "sum=0                                                                         #To Find sum of all the cost of courses in Ethics\n",
        "for i in l32:\n",
        "    sum+=i                                                                    #Incrementing value of sum\n",
        "a=(sum/(len(p2['cost of verified certificate'])))                             #To find mean of the cost \n",
        "l1.append(a)                                                                  #Appending mean of Ethics to l1\n",
        "print(l1)                                                                     #To print list"
      ],
      "execution_count": 24,
      "outputs": [
        {
          "output_type": "stream",
          "name": "stdout",
          "text": [
            "[126.45533333333336, 99.91666666666667, 87.0, 63.888888888888886, 89.3529411764706, 88.20588235294117, 70.07142857142857, 65.74177419354838, 49.0]\n"
          ]
        }
      ]
    },
    {
      "cell_type": "code",
      "metadata": {
        "colab": {
          "base_uri": "https://localhost:8080/"
        },
        "id": "iV9ue_y_K2lK",
        "outputId": "6877dbae-3edd-4f52-8224-9d5e8cc94cfe"
      },
      "source": [
        "p2=edx[edx['subject']=='Health & Safety']                                     #Creating a dataframe p2 of Health & Safety\n",
        "p2=p2.reset_index(drop=True)                                                  #To Reset index in p2 frame\n",
        "\n",
        "l21=[]                                                                        #Creating a list \n",
        "l21.append(p2['cost of verified certificate'])                                #appending l21 with the cost of Health & Safety and index\n",
        "\n",
        "l54=[]                                                                        #Creating a list\n",
        "for i in range(len(p2['cost of verified certificate'])):                      #To initialise a loop from zero till length of 'cost'\n",
        "    l54.append(l21[0][i])                                                     #To append cost by dropping the index value\n",
        "l32=[]                                                                        #Creating another list \n",
        "for x in l54:                                                                 #loop for the values in l54  \n",
        "    l32.append(float(x))                                                      #To convert the integer values to float\n",
        "l32                                                                         \n",
        "sum=0                                                                         #To Find sum of all the cost of courses in Health & Safety\n",
        "for i in l32:\n",
        "    sum+=i                                                                    #Incrementing value of sum\n",
        "a=(sum/(len(p2['cost of verified certificate'])))                             #To find mean of the cost \n",
        "l1.append(a)                                                                  #Appending mean of Health & Safety to l1\n",
        "print(l1)                                                                     #To print list"
      ],
      "execution_count": 25,
      "outputs": [
        {
          "output_type": "stream",
          "name": "stdout",
          "text": [
            "[126.45533333333336, 99.91666666666667, 87.0, 63.888888888888886, 89.3529411764706, 88.20588235294117, 70.07142857142857, 65.74177419354838, 49.0, 67.88888888888889]\n"
          ]
        }
      ]
    },
    {
      "cell_type": "code",
      "metadata": {
        "colab": {
          "base_uri": "https://localhost:8080/"
        },
        "id": "Ps61RWbIK3O0",
        "outputId": "39a30c29-fa1a-4afe-c7b8-cb1a76a40262"
      },
      "source": [
        "p2=edx[edx['subject']=='Food & Nutrition']                                    #Creating a dataframe p2 of Food & Nutrition\n",
        "p2=p2.reset_index(drop=True)                                                  #To Reset index in p2 frame\n",
        "\n",
        "l21=[]                                                                        #Creating a list \n",
        "l21.append(p2['cost of verified certificate'])                                #appending l21 with the cost of Food & Nutrition and index\n",
        "\n",
        "l54=[]                                                                        #Creating a list\n",
        "for i in range(len(p2['cost of verified certificate'])):                      #To initialise a loop from zero till length of 'cost'\n",
        "    l54.append(l21[0][i])                                                     #To append cost by dropping the index value\n",
        "l32=[]                                                                        #Creating another list \n",
        "for x in l54:                                                                 #loop for the values in l54  \n",
        "    l32.append(float(x))                                                      #To convert the integer values to float\n",
        "l32                                                                         \n",
        "sum=0                                                                         #To Find sum of all the cost of courses in Food & Nutrition\n",
        "for i in l32:\n",
        "    sum+=i                                                                    #Incrementing value of sum\n",
        "a=(sum/(len(p2['cost of verified certificate'])))                             #To find mean of the cost \n",
        "l1.append(a)                                                                  #Appending mean of Food & Nutrition to l1\n",
        "print(l1)                                                                     #To print list"
      ],
      "execution_count": 26,
      "outputs": [
        {
          "output_type": "stream",
          "name": "stdout",
          "text": [
            "[126.45533333333336, 99.91666666666667, 87.0, 63.888888888888886, 89.3529411764706, 88.20588235294117, 70.07142857142857, 65.74177419354838, 49.0, 67.88888888888889, 65.83333333333333]\n"
          ]
        }
      ]
    },
    {
      "cell_type": "code",
      "metadata": {
        "colab": {
          "base_uri": "https://localhost:8080/"
        },
        "id": "LcWuZpmbLEdi",
        "outputId": "ee739f76-7190-4dd5-d044-b3e4d3030c89"
      },
      "source": [
        "p2=edx[edx['subject']=='Business & Management']                               #Creating a dataframe p2 of Business & Management\n",
        "p2=p2.reset_index(drop=True)                                                  #To Reset index in p2 frame\n",
        "\n",
        "l21=[]                                                                        #Creating a list \n",
        "l21.append(p2['cost of verified certificate'])                                #appending l21 with the cost of Business & Management and index\n",
        "\n",
        "l54=[]                                                                        #Creating a list\n",
        "for i in range(len(p2['cost of verified certificate'])):                      #To initialise a loop from zero till length of 'cost'\n",
        "    l54.append(l21[0][i])                                                     #To append cost by dropping the index value\n",
        "l32=[]                                                                        #Creating another list \n",
        "for x in l54:                                                                 #loop for the values in l54  \n",
        "    l32.append(float(x))                                                      #To convert the integer values to float\n",
        "l32                                                                         \n",
        "sum=0                                                                         #To Find sum of all the cost of courses in Business & Management\n",
        "for i in l32:\n",
        "    sum+=i                                                                    #Incrementing value of sum\n",
        "a=(sum/(len(p2['cost of verified certificate'])))                             #To find mean of the cost \n",
        "l1.append(a)                                                                  #Appending mean of Business & Management to l1\n",
        "print(l1)                                                                     #To print list"
      ],
      "execution_count": 27,
      "outputs": [
        {
          "output_type": "stream",
          "name": "stdout",
          "text": [
            "[126.45533333333336, 99.91666666666667, 87.0, 63.888888888888886, 89.3529411764706, 88.20588235294117, 70.07142857142857, 65.74177419354838, 49.0, 67.88888888888889, 65.83333333333333, 135.25342465753425]\n"
          ]
        }
      ]
    },
    {
      "cell_type": "code",
      "metadata": {
        "colab": {
          "base_uri": "https://localhost:8080/"
        },
        "id": "dZ768KydLEmg",
        "outputId": "8ff57797-16d7-456f-a464-0cc8a7610573"
      },
      "source": [
        "p2=edx[edx['subject']=='Social Sciences']                                     #Creating a dataframe p2 of Social Sciences\n",
        "p2=p2.reset_index(drop=True)                                                  #To Reset index in p2 frame\n",
        "\n",
        "l21=[]                                                                        #Creating a list \n",
        "l21.append(p2['cost of verified certificate'])                                #appending l21 with the cost of Social Sciences and index\n",
        "\n",
        "l54=[]                                                                        #Creating a list\n",
        "for i in range(len(p2['cost of verified certificate'])):                      #To initialise a loop from zero till length of 'cost'\n",
        "    l54.append(l21[0][i])                                                     #To append cost by dropping the index value\n",
        "l32=[]                                                                        #Creating another list \n",
        "for x in l54:                                                                 #loop for the values in l54  \n",
        "    l32.append(float(x))                                                      #To convert the integer values to float\n",
        "l32                                                                         \n",
        "sum=0                                                                         #To Find sum of all the cost of courses in Social Sciences\n",
        "for i in l32:\n",
        "    sum+=i                                                                    #Incrementing value of sum\n",
        "a=(sum/(len(p2['cost of verified certificate'])))                             #To find mean of the cost \n",
        "l1.append(a)                                                                  #Appending mean of Social Sciences to l1\n",
        "print(l1)                                                                     #To print list"
      ],
      "execution_count": 28,
      "outputs": [
        {
          "output_type": "stream",
          "name": "stdout",
          "text": [
            "[126.45533333333336, 99.91666666666667, 87.0, 63.888888888888886, 89.3529411764706, 88.20588235294117, 70.07142857142857, 65.74177419354838, 49.0, 67.88888888888889, 65.83333333333333, 135.25342465753425, 77.26086956521739]\n"
          ]
        }
      ]
    },
    {
      "cell_type": "code",
      "metadata": {
        "colab": {
          "base_uri": "https://localhost:8080/"
        },
        "id": "COQ_KZ0DLW5k",
        "outputId": "7554319a-e1ad-4b43-c62e-fed2535f56af"
      },
      "source": [
        "l1  #Printing the list of mean of all subjects"
      ],
      "execution_count": 29,
      "outputs": [
        {
          "output_type": "execute_result",
          "data": {
            "text/plain": [
              "[126.45533333333336,\n",
              " 99.91666666666667,\n",
              " 87.0,\n",
              " 63.888888888888886,\n",
              " 89.3529411764706,\n",
              " 88.20588235294117,\n",
              " 70.07142857142857,\n",
              " 65.74177419354838,\n",
              " 49.0,\n",
              " 67.88888888888889,\n",
              " 65.83333333333333,\n",
              " 135.25342465753425,\n",
              " 77.26086956521739]"
            ]
          },
          "metadata": {},
          "execution_count": 29
        }
      ]
    },
    {
      "cell_type": "markdown",
      "metadata": {
        "id": "mhKNFYzyhXer"
      },
      "source": [
        "# **Implementing data through DONUT CHART**"
      ]
    },
    {
      "cell_type": "code",
      "metadata": {
        "colab": {
          "base_uri": "https://localhost:8080/",
          "height": 542
        },
        "id": "AHsXeJqYNaoc",
        "outputId": "8de00408-6a2d-48d8-acad-c719f25cc335"
      },
      "source": [
        "labels = ['Computer Science','Data Analysis & Statistics','Education & Teacher Training','Science','History',\n",
        "          'Biology & Life Sciences','Environmental Studies','Humanities','Ethics','Health & Safety',\n",
        "          'Food & Nutrition','Business & Management','Social Sciences']                                      #Declaring labels of the subjects for which we have calculated mean\n",
        "values = l1                                                                                                  #Assigning values to l1\n",
        "fig = go.Figure(data=[go.Pie(labels=labels, values=l1, hole=0.4)])                                           #Code create a donut chart\n",
        "fig.update_layout(title_text=\"Mean price offered by each course\", annotations=[dict(text='Mean', x=0.50, y=0.5, font_size=20, showarrow=False)]) #Add annotations in the center of the donut pies.\n",
        "fig.show()                                                                                                                                             #Displaying the donut chart"
      ],
      "execution_count": 30,
      "outputs": [
        {
          "output_type": "display_data",
          "data": {
            "text/html": [
              "<html>\n",
              "<head><meta charset=\"utf-8\" /></head>\n",
              "<body>\n",
              "    <div>\n",
              "            <script src=\"https://cdnjs.cloudflare.com/ajax/libs/mathjax/2.7.5/MathJax.js?config=TeX-AMS-MML_SVG\"></script><script type=\"text/javascript\">if (window.MathJax) {MathJax.Hub.Config({SVG: {font: \"STIX-Web\"}});}</script>\n",
              "                <script type=\"text/javascript\">window.PlotlyConfig = {MathJaxConfig: 'local'};</script>\n",
              "        <script src=\"https://cdn.plot.ly/plotly-latest.min.js\"></script>    \n",
              "            <div id=\"449efff9-cc70-463b-a9bf-958cd23ac954\" class=\"plotly-graph-div\" style=\"height:525px; width:100%;\"></div>\n",
              "            <script type=\"text/javascript\">\n",
              "                \n",
              "                    window.PLOTLYENV=window.PLOTLYENV || {};\n",
              "                    \n",
              "                if (document.getElementById(\"449efff9-cc70-463b-a9bf-958cd23ac954\")) {\n",
              "                    Plotly.newPlot(\n",
              "                        '449efff9-cc70-463b-a9bf-958cd23ac954',\n",
              "                        [{\"hole\": 0.4, \"labels\": [\"Computer Science\", \"Data Analysis & Statistics\", \"Education & Teacher Training\", \"Science\", \"History\", \"Biology & Life Sciences\", \"Environmental Studies\", \"Humanities\", \"Ethics\", \"Health & Safety\", \"Food & Nutrition\", \"Business & Management\", \"Social Sciences\"], \"type\": \"pie\", \"values\": [126.45533333333336, 99.91666666666667, 87.0, 63.888888888888886, 89.3529411764706, 88.20588235294117, 70.07142857142857, 65.74177419354838, 49.0, 67.88888888888889, 65.83333333333333, 135.25342465753425, 77.26086956521739]}],\n",
              "                        {\"annotations\": [{\"font\": {\"size\": 20}, \"showarrow\": false, \"text\": \"Mean\", \"x\": 0.5, \"y\": 0.5}], \"template\": {\"data\": {\"bar\": [{\"error_x\": {\"color\": \"#2a3f5f\"}, \"error_y\": {\"color\": \"#2a3f5f\"}, \"marker\": {\"line\": {\"color\": \"#E5ECF6\", \"width\": 0.5}}, \"type\": \"bar\"}], \"barpolar\": [{\"marker\": {\"line\": {\"color\": \"#E5ECF6\", \"width\": 0.5}}, \"type\": \"barpolar\"}], \"carpet\": [{\"aaxis\": {\"endlinecolor\": \"#2a3f5f\", \"gridcolor\": \"white\", \"linecolor\": \"white\", \"minorgridcolor\": \"white\", \"startlinecolor\": \"#2a3f5f\"}, \"baxis\": {\"endlinecolor\": \"#2a3f5f\", \"gridcolor\": \"white\", \"linecolor\": \"white\", \"minorgridcolor\": \"white\", \"startlinecolor\": \"#2a3f5f\"}, \"type\": \"carpet\"}], \"choropleth\": [{\"colorbar\": {\"outlinewidth\": 0, \"ticks\": \"\"}, \"type\": \"choropleth\"}], \"contour\": [{\"colorbar\": {\"outlinewidth\": 0, \"ticks\": \"\"}, \"colorscale\": [[0.0, \"#0d0887\"], [0.1111111111111111, \"#46039f\"], [0.2222222222222222, \"#7201a8\"], [0.3333333333333333, \"#9c179e\"], [0.4444444444444444, \"#bd3786\"], [0.5555555555555556, \"#d8576b\"], [0.6666666666666666, \"#ed7953\"], [0.7777777777777778, \"#fb9f3a\"], [0.8888888888888888, \"#fdca26\"], [1.0, \"#f0f921\"]], \"type\": \"contour\"}], \"contourcarpet\": [{\"colorbar\": {\"outlinewidth\": 0, \"ticks\": \"\"}, \"type\": \"contourcarpet\"}], \"heatmap\": [{\"colorbar\": {\"outlinewidth\": 0, \"ticks\": \"\"}, \"colorscale\": [[0.0, \"#0d0887\"], [0.1111111111111111, \"#46039f\"], [0.2222222222222222, \"#7201a8\"], [0.3333333333333333, \"#9c179e\"], [0.4444444444444444, \"#bd3786\"], [0.5555555555555556, \"#d8576b\"], [0.6666666666666666, \"#ed7953\"], [0.7777777777777778, \"#fb9f3a\"], [0.8888888888888888, \"#fdca26\"], [1.0, \"#f0f921\"]], \"type\": \"heatmap\"}], \"heatmapgl\": [{\"colorbar\": {\"outlinewidth\": 0, \"ticks\": \"\"}, \"colorscale\": [[0.0, \"#0d0887\"], [0.1111111111111111, \"#46039f\"], [0.2222222222222222, \"#7201a8\"], [0.3333333333333333, \"#9c179e\"], [0.4444444444444444, \"#bd3786\"], [0.5555555555555556, \"#d8576b\"], [0.6666666666666666, \"#ed7953\"], [0.7777777777777778, \"#fb9f3a\"], [0.8888888888888888, \"#fdca26\"], [1.0, \"#f0f921\"]], \"type\": \"heatmapgl\"}], \"histogram\": [{\"marker\": {\"colorbar\": {\"outlinewidth\": 0, \"ticks\": \"\"}}, \"type\": \"histogram\"}], \"histogram2d\": [{\"colorbar\": {\"outlinewidth\": 0, \"ticks\": \"\"}, \"colorscale\": [[0.0, \"#0d0887\"], [0.1111111111111111, \"#46039f\"], [0.2222222222222222, \"#7201a8\"], [0.3333333333333333, \"#9c179e\"], [0.4444444444444444, \"#bd3786\"], [0.5555555555555556, \"#d8576b\"], [0.6666666666666666, \"#ed7953\"], [0.7777777777777778, \"#fb9f3a\"], [0.8888888888888888, \"#fdca26\"], [1.0, \"#f0f921\"]], \"type\": \"histogram2d\"}], \"histogram2dcontour\": [{\"colorbar\": {\"outlinewidth\": 0, \"ticks\": \"\"}, \"colorscale\": [[0.0, \"#0d0887\"], [0.1111111111111111, \"#46039f\"], [0.2222222222222222, \"#7201a8\"], [0.3333333333333333, \"#9c179e\"], [0.4444444444444444, \"#bd3786\"], [0.5555555555555556, \"#d8576b\"], [0.6666666666666666, \"#ed7953\"], [0.7777777777777778, \"#fb9f3a\"], [0.8888888888888888, \"#fdca26\"], [1.0, \"#f0f921\"]], \"type\": \"histogram2dcontour\"}], \"mesh3d\": [{\"colorbar\": {\"outlinewidth\": 0, \"ticks\": \"\"}, \"type\": \"mesh3d\"}], \"parcoords\": [{\"line\": {\"colorbar\": {\"outlinewidth\": 0, \"ticks\": \"\"}}, \"type\": \"parcoords\"}], \"pie\": [{\"automargin\": true, \"type\": \"pie\"}], \"scatter\": [{\"marker\": {\"colorbar\": {\"outlinewidth\": 0, \"ticks\": \"\"}}, \"type\": \"scatter\"}], \"scatter3d\": [{\"line\": {\"colorbar\": {\"outlinewidth\": 0, \"ticks\": \"\"}}, \"marker\": {\"colorbar\": {\"outlinewidth\": 0, \"ticks\": \"\"}}, \"type\": \"scatter3d\"}], \"scattercarpet\": [{\"marker\": {\"colorbar\": {\"outlinewidth\": 0, \"ticks\": \"\"}}, \"type\": \"scattercarpet\"}], \"scattergeo\": [{\"marker\": {\"colorbar\": {\"outlinewidth\": 0, \"ticks\": \"\"}}, \"type\": \"scattergeo\"}], \"scattergl\": [{\"marker\": {\"colorbar\": {\"outlinewidth\": 0, \"ticks\": \"\"}}, \"type\": \"scattergl\"}], \"scattermapbox\": [{\"marker\": {\"colorbar\": {\"outlinewidth\": 0, \"ticks\": \"\"}}, \"type\": \"scattermapbox\"}], \"scatterpolar\": [{\"marker\": {\"colorbar\": {\"outlinewidth\": 0, \"ticks\": \"\"}}, \"type\": \"scatterpolar\"}], \"scatterpolargl\": [{\"marker\": {\"colorbar\": {\"outlinewidth\": 0, \"ticks\": \"\"}}, \"type\": \"scatterpolargl\"}], \"scatterternary\": [{\"marker\": {\"colorbar\": {\"outlinewidth\": 0, \"ticks\": \"\"}}, \"type\": \"scatterternary\"}], \"surface\": [{\"colorbar\": {\"outlinewidth\": 0, \"ticks\": \"\"}, \"colorscale\": [[0.0, \"#0d0887\"], [0.1111111111111111, \"#46039f\"], [0.2222222222222222, \"#7201a8\"], [0.3333333333333333, \"#9c179e\"], [0.4444444444444444, \"#bd3786\"], [0.5555555555555556, \"#d8576b\"], [0.6666666666666666, \"#ed7953\"], [0.7777777777777778, \"#fb9f3a\"], [0.8888888888888888, \"#fdca26\"], [1.0, \"#f0f921\"]], \"type\": \"surface\"}], \"table\": [{\"cells\": {\"fill\": {\"color\": \"#EBF0F8\"}, \"line\": {\"color\": \"white\"}}, \"header\": {\"fill\": {\"color\": \"#C8D4E3\"}, \"line\": {\"color\": \"white\"}}, \"type\": \"table\"}]}, \"layout\": {\"annotationdefaults\": {\"arrowcolor\": \"#2a3f5f\", \"arrowhead\": 0, \"arrowwidth\": 1}, \"coloraxis\": {\"colorbar\": {\"outlinewidth\": 0, \"ticks\": \"\"}}, \"colorscale\": {\"diverging\": [[0, \"#8e0152\"], [0.1, \"#c51b7d\"], [0.2, \"#de77ae\"], [0.3, \"#f1b6da\"], [0.4, \"#fde0ef\"], [0.5, \"#f7f7f7\"], [0.6, \"#e6f5d0\"], [0.7, \"#b8e186\"], [0.8, \"#7fbc41\"], [0.9, \"#4d9221\"], [1, \"#276419\"]], \"sequential\": [[0.0, \"#0d0887\"], [0.1111111111111111, \"#46039f\"], [0.2222222222222222, \"#7201a8\"], [0.3333333333333333, \"#9c179e\"], [0.4444444444444444, \"#bd3786\"], [0.5555555555555556, \"#d8576b\"], [0.6666666666666666, \"#ed7953\"], [0.7777777777777778, \"#fb9f3a\"], [0.8888888888888888, \"#fdca26\"], [1.0, \"#f0f921\"]], \"sequentialminus\": [[0.0, \"#0d0887\"], [0.1111111111111111, \"#46039f\"], [0.2222222222222222, \"#7201a8\"], [0.3333333333333333, \"#9c179e\"], [0.4444444444444444, \"#bd3786\"], [0.5555555555555556, \"#d8576b\"], [0.6666666666666666, \"#ed7953\"], [0.7777777777777778, \"#fb9f3a\"], [0.8888888888888888, \"#fdca26\"], [1.0, \"#f0f921\"]]}, \"colorway\": [\"#636efa\", \"#EF553B\", \"#00cc96\", \"#ab63fa\", \"#FFA15A\", \"#19d3f3\", \"#FF6692\", \"#B6E880\", \"#FF97FF\", \"#FECB52\"], \"font\": {\"color\": \"#2a3f5f\"}, \"geo\": {\"bgcolor\": \"white\", \"lakecolor\": \"white\", \"landcolor\": \"#E5ECF6\", \"showlakes\": true, \"showland\": true, \"subunitcolor\": \"white\"}, \"hoverlabel\": {\"align\": \"left\"}, \"hovermode\": \"closest\", \"mapbox\": {\"style\": \"light\"}, \"paper_bgcolor\": \"white\", \"plot_bgcolor\": \"#E5ECF6\", \"polar\": {\"angularaxis\": {\"gridcolor\": \"white\", \"linecolor\": \"white\", \"ticks\": \"\"}, \"bgcolor\": \"#E5ECF6\", \"radialaxis\": {\"gridcolor\": \"white\", \"linecolor\": \"white\", \"ticks\": \"\"}}, \"scene\": {\"xaxis\": {\"backgroundcolor\": \"#E5ECF6\", \"gridcolor\": \"white\", \"gridwidth\": 2, \"linecolor\": \"white\", \"showbackground\": true, \"ticks\": \"\", \"zerolinecolor\": \"white\"}, \"yaxis\": {\"backgroundcolor\": \"#E5ECF6\", \"gridcolor\": \"white\", \"gridwidth\": 2, \"linecolor\": \"white\", \"showbackground\": true, \"ticks\": \"\", \"zerolinecolor\": \"white\"}, \"zaxis\": {\"backgroundcolor\": \"#E5ECF6\", \"gridcolor\": \"white\", \"gridwidth\": 2, \"linecolor\": \"white\", \"showbackground\": true, \"ticks\": \"\", \"zerolinecolor\": \"white\"}}, \"shapedefaults\": {\"line\": {\"color\": \"#2a3f5f\"}}, \"ternary\": {\"aaxis\": {\"gridcolor\": \"white\", \"linecolor\": \"white\", \"ticks\": \"\"}, \"baxis\": {\"gridcolor\": \"white\", \"linecolor\": \"white\", \"ticks\": \"\"}, \"bgcolor\": \"#E5ECF6\", \"caxis\": {\"gridcolor\": \"white\", \"linecolor\": \"white\", \"ticks\": \"\"}}, \"title\": {\"x\": 0.05}, \"xaxis\": {\"automargin\": true, \"gridcolor\": \"white\", \"linecolor\": \"white\", \"ticks\": \"\", \"title\": {\"standoff\": 15}, \"zerolinecolor\": \"white\", \"zerolinewidth\": 2}, \"yaxis\": {\"automargin\": true, \"gridcolor\": \"white\", \"linecolor\": \"white\", \"ticks\": \"\", \"title\": {\"standoff\": 15}, \"zerolinecolor\": \"white\", \"zerolinewidth\": 2}}}, \"title\": {\"text\": \"Mean price offered by each course\"}},\n",
              "                        {\"responsive\": true}\n",
              "                    ).then(function(){\n",
              "                            \n",
              "var gd = document.getElementById('449efff9-cc70-463b-a9bf-958cd23ac954');\n",
              "var x = new MutationObserver(function (mutations, observer) {{\n",
              "        var display = window.getComputedStyle(gd).display;\n",
              "        if (!display || display === 'none') {{\n",
              "            console.log([gd, 'removed!']);\n",
              "            Plotly.purge(gd);\n",
              "            observer.disconnect();\n",
              "        }}\n",
              "}});\n",
              "\n",
              "// Listen for the removal of the full notebook cells\n",
              "var notebookContainer = gd.closest('#notebook-container');\n",
              "if (notebookContainer) {{\n",
              "    x.observe(notebookContainer, {childList: true});\n",
              "}}\n",
              "\n",
              "// Listen for the clearing of the current output cell\n",
              "var outputEl = gd.closest('.output');\n",
              "if (outputEl) {{\n",
              "    x.observe(outputEl, {childList: true});\n",
              "}}\n",
              "\n",
              "                        })\n",
              "                };\n",
              "                \n",
              "            </script>\n",
              "        </div>\n",
              "</body>\n",
              "</html>"
            ]
          },
          "metadata": {}
        }
      ]
    },
    {
      "cell_type": "markdown",
      "metadata": {
        "id": "9O8UgtHTN9D4"
      },
      "source": [
        "# **NOTE**✍\n",
        "✔ **Donut Charts are a special kind of Pie chart with the difference that it has a Blank Circle at the center. This empty space can be used to display additional data. It is used for displaying percentage data for categorical variables with a limited number of groups.**\n",
        "\n",
        "✔ **The above donut chart indicates the mean price offered by each course in percentage.**\n",
        "\n",
        "✔ **Above chart is made using Plotly.**"
      ]
    },
    {
      "cell_type": "markdown",
      "metadata": {
        "id": "7vBlfnk9zDsG"
      },
      "source": [
        "# **Implemented data through SCATTER PLOT**\n",
        "\n",
        "(remaining data from the subjects)"
      ]
    },
    {
      "cell_type": "code",
      "metadata": {
        "id": "e7IQBB9Ts8lV"
      },
      "source": [
        "l2=[]                                                                          #Declaring a list to store mean cost of different subjects"
      ],
      "execution_count": 31,
      "outputs": []
    },
    {
      "cell_type": "code",
      "metadata": {
        "colab": {
          "base_uri": "https://localhost:8080/"
        },
        "id": "McjNNt1asrbr",
        "outputId": "20c7a98c-d7b2-483b-8ca5-697ab5954741"
      },
      "source": [
        "p2=edx[edx['subject']=='Engineering']                                         #Creating a dataframe p2 of Engineering\n",
        "p2=p2.reset_index(drop=True)                                                  #To Reset index in p2 frame\n",
        "\n",
        "l21=[]                                                                        #Creating a list \n",
        "l21.append(p2['cost of verified certificate'])                                #appending l21 with the cost of Engineering and index\n",
        "\n",
        "l54=[]                                                                        #Creating a list\n",
        "for i in range(len(p2['cost of verified certificate'])):                      #To initialise a loop from zero till length of 'cost'\n",
        "    l54.append(l21[0][i])                                                     #To append cost by dropping the index value\n",
        "l32=[]                                                                        #Creating another list \n",
        "for x in l54:                                                                 #loop for the values in l54  \n",
        "    l32.append(float(x))                                                      #To convert the integer values to float\n",
        "l32                                                                         \n",
        "sum=0                                                                         #To Find sum of all the cost of courses in Engineering\n",
        "for i in l32:\n",
        "    sum+=i                                                                    #Incrementing value of sum\n",
        "a=(sum/(len(p2['cost of verified certificate'])))                             #To find mean of the cost \n",
        "l2.append(a)                                                                  #Appending mean of Engineering to l2\n",
        "print(l2)   "
      ],
      "execution_count": 32,
      "outputs": [
        {
          "output_type": "stream",
          "name": "stdout",
          "text": [
            "[122.10204081632654]\n"
          ]
        }
      ]
    },
    {
      "cell_type": "code",
      "metadata": {
        "colab": {
          "base_uri": "https://localhost:8080/"
        },
        "id": "NDkmAp2ItK7n",
        "outputId": "b09c7bc9-967e-4008-a3e9-2bd264f341dc"
      },
      "source": [
        "p2=edx[edx['subject']=='Economics & Finance']                                 #Creating a dataframe p2 of Economics & Finance\n",
        "p2=p2.reset_index(drop=True)                                                  #To Reset index in p2 frame\n",
        "\n",
        "l21=[]                                                                        #Creating a list \n",
        "l21.append(p2['cost of verified certificate'])                                #appending l21 with the cost of Economics & Finance and index\n",
        "\n",
        "l54=[]                                                                        #Creating a list\n",
        "for i in range(len(p2['cost of verified certificate'])):                      #To initialise a loop from zero till length of 'cost'\n",
        "    l54.append(l21[0][i])                                                     #To append cost by dropping the index value\n",
        "l32=[]                                                                        #Creating another list \n",
        "for x in l54:                                                                 #loop for the values in l54  \n",
        "    l32.append(float(x))                                                      #To convert the integer values to float\n",
        "l32                                                                         \n",
        "sum=0                                                                         #To Find sum of all the cost of courses in Economics & Finance\n",
        "for i in l32:\n",
        "    sum+=i                                                                    #Incrementing value of sum\n",
        "a=(sum/(len(p2['cost of verified certificate'])))                             #To find mean of the cost \n",
        "l2.append(a)                                                                  #Appending mean of Economics & Finance to l2\n",
        "print(l2)   "
      ],
      "execution_count": 33,
      "outputs": [
        {
          "output_type": "stream",
          "name": "stdout",
          "text": [
            "[122.10204081632654, 75.15918918918919]\n"
          ]
        }
      ]
    },
    {
      "cell_type": "code",
      "metadata": {
        "colab": {
          "base_uri": "https://localhost:8080/"
        },
        "id": "W9oB0MxxtWl4",
        "outputId": "e4746c1b-45de-46b4-a0ec-67058918297d"
      },
      "source": [
        "p2=edx[edx['subject']=='Communication']                                     #Creating a dataframe p2 of Communication\n",
        "p2=p2.reset_index(drop=True)                                                  #To Reset index in p2 frame\n",
        "\n",
        "l21=[]                                                                        #Creating a list \n",
        "l21.append(p2['cost of verified certificate'])                                #appending l21 with the cost of Communication and index\n",
        "\n",
        "l54=[]                                                                        #Creating a list\n",
        "for i in range(len(p2['cost of verified certificate'])):                      #To initialise a loop from zero till length of 'cost'\n",
        "    l54.append(l21[0][i])                                                     #To append cost by dropping the index value\n",
        "l32=[]                                                                        #Creating another list \n",
        "for x in l54:                                                                 #loop for the values in l54  \n",
        "    l32.append(float(x))                                                      #To convert the integer values to float\n",
        "l32                                                                         \n",
        "sum=0                                                                         #To Find sum of all the cost of courses in Communication\n",
        "for i in l32:\n",
        "    sum+=i                                                                    #Incrementing value of sum\n",
        "a=(sum/(len(p2['cost of verified certificate'])))                             #To find mean of the cost \n",
        "l2.append(a)                                                                  #Appending mean of Communication to l2\n",
        "print(l2)   "
      ],
      "execution_count": 34,
      "outputs": [
        {
          "output_type": "stream",
          "name": "stdout",
          "text": [
            "[122.10204081632654, 75.15918918918919, 83.42857142857143]\n"
          ]
        }
      ]
    },
    {
      "cell_type": "code",
      "metadata": {
        "colab": {
          "base_uri": "https://localhost:8080/"
        },
        "id": "djr5XoV2tfdk",
        "outputId": "6acfb035-e381-46fc-d679-6190f92c66f0"
      },
      "source": [
        "p2=edx[edx['subject']=='Language']                                            #Creating a dataframe p2 of Language\n",
        "p2=p2.reset_index(drop=True)                                                  #To Reset index in p2 frame\n",
        "\n",
        "l21=[]                                                                        #Creating a list \n",
        "l21.append(p2['cost of verified certificate'])                                #appending l21 with the cost of Language and index\n",
        "\n",
        "l54=[]                                                                        #Creating a list\n",
        "for i in range(len(p2['cost of verified certificate'])):                      #To initialise a loop from zero till length of 'cost'\n",
        "    l54.append(l21[0][i])                                                     #To append cost by dropping the index value\n",
        "l32=[]                                                                        #Creating another list \n",
        "for x in l54:                                                                 #loop for the values in l54  \n",
        "    l32.append(float(x))                                                      #To convert the integer values to float\n",
        "l32                                                                         \n",
        "sum=0                                                                         #To Find sum of all the cost of courses in Language\n",
        "for i in l32:\n",
        "    sum+=i                                                                    #Incrementing value of sum\n",
        "a=(sum/(len(p2['cost of verified certificate'])))                             #To find mean of the cost \n",
        "l2.append(a)                                                                  #Appending mean of Language to l2\n",
        "print(l2)   "
      ],
      "execution_count": 35,
      "outputs": [
        {
          "output_type": "stream",
          "name": "stdout",
          "text": [
            "[122.10204081632654, 75.15918918918919, 83.42857142857143, 84.03703703703704]\n"
          ]
        }
      ]
    },
    {
      "cell_type": "code",
      "metadata": {
        "colab": {
          "base_uri": "https://localhost:8080/"
        },
        "id": "q55PJCs7uO22",
        "outputId": "74f0af10-116c-4439-893b-97918a0077e3"
      },
      "source": [
        "p2=edx[edx['subject']=='Math']                                                #Creating a dataframe p2 of Math\n",
        "p2=p2.reset_index(drop=True)                                                  #To Reset index in p2 frame\n",
        "\n",
        "l21=[]                                                                        #Creating a list \n",
        "l21.append(p2['cost of verified certificate'])                                #appending l21 with the cost of Math and index\n",
        "\n",
        "l54=[]                                                                        #Creating a list\n",
        "for i in range(len(p2['cost of verified certificate'])):                      #To initialise a loop from zero till length of 'cost'\n",
        "    l54.append(l21[0][i])                                                     #To append cost by dropping the index value\n",
        "l32=[]                                                                        #Creating another list \n",
        "for x in l54:                                                                 #loop for the values in l54  \n",
        "    l32.append(float(x))                                                      #To convert the integer values to float\n",
        "l32                                                                         \n",
        "sum=0                                                                         #To Find sum of all the cost of courses in Math\n",
        "for i in l32:\n",
        "    sum+=i                                                                    #Incrementing value of sum\n",
        "a=(sum/(len(p2['cost of verified certificate'])))                             #To find mean of the cost \n",
        "l2.append(a)                                                                  #Appending mean of Math to l2\n",
        "print(l2) "
      ],
      "execution_count": 36,
      "outputs": [
        {
          "output_type": "stream",
          "name": "stdout",
          "text": [
            "[122.10204081632654, 75.15918918918919, 83.42857142857143, 84.03703703703704, 66.1304347826087]\n"
          ]
        }
      ]
    },
    {
      "cell_type": "code",
      "metadata": {
        "colab": {
          "base_uri": "https://localhost:8080/"
        },
        "id": "6Oqia3KouVbY",
        "outputId": "7f8850ee-07ac-4037-b1d4-326cbb30b955"
      },
      "source": [
        "p2=edx[edx['subject']=='Medicine']                                            #Creating a dataframe p2 of Medicine\n",
        "p2=p2.reset_index(drop=True)                                                  #To Reset index in p2 frame\n",
        "\n",
        "l21=[]                                                                        #Creating a list \n",
        "l21.append(p2['cost of verified certificate'])                                #appending l21 with the cost of Medicine and index\n",
        "\n",
        "l54=[]                                                                        #Creating a list\n",
        "for i in range(len(p2['cost of verified certificate'])):                      #To initialise a loop from zero till length of 'cost'\n",
        "    l54.append(l21[0][i])                                                     #To append cost by dropping the index value\n",
        "l32=[]                                                                        #Creating another list \n",
        "for x in l54:                                                                 #loop for the values in l54  \n",
        "    l32.append(float(x))                                                      #To convert the integer values to float\n",
        "l32                                                                         \n",
        "sum=0                                                                         #To Find sum of all the cost of courses in Medicine\n",
        "for i in l32:\n",
        "    sum+=i                                                                    #Incrementing value of sum\n",
        "a=(sum/(len(p2['cost of verified certificate'])))                             #To find mean of the cost \n",
        "l2.append(a)                                                                  #Appending mean of Medicine to l2\n",
        "print(l2) "
      ],
      "execution_count": 37,
      "outputs": [
        {
          "output_type": "stream",
          "name": "stdout",
          "text": [
            "[122.10204081632654, 75.15918918918919, 83.42857142857143, 84.03703703703704, 66.1304347826087, 104.30434782608695]\n"
          ]
        }
      ]
    },
    {
      "cell_type": "code",
      "metadata": {
        "colab": {
          "base_uri": "https://localhost:8080/"
        },
        "id": "1OcA6qqBvM7y",
        "outputId": "9ba67a01-cd60-4d45-e79a-4ba75be4da9e"
      },
      "source": [
        "p2=edx[edx['subject']=='Physics']                                     #Creating a dataframe p2 of Physics\n",
        "p2=p2.reset_index(drop=True)                                                  #To Reset index in p2 frame\n",
        "\n",
        "l21=[]                                                                        #Creating a list \n",
        "l21.append(p2['cost of verified certificate'])                                #appending l21 with the cost of Physics and index\n",
        "\n",
        "l54=[]                                                                        #Creating a list\n",
        "for i in range(len(p2['cost of verified certificate'])):                      #To initialise a loop from zero till length of 'cost'\n",
        "    l54.append(l21[0][i])                                                     #To append cost by dropping the index value\n",
        "l32=[]                                                                        #Creating another list \n",
        "for x in l54:                                                                 #loop for the values in l54  \n",
        "    l32.append(float(x))                                                      #To convert the integer values to float\n",
        "l32                                                                         \n",
        "sum=0                                                                         #To Find sum of all the cost of courses in Physics\n",
        "for i in l32:\n",
        "    sum+=i                                                                    #Incrementing value of sum\n",
        "a=(sum/(len(p2['cost of verified certificate'])))                             #To find mean of the cost \n",
        "l2.append(a)                                                                  #Appending mean of Physics to l2\n",
        "print(l2) "
      ],
      "execution_count": 38,
      "outputs": [
        {
          "output_type": "stream",
          "name": "stdout",
          "text": [
            "[122.10204081632654, 75.15918918918919, 83.42857142857143, 84.03703703703704, 66.1304347826087, 104.30434782608695, 65.11764705882354]\n"
          ]
        }
      ]
    },
    {
      "cell_type": "code",
      "metadata": {
        "colab": {
          "base_uri": "https://localhost:8080/"
        },
        "id": "M0bc_L-yvQOZ",
        "outputId": "cb929460-8370-4226-c9dd-f9b6a7fad3ed"
      },
      "source": [
        "p2=edx[edx['subject']=='Chemistry']                                     #Creating a dataframe p2 of Chemistry\n",
        "p2=p2.reset_index(drop=True)                                                  #To Reset index in p2 frame\n",
        "\n",
        "l21=[]                                                                        #Creating a list \n",
        "l21.append(p2['cost of verified certificate'])                                #appending l21 with the cost of Chemistry and index\n",
        "\n",
        "l54=[]                                                                        #Creating a list\n",
        "for i in range(len(p2['cost of verified certificate'])):                      #To initialise a loop from zero till length of 'cost'\n",
        "    l54.append(l21[0][i])                                                     #To append cost by dropping the index value\n",
        "l32=[]                                                                        #Creating another list \n",
        "for x in l54:                                                                 #loop for the values in l54  \n",
        "    l32.append(float(x))                                                      #To convert the integer values to float\n",
        "l32                                                                         \n",
        "sum=0                                                                         #To Find sum of all the cost of courses in Chemistry\n",
        "for i in l32:\n",
        "    sum+=i                                                                    #Incrementing value of sum\n",
        "a=(sum/(len(p2['cost of verified certificate'])))                             #To find mean of the cost \n",
        "l2.append(a)                                                                  #Appending mean of Chemistry to l2\n",
        "print(l2) "
      ],
      "execution_count": 39,
      "outputs": [
        {
          "output_type": "stream",
          "name": "stdout",
          "text": [
            "[122.10204081632654, 75.15918918918919, 83.42857142857143, 84.03703703703704, 66.1304347826087, 104.30434782608695, 65.11764705882354, 74.2]\n"
          ]
        }
      ]
    },
    {
      "cell_type": "code",
      "metadata": {
        "colab": {
          "base_uri": "https://localhost:8080/"
        },
        "id": "w8GocfRKvbmh",
        "outputId": "a4973fc9-6679-4750-e9a7-2a4154520134"
      },
      "source": [
        "p2=edx[edx['subject']=='Design']                                              #Creating a dataframe p2 of Design\n",
        "p2=p2.reset_index(drop=True)                                                  #To Reset index in p2 frame\n",
        "\n",
        "l21=[]                                                                        #Creating a list \n",
        "l21.append(p2['cost of verified certificate'])                                #appending l21 with the cost of Design and index\n",
        "\n",
        "l54=[]                                                                        #Creating a list\n",
        "for i in range(len(p2['cost of verified certificate'])):                      #To initialise a loop from zero till length of 'cost'\n",
        "    l54.append(l21[0][i])                                                     #To append cost by dropping the index value\n",
        "l32=[]                                                                        #Creating another list \n",
        "for x in l54:                                                                 #loop for the values in l54  \n",
        "    l32.append(float(x))                                                      #To convert the integer values to float\n",
        "l32                                                                         \n",
        "sum=0                                                                         #To Find sum of all the cost of courses in Design\n",
        "for i in l32:\n",
        "    sum+=i                                                                    #Incrementing value of sum\n",
        "a=(sum/(len(p2['cost of verified certificate'])))                             #To find mean of the cost \n",
        "l2.append(a)                                                                  #Appending mean of Design to l2\n",
        "print(l2) "
      ],
      "execution_count": 40,
      "outputs": [
        {
          "output_type": "stream",
          "name": "stdout",
          "text": [
            "[122.10204081632654, 75.15918918918919, 83.42857142857143, 84.03703703703704, 66.1304347826087, 104.30434782608695, 65.11764705882354, 74.2, 98.75]\n"
          ]
        }
      ]
    },
    {
      "cell_type": "code",
      "metadata": {
        "colab": {
          "base_uri": "https://localhost:8080/"
        },
        "id": "ff1yE77lvl2v",
        "outputId": "7a258548-c251-4502-ca5d-c77609da8ff0"
      },
      "source": [
        "p2=edx[edx['subject']=='Music']                                               #Creating a dataframe p2 of Music\n",
        "p2=p2.reset_index(drop=True)                                                  #To Reset index in p2 frame\n",
        "\n",
        "l21=[]                                                                        #Creating a list \n",
        "l21.append(p2['cost of verified certificate'])                                #appending l21 with the cost of Music and index\n",
        "\n",
        "l54=[]                                                                        #Creating a list\n",
        "for i in range(len(p2['cost of verified certificate'])):                      #To initialise a loop from zero till length of 'cost'\n",
        "    l54.append(l21[0][i])                                                     #To append cost by dropping the index value\n",
        "l32=[]                                                                        #Creating another list \n",
        "for x in l54:                                                                 #loop for the values in l54  \n",
        "    l32.append(float(x))                                                      #To convert the integer values to float\n",
        "l32                                                                         \n",
        "sum=0                                                                         #To Find sum of all the cost of courses in Music\n",
        "for i in l32:\n",
        "    sum+=i                                                                    #Incrementing value of sum\n",
        "a=(sum/(len(p2['cost of verified certificate'])))                             #To find mean of the cost \n",
        "l2.append(a)                                                                  #Appending mean of Music to l2\n",
        "print(l2) "
      ],
      "execution_count": 41,
      "outputs": [
        {
          "output_type": "stream",
          "name": "stdout",
          "text": [
            "[122.10204081632654, 75.15918918918919, 83.42857142857143, 84.03703703703704, 66.1304347826087, 104.30434782608695, 65.11764705882354, 74.2, 98.75, 65.66666666666667]\n"
          ]
        }
      ]
    },
    {
      "cell_type": "code",
      "metadata": {
        "colab": {
          "base_uri": "https://localhost:8080/"
        },
        "id": "1zuRgTrvvpSM",
        "outputId": "e63a8b6c-c458-4e16-fcba-f1e8149556e8"
      },
      "source": [
        "p2=edx[edx['subject']=='Electronics']                                         #Creating a dataframe p2 of Electronics\n",
        "p2=p2.reset_index(drop=True)                                                  #To Reset index in p2 frame\n",
        "\n",
        "l21=[]                                                                        #Creating a list \n",
        "l21.append(p2['cost of verified certificate'])                                #appending l21 with the cost of Electronics and index\n",
        "\n",
        "l54=[]                                                                        #Creating a list\n",
        "for i in range(len(p2['cost of verified certificate'])):                      #To initialise a loop from zero till length of 'cost'\n",
        "    l54.append(l21[0][i])                                                     #To append cost by dropping the index value\n",
        "l32=[]                                                                        #Creating another list \n",
        "for x in l54:                                                                 #loop for the values in l54  \n",
        "    l32.append(float(x))                                                      #To convert the integer values to float\n",
        "l32                                                                         \n",
        "sum=0                                                                         #To Find sum of all the cost of courses in Electronics\n",
        "for i in l32:\n",
        "    sum+=i                                                                    #Incrementing value of sum\n",
        "a=(sum/(len(p2['cost of verified certificate'])))                             #To find mean of the cost \n",
        "l2.append(a)                                                                  #Appending mean of Electronics to l2\n",
        "print(l2) "
      ],
      "execution_count": 42,
      "outputs": [
        {
          "output_type": "stream",
          "name": "stdout",
          "text": [
            "[122.10204081632654, 75.15918918918919, 83.42857142857143, 84.03703703703704, 66.1304347826087, 104.30434782608695, 65.11764705882354, 74.2, 98.75, 65.66666666666667, 103.71428571428571]\n"
          ]
        }
      ]
    },
    {
      "cell_type": "code",
      "metadata": {
        "colab": {
          "base_uri": "https://localhost:8080/"
        },
        "id": "r_P6wvZAwNqH",
        "outputId": "b127199b-bdfa-43ba-a151-96c960c907eb"
      },
      "source": [
        "p2=edx[edx['subject']=='Energy & Earth Sciences']                             #Creating a dataframe p2 of Energy & Earth Sciences\n",
        "p2=p2.reset_index(drop=True)                                                  #To Reset index in p2 frame\n",
        "\n",
        "l21=[]                                                                        #Creating a list \n",
        "l21.append(p2['cost of verified certificate'])                                #appending l21 with the cost of Energy & Earth Sciences and index\n",
        "\n",
        "l54=[]                                                                        #Creating a list\n",
        "for i in range(len(p2['cost of verified certificate'])):                      #To initialise a loop from zero till length of 'cost'\n",
        "    l54.append(l21[0][i])                                                     #To append cost by dropping the index value\n",
        "l32=[]                                                                        #Creating another list \n",
        "for x in l54:                                                                 #loop for the values in l54  \n",
        "    l32.append(float(x))                                                      #To convert the integer values to float\n",
        "l32                                                                         \n",
        "sum=0                                                                         #To Find sum of all the cost of courses in Energy & Earth Sciences\n",
        "for i in l32:\n",
        "    sum+=i                                                                    #Incrementing value of sum\n",
        "a=(sum/(len(p2['cost of verified certificate'])))                             #To find mean of the cost \n",
        "l2.append(a)                                                                  #Appending mean of Energy & Earth Sciences to l2\n",
        "print(l2) "
      ],
      "execution_count": 43,
      "outputs": [
        {
          "output_type": "stream",
          "name": "stdout",
          "text": [
            "[122.10204081632654, 75.15918918918919, 83.42857142857143, 84.03703703703704, 66.1304347826087, 104.30434782608695, 65.11764705882354, 74.2, 98.75, 65.66666666666667, 103.71428571428571, 150.2]\n"
          ]
        }
      ]
    },
    {
      "cell_type": "code",
      "metadata": {
        "colab": {
          "base_uri": "https://localhost:8080/"
        },
        "id": "kptcD2w_wgUc",
        "outputId": "b5da99e3-9ec3-4809-e109-4d7592d08027"
      },
      "source": [
        "p2=edx[edx['subject']=='Architecture']                                        #Creating a dataframe p2 of Architecture\n",
        "p2=p2.reset_index(drop=True)                                                  #To Reset index in p2 frame\n",
        "\n",
        "l21=[]                                                                        #Creating a list \n",
        "l21.append(p2['cost of verified certificate'])                                #appending l21 with the cost of Architecture and index\n",
        "\n",
        "l54=[]                                                                        #Creating a list\n",
        "for i in range(len(p2['cost of verified certificate'])):                      #To initialise a loop from zero till length of 'cost'\n",
        "    l54.append(l21[0][i])                                                     #To append cost by dropping the index value\n",
        "l32=[]                                                                        #Creating another list \n",
        "for x in l54:                                                                 #loop for the values in l54  \n",
        "    l32.append(float(x))                                                      #To convert the integer values to float\n",
        "l32                                                                         \n",
        "sum=0                                                                         #To Find sum of all the cost of courses in Architecture\n",
        "for i in l32:\n",
        "    sum+=i                                                                    #Incrementing value of sum\n",
        "a=(sum/(len(p2['cost of verified certificate'])))                             #To find mean of the cost \n",
        "l2.append(a)                                                                  #Appending mean of Architecture to l2\n",
        "print(l2) "
      ],
      "execution_count": 44,
      "outputs": [
        {
          "output_type": "stream",
          "name": "stdout",
          "text": [
            "[122.10204081632654, 75.15918918918919, 83.42857142857143, 84.03703703703704, 66.1304347826087, 104.30434782608695, 65.11764705882354, 74.2, 98.75, 65.66666666666667, 103.71428571428571, 150.2, 62.0]\n"
          ]
        }
      ]
    },
    {
      "cell_type": "code",
      "metadata": {
        "colab": {
          "base_uri": "https://localhost:8080/",
          "height": 530
        },
        "id": "i1XZNRKQkdu-",
        "outputId": "2af3a5f4-d885-46da-89a1-91780a8ad787"
      },
      "source": [
        "x=['Engineering','EF','Communication','Language','Math','Medicine',            #Declaring x.\n",
        "          'Physics','Chemistry','Design','Music','Electronics',\n",
        "          'EES','Architecture']\n",
        "y=l2                                                                           #Declaring l2 list in y.\n",
        "plt.figure(figsize=(18, 8))                                                    #Making the scatter plot.\n",
        "plt.scatter(x, y, c =\"yellow\",\n",
        "            linewidths = 1.5,\n",
        "            marker =\"*\", \n",
        "            edgecolor =\"green\", \n",
        "            s = 300)\n",
        "\n",
        "plt.xlabel(\"Subjects\")                                                         #Label for x-axis.\n",
        "plt.ylabel(\"Mean cost\")  \n",
        "plt.title(\"Mean price offered by each course\")                                 #Label for y-aixs.\n"
      ],
      "execution_count": 45,
      "outputs": [
        {
          "output_type": "execute_result",
          "data": {
            "text/plain": [
              "Text(0.5, 1.0, 'Mean price offered by each course')"
            ]
          },
          "metadata": {},
          "execution_count": 45
        },
        {
          "output_type": "display_data",
          "data": {
            "image/png": "[encoded data removed]",
            "text/plain": [
              "<Figure size 1296x576 with 1 Axes>"
            ]
          },
          "metadata": {
            "needs_background": "light"
          }
        }
      ]
    },
    {
      "cell_type": "markdown",
      "metadata": {
        "id": "IQaT5nSRpNCV"
      },
      "source": [
        "# **NOTE**✍\n",
        "\n",
        "✔ **Scatter plots are used to observe relationship between variables and uses dots to represent the relationship between them.**\n",
        "\n",
        "✔ **The above scatter plot indicates the mean price offered by each course.**\n",
        "\n",
        "✔ **Above chart is made using Matplotlib.**"
      ]
    },
    {
      "cell_type": "markdown",
      "metadata": {
        "id": "XpPKcS4AYIVg"
      },
      "source": [
        "# **TASK 6 - Which course length has the maximum enrollments ?**"
      ]
    },
    {
      "cell_type": "code",
      "metadata": {
        "colab": {
          "base_uri": "https://localhost:8080/"
        },
        "id": "WVYZPxfsZGsc",
        "outputId": "cbfddfe3-d54c-48ab-9ada-1a6db950d197"
      },
      "source": [
        "p1=edx[edx['course_length']=='1']                                               #Creating a dataframe p1 of 1 weeks\n",
        "p1=p1.reset_index(drop=True)                                                    #To Reset index in p1 frame\n",
        "p1\n",
        "l1=[]                                                                           #Creating a list l1\n",
        "l1.append(p1['n_enrolled'])                                                     #appending l1 with the n_enrolled\n",
        "\n",
        " \n",
        "l2=[]                                                                           #Creating a list l2\n",
        "for i in range(len(p1['n_enrolled'])):                                          #To initialise a loop from zero till length of 'n_enrolled'\n",
        "    l2.append(l1[0][i])                                                         #To append n_enrolled by dropping the index value\n",
        "                                                                                                         \n",
        "l3=[]                                                                           #Creating another list \n",
        "for x in l2:                                                                    #loop for the values in l3  \n",
        "    l3.append(int(x)) \n",
        "\n",
        "\n",
        "sum=0                                                                           #To Find sum of all the n_enrolled.\n",
        "for i in l3:\n",
        "  sum=sum+i                                                                     #Incrementing value of sum\n",
        "print(sum)                                                                      #Printing sum\n",
        "lf=[]                                                                           #Final list\n",
        "lf.append(sum)                                                                  #Appending in final list\n",
        "print(lf)"
      ],
      "execution_count": 46,
      "outputs": [
        {
          "output_type": "stream",
          "name": "stdout",
          "text": [
            "242487\n",
            "[242487]\n"
          ]
        }
      ]
    },
    {
      "cell_type": "code",
      "metadata": {
        "colab": {
          "base_uri": "https://localhost:8080/"
        },
        "id": "ZHQUGtQvdKXd",
        "outputId": "094f2c7b-f3c6-40f6-f8f9-3ae80d3c5452"
      },
      "source": [
        "p1=edx[edx['course_length']=='2']                                               #Creating a dataframe p1 of 2 weeks\n",
        "p1=p1.reset_index(drop=True)                                                    #To Reset index in p1 frame\n",
        "p1\n",
        "l1=[]                                                                           #Creating a list l1\n",
        "l1.append(p1['n_enrolled'])                                                     #appending l1 with the n_enrolled\n",
        "\n",
        " \n",
        "l2=[]                                                                           #Creating a list l2\n",
        "for i in range(len(p1['n_enrolled'])):                                          #To initialise a loop from zero till length of 'n_enrolled'\n",
        "    l2.append(l1[0][i])                                                         #To append n_enrolled by dropping the index value\n",
        "                                                                                                         \n",
        "l3=[]                                                                           #Creating another list \n",
        "for x in l2:                                                                    #loop for the values in l3  \n",
        "    l3.append(int(x)) \n",
        "\n",
        "\n",
        "sum=0                                                                           #To Find sum of all the n_enrolled.\n",
        "for i in l3:\n",
        "  sum=sum+i                                                                     #Incrementing value of sum\n",
        "print(sum)                                                                      #Printing sum\n",
        "                                                                          \n",
        "lf.append(sum)                                                                  #Appending in final list\n",
        "print(lf)"
      ],
      "execution_count": 47,
      "outputs": [
        {
          "output_type": "stream",
          "name": "stdout",
          "text": [
            "417677\n",
            "[242487, 417677]\n"
          ]
        }
      ]
    },
    {
      "cell_type": "code",
      "metadata": {
        "colab": {
          "base_uri": "https://localhost:8080/"
        },
        "id": "rVMOUtyYe4cm",
        "outputId": "fff3030e-2e60-469f-efb8-4403eac350ea"
      },
      "source": [
        "p1=edx[edx['course_length']=='3']                                               #Creating a dataframe p1 of 3 weeks\n",
        "p1=p1.reset_index(drop=True)                                                    #To Reset index in p1 frame\n",
        "p1\n",
        "l1=[]                                                                           #Creating a list l1\n",
        "l1.append(p1['n_enrolled'])                                                     #appending l1 with the n_enrolled\n",
        "\n",
        " \n",
        "l2=[]                                                                           #Creating a list l2\n",
        "for i in range(len(p1['n_enrolled'])):                                          #To initialise a loop from zero till length of 'n_enrolled'\n",
        "    l2.append(l1[0][i])                                                         #To append n_enrolled by dropping the index value\n",
        "                                                                                                         \n",
        "l3=[]                                                                           #Creating another list \n",
        "for x in l2:                                                                    #loop for the values in l3  \n",
        "    l3.append(int(x)) \n",
        "\n",
        "\n",
        "sum=0                                                                           #To Find sum of all the n_enrolled.\n",
        "for i in l3:\n",
        "  sum=sum+i                                                                     #Incrementing value of sum\n",
        "print(sum)                                                                      #Printing sum\n",
        "lf.append(sum)                                                                  #Appending in final list\n",
        "print(lf)"
      ],
      "execution_count": 48,
      "outputs": [
        {
          "output_type": "stream",
          "name": "stdout",
          "text": [
            "484470\n",
            "[242487, 417677, 484470]\n"
          ]
        }
      ]
    },
    {
      "cell_type": "code",
      "metadata": {
        "colab": {
          "base_uri": "https://localhost:8080/"
        },
        "id": "BDrB6lhNe87A",
        "outputId": "4f692718-8cbb-4dad-9ce7-07c4726d13b2"
      },
      "source": [
        "p1=edx[edx['course_length']=='4']                                               #Creating a dataframe p1 of 4 weeks\n",
        "p1=p1.reset_index(drop=True)                                                    #To Reset index in p1 frame\n",
        "p1\n",
        "l1=[]                                                                           #Creating a list l1\n",
        "l1.append(p1['n_enrolled'])                                                     #appending l1 with the n_enrolled\n",
        "\n",
        " \n",
        "l2=[]                                                                           #Creating a list l2\n",
        "for i in range(len(p1['n_enrolled'])):                                          #To initialise a loop from zero till length of 'n_enrolled'\n",
        "    l2.append(l1[0][i])                                                         #To append n_enrolled by dropping the index value\n",
        "                                                                                                         \n",
        "l3=[]                                                                           #Creating another list \n",
        "for x in l2:                                                                    #loop for the values in l3  \n",
        "    l3.append(int(x)) \n",
        "\n",
        "\n",
        "sum=0                                                                           #To Find sum of all the n_enrolled.\n",
        "for i in l3:\n",
        "  sum=sum+i                                                                     #Incrementing value of sum\n",
        "print(sum)                                                                      #Printing sum\n",
        "lf.append(sum)                                                                  #Appending in final list\n",
        "print(lf)"
      ],
      "execution_count": 49,
      "outputs": [
        {
          "output_type": "stream",
          "name": "stdout",
          "text": [
            "5748168\n",
            "[242487, 417677, 484470, 5748168]\n"
          ]
        }
      ]
    },
    {
      "cell_type": "code",
      "metadata": {
        "colab": {
          "base_uri": "https://localhost:8080/"
        },
        "id": "2QD32Pbge_9r",
        "outputId": "b0229186-8a6a-4ebc-ee49-b1206ef34320"
      },
      "source": [
        "p1=edx[edx['course_length']=='5']                                               #Creating a dataframe p1 of 5 weeks\n",
        "p1=p1.reset_index(drop=True)                                                    #To Reset index in p1 frame\n",
        "p1\n",
        "l1=[]                                                                           #Creating a list l1\n",
        "l1.append(p1['n_enrolled'])                                                     #appending l1 with the n_enrolled\n",
        "\n",
        " \n",
        "l2=[]                                                                           #Creating a list l2\n",
        "for i in range(len(p1['n_enrolled'])):                                          #To initialise a loop from zero till length of 'n_enrolled'\n",
        "    l2.append(l1[0][i])                                                         #To append n_enrolled by dropping the index value\n",
        "                                                                                                         \n",
        "l3=[]                                                                           #Creating another list \n",
        "for x in l2:                                                                    #loop for the values in l3  \n",
        "    l3.append(int(x)) \n",
        "\n",
        "\n",
        "sum=0                                                                           #To Find sum of all the n_enrolled.\n",
        "for i in l3:\n",
        "  sum=sum+i                                                                     #Incrementing value of sum\n",
        "print(sum)                                                                      #Printing sum\n",
        "lf.append(sum)                                                                  #Appending in final list\n",
        "print(lf)"
      ],
      "execution_count": 50,
      "outputs": [
        {
          "output_type": "stream",
          "name": "stdout",
          "text": [
            "5251679\n",
            "[242487, 417677, 484470, 5748168, 5251679]\n"
          ]
        }
      ]
    },
    {
      "cell_type": "code",
      "metadata": {
        "colab": {
          "base_uri": "https://localhost:8080/"
        },
        "id": "1IypMQ8ZfDAp",
        "outputId": "800a50e1-db04-4192-f9de-d0357f182174"
      },
      "source": [
        "p1=edx[edx['course_length']=='6']                                               #Creating a dataframe p1 of 6 weeks\n",
        "p1=p1.reset_index(drop=True)                                                    #To Reset index in p1 frame\n",
        "p1\n",
        "l1=[]                                                                           #Creating a list l1\n",
        "l1.append(p1['n_enrolled'])                                                     #appending l1 with the n_enrolled\n",
        "\n",
        " \n",
        "l2=[]                                                                           #Creating a list l2\n",
        "for i in range(len(p1['n_enrolled'])):                                          #To initialise a loop from zero till length of 'n_enrolled'\n",
        "    l2.append(l1[0][i])                                                         #To append n_enrolled by dropping the index value\n",
        "                                                                                                         \n",
        "l3=[]                                                                           #Creating another list \n",
        "for x in l2:                                                                    #loop for the values in l3  \n",
        "    l3.append(int(x)) \n",
        "\n",
        "\n",
        "sum=0                                                                           #To Find sum of all the n_enrolled.\n",
        "for i in l3:\n",
        "  sum=sum+i                                                                     #Incrementing value of sum\n",
        "print(sum)                                                                      #Printing sum\n",
        "lf.append(sum)                                                                  #Appending in final list\n",
        "print(lf)"
      ],
      "execution_count": 51,
      "outputs": [
        {
          "output_type": "stream",
          "name": "stdout",
          "text": [
            "7720388\n",
            "[242487, 417677, 484470, 5748168, 5251679, 7720388]\n"
          ]
        }
      ]
    },
    {
      "cell_type": "code",
      "metadata": {
        "colab": {
          "base_uri": "https://localhost:8080/"
        },
        "id": "XpYA_HpMfFAC",
        "outputId": "644df34a-137d-4a10-a14d-e60c6eb52ad7"
      },
      "source": [
        "p1=edx[edx['course_length']=='7']                                               #Creating a dataframe p1 of 7 weeks\n",
        "p1=p1.reset_index(drop=True)                                                    #To Reset index in p1 frame\n",
        "p1\n",
        "l1=[]                                                                           #Creating a list l1\n",
        "l1.append(p1['n_enrolled'])                                                     #appending l1 with the n_enrolled\n",
        "\n",
        " \n",
        "l2=[]                                                                           #Creating a list l2\n",
        "for i in range(len(p1['n_enrolled'])):                                          #To initialise a loop from zero till length of 'n_enrolled'\n",
        "    l2.append(l1[0][i])                                                         #To append n_enrolled by dropping the index value\n",
        "                                                                                                         \n",
        "l3=[]                                                                           #Creating another list \n",
        "for x in l2:                                                                    #loop for the values in l3  \n",
        "    l3.append(int(x)) \n",
        "\n",
        "\n",
        "sum=0                                                                           #To Find sum of all the n_enrolled.\n",
        "for i in l3:\n",
        "  sum=sum+i                                                                     #Incrementing value of sum\n",
        "print(sum)                                                                      #Printing sum\n",
        "lf.append(sum)                                                                  #Appending in final list\n",
        "print(lf)"
      ],
      "execution_count": 52,
      "outputs": [
        {
          "output_type": "stream",
          "name": "stdout",
          "text": [
            "3579155\n",
            "[242487, 417677, 484470, 5748168, 5251679, 7720388, 3579155]\n"
          ]
        }
      ]
    },
    {
      "cell_type": "code",
      "metadata": {
        "colab": {
          "base_uri": "https://localhost:8080/"
        },
        "id": "SwGgJGZMfHDc",
        "outputId": "b8de0ba6-7350-4733-cd6f-ebcbffe80f91"
      },
      "source": [
        "p1=edx[edx['course_length']=='8']                                               #Creating a dataframe p1 of 8 weeks\n",
        "p1=p1.reset_index(drop=True)                                                    #To Reset index in p1 frame\n",
        "p1\n",
        "l1=[]                                                                           #Creating a list l1\n",
        "l1.append(p1['n_enrolled'])                                                     #appending l1 with the n_enrolled\n",
        "\n",
        " \n",
        "l2=[]                                                                           #Creating a list l2\n",
        "for i in range(len(p1['n_enrolled'])):                                          #To initialise a loop from zero till length of 'n_enrolled'\n",
        "    l2.append(l1[0][i])                                                         #To append n_enrolled by dropping the index value\n",
        "                                                                                                         \n",
        "l3=[]                                                                           #Creating another list \n",
        "for x in l2:                                                                    #loop for the values in l3  \n",
        "    l3.append(int(x)) \n",
        "\n",
        "\n",
        "sum=0                                                                           #To Find sum of all the n_enrolled.\n",
        "for i in l3:\n",
        "  sum=sum+i                                                                     #Incrementing value of sum\n",
        "print(sum)                                                                      #Printing sum\n",
        "lf.append(sum)                                                                  #Appending in final list\n",
        "print(lf)"
      ],
      "execution_count": 53,
      "outputs": [
        {
          "output_type": "stream",
          "name": "stdout",
          "text": [
            "5846822\n",
            "[242487, 417677, 484470, 5748168, 5251679, 7720388, 3579155, 5846822]\n"
          ]
        }
      ]
    },
    {
      "cell_type": "code",
      "metadata": {
        "colab": {
          "base_uri": "https://localhost:8080/"
        },
        "id": "Ipf0oSUafKVS",
        "outputId": "2311bffe-0089-4a36-c5d7-aca156d875d1"
      },
      "source": [
        "p1=edx[edx['course_length']=='9']                                               #Creating a dataframe p1 of 9 weeks\n",
        "p1=p1.reset_index(drop=True)                                                    #To Reset index in p1 frame\n",
        "p1\n",
        "l1=[]                                                                           #Creating a list l1\n",
        "l1.append(p1['n_enrolled'])                                                     #appending l1 with the n_enrolled\n",
        "\n",
        " \n",
        "l2=[]                                                                           #Creating a list l2\n",
        "for i in range(len(p1['n_enrolled'])):                                          #To initialise a loop from zero till length of 'n_enrolled'\n",
        "    l2.append(l1[0][i])                                                         #To append n_enrolled by dropping the index value\n",
        "                                                                                                         \n",
        "l3=[]                                                                           #Creating another list \n",
        "for x in l2:                                                                    #loop for the values in l3  \n",
        "    l3.append(int(x)) \n",
        "\n",
        "\n",
        "sum=0                                                                           #To Find sum of all the n_enrolled.\n",
        "for i in l3:\n",
        "  sum=sum+i                                                                     #Incrementing value of sum\n",
        "print(sum)                                                                      #Printing sum\n",
        "lf.append(sum)                                                                  #Appending in final list\n",
        "print(lf)"
      ],
      "execution_count": 54,
      "outputs": [
        {
          "output_type": "stream",
          "name": "stdout",
          "text": [
            "1137350\n",
            "[242487, 417677, 484470, 5748168, 5251679, 7720388, 3579155, 5846822, 1137350]\n"
          ]
        }
      ]
    },
    {
      "cell_type": "code",
      "metadata": {
        "colab": {
          "base_uri": "https://localhost:8080/"
        },
        "id": "eYeWdGeZfNhN",
        "outputId": "2849bb4f-80fd-454e-bb05-1e9173fdd705"
      },
      "source": [
        "p1=edx[edx['course_length']=='10']                                               #Creating a dataframe p1 of 10 weeks\n",
        "p1=p1.reset_index(drop=True)                                                    #To Reset index in p1 frame\n",
        "p1\n",
        "l1=[]                                                                           #Creating a list l1\n",
        "l1.append(p1['n_enrolled'])                                                     #appending l1 with the n_enrolled\n",
        "\n",
        " \n",
        "l2=[]                                                                           #Creating a list l2\n",
        "for i in range(len(p1['n_enrolled'])):                                          #To initialise a loop from zero till length of 'n_enrolled'\n",
        "    l2.append(l1[0][i])                                                         #To append n_enrolled by dropping the index value\n",
        "                                                                                                         \n",
        "l3=[]                                                                           #Creating another list \n",
        "for x in l2:                                                                    #loop for the values in l3  \n",
        "    l3.append(int(x)) \n",
        "\n",
        "\n",
        "sum=0                                                                           #To Find sum of all the n_enrolled.\n",
        "for i in l3:\n",
        "  sum=sum+i                                                                     #Incrementing value of sum\n",
        "print(sum)                                                                      #Printing sum\n",
        "lf.append(sum)                                                                  #Appending in final list\n",
        "print(lf)"
      ],
      "execution_count": 55,
      "outputs": [
        {
          "output_type": "stream",
          "name": "stdout",
          "text": [
            "4467724\n",
            "[242487, 417677, 484470, 5748168, 5251679, 7720388, 3579155, 5846822, 1137350, 4467724]\n"
          ]
        }
      ]
    },
    {
      "cell_type": "code",
      "metadata": {
        "colab": {
          "base_uri": "https://localhost:8080/"
        },
        "id": "j3vDYXeyfUjw",
        "outputId": "13f98977-524d-4f0f-ff31-5b4339eb85c6"
      },
      "source": [
        "p1=edx[edx['course_length']=='11']                                               #Creating a dataframe p1 of 11 weeks\n",
        "p1=p1.reset_index(drop=True)                                                    #To Reset index in p1 frame\n",
        "p1\n",
        "l1=[]                                                                           #Creating a list l1\n",
        "l1.append(p1['n_enrolled'])                                                     #appending l1 with the n_enrolled\n",
        "\n",
        " \n",
        "l2=[]                                                                           #Creating a list l2\n",
        "for i in range(len(p1['n_enrolled'])):                                          #To initialise a loop from zero till length of 'n_enrolled'\n",
        "    l2.append(l1[0][i])                                                         #To append n_enrolled by dropping the index value\n",
        "                                                                                                         \n",
        "l3=[]                                                                           #Creating another list \n",
        "for x in l2:                                                                    #loop for the values in l3  \n",
        "    l3.append(int(x)) \n",
        "\n",
        "\n",
        "sum=0                                                                           #To Find sum of all the n_enrolled.\n",
        "for i in l3:\n",
        "  sum=sum+i                                                                     #Incrementing value of sum\n",
        "print(sum)                                                                      #Printing sum\n",
        "lf.append(sum)                                                                  #Appending in final list\n",
        "print(lf)"
      ],
      "execution_count": 56,
      "outputs": [
        {
          "output_type": "stream",
          "name": "stdout",
          "text": [
            "707309\n",
            "[242487, 417677, 484470, 5748168, 5251679, 7720388, 3579155, 5846822, 1137350, 4467724, 707309]\n"
          ]
        }
      ]
    },
    {
      "cell_type": "code",
      "metadata": {
        "colab": {
          "base_uri": "https://localhost:8080/"
        },
        "id": "nyZZ85KZfYM9",
        "outputId": "dd66499c-20ad-4ff6-81f8-1d5f7d24bd2b"
      },
      "source": [
        "p1=edx[edx['course_length']=='12']                                               #Creating a dataframe p1 of 12 weeks\n",
        "p1=p1.reset_index(drop=True)                                                    #To Reset index in p1 frame\n",
        "p1\n",
        "l1=[]                                                                           #Creating a list l1\n",
        "l1.append(p1['n_enrolled'])                                                     #appending l1 with the n_enrolled\n",
        "\n",
        " \n",
        "l2=[]                                                                           #Creating a list l2\n",
        "for i in range(len(p1['n_enrolled'])):                                          #To initialise a loop from zero till length of 'n_enrolled'\n",
        "    l2.append(l1[0][i])                                                         #To append n_enrolled by dropping the index value\n",
        "                                                                                                         \n",
        "l3=[]                                                                           #Creating another list \n",
        "for x in l2:                                                                    #loop for the values in l3  \n",
        "    l3.append(int(x)) \n",
        "\n",
        "\n",
        "sum=0                                                                           #To Find sum of all the n_enrolled.\n",
        "for i in l3:\n",
        "  sum=sum+i                                                                     #Incrementing value of sum\n",
        "print(sum)                                                                      #Printing sum\n",
        "lf.append(sum)                                                                  #Appending in final list\n",
        "print(lf)"
      ],
      "execution_count": 57,
      "outputs": [
        {
          "output_type": "stream",
          "name": "stdout",
          "text": [
            "6028773\n",
            "[242487, 417677, 484470, 5748168, 5251679, 7720388, 3579155, 5846822, 1137350, 4467724, 707309, 6028773]\n"
          ]
        }
      ]
    },
    {
      "cell_type": "code",
      "metadata": {
        "colab": {
          "base_uri": "https://localhost:8080/"
        },
        "id": "jY9zmFUMfeDm",
        "outputId": "362049ff-8ab4-49e7-e85d-7c0052ff6f4f"
      },
      "source": [
        "p1=edx[edx['course_length']=='13']                                               #Creating a dataframe p1 of 13 weeks\n",
        "p1=p1.reset_index(drop=True)                                                    #To Reset index in p1 frame\n",
        "p1\n",
        "l1=[]                                                                           #Creating a list l1\n",
        "l1.append(p1['n_enrolled'])                                                     #appending l1 with the n_enrolled\n",
        "\n",
        " \n",
        "l2=[]                                                                           #Creating a list l2\n",
        "for i in range(len(p1['n_enrolled'])):                                          #To initialise a loop from zero till length of 'n_enrolled'\n",
        "    l2.append(l1[0][i])                                                         #To append n_enrolled by dropping the index value\n",
        "                                                                                                         \n",
        "l3=[]                                                                           #Creating another list \n",
        "for x in l2:                                                                    #loop for the values in l3  \n",
        "    l3.append(int(x)) \n",
        "\n",
        "\n",
        "sum=0                                                                           #To Find sum of all the n_enrolled.\n",
        "for i in l3:\n",
        "  sum=sum+i                                                                     #Incrementing value of sum\n",
        "print(sum)                                                                      #Printing sum\n",
        "lf.append(sum)                                                                  #Appending in final list\n",
        "print(lf)"
      ],
      "execution_count": 58,
      "outputs": [
        {
          "output_type": "stream",
          "name": "stdout",
          "text": [
            "382699\n",
            "[242487, 417677, 484470, 5748168, 5251679, 7720388, 3579155, 5846822, 1137350, 4467724, 707309, 6028773, 382699]\n"
          ]
        }
      ]
    },
    {
      "cell_type": "code",
      "metadata": {
        "colab": {
          "base_uri": "https://localhost:8080/"
        },
        "id": "jPv44xdbfg5B",
        "outputId": "29dea511-9647-4202-f433-b86cd43e0dec"
      },
      "source": [
        "p1=edx[edx['course_length']=='14']                                               #Creating a dataframe p1 of 14 weeks\n",
        "p1=p1.reset_index(drop=True)                                                    #To Reset index in p1 frame\n",
        "p1\n",
        "l1=[]                                                                           #Creating a list l1\n",
        "l1.append(p1['n_enrolled'])                                                     #appending l1 with the n_enrolled\n",
        "\n",
        " \n",
        "l2=[]                                                                           #Creating a list l2\n",
        "for i in range(len(p1['n_enrolled'])):                                          #To initialise a loop from zero till length of 'n_enrolled'\n",
        "    l2.append(l1[0][i])                                                         #To append n_enrolled by dropping the index value\n",
        "                                                                                                         \n",
        "l3=[]                                                                           #Creating another list \n",
        "for x in l2:                                                                    #loop for the values in l3  \n",
        "    l3.append(int(x)) \n",
        "\n",
        "\n",
        "sum=0                                                                           #To Find sum of all the n_enrolled.\n",
        "for i in l3:\n",
        "  sum=sum+i                                                                     #Incrementing value of sum\n",
        "print(sum)                                                                      #Printing sum\n",
        "lf.append(sum)                                                                  #Appending in final list\n",
        "print(lf)"
      ],
      "execution_count": 59,
      "outputs": [
        {
          "output_type": "stream",
          "name": "stdout",
          "text": [
            "1203766\n",
            "[242487, 417677, 484470, 5748168, 5251679, 7720388, 3579155, 5846822, 1137350, 4467724, 707309, 6028773, 382699, 1203766]\n"
          ]
        }
      ]
    },
    {
      "cell_type": "code",
      "metadata": {
        "colab": {
          "base_uri": "https://localhost:8080/"
        },
        "id": "vXUTngq2fip2",
        "outputId": "09a6fb6e-1847-413c-a4d4-95ecb1543d93"
      },
      "source": [
        "p1=edx[edx['course_length']=='15']                                               #Creating a dataframe p1 of 15 weeks\n",
        "p1=p1.reset_index(drop=True)                                                    #To Reset index in p1 frame\n",
        "p1\n",
        "l1=[]                                                                           #Creating a list l1\n",
        "l1.append(p1['n_enrolled'])                                                     #appending l1 with the n_enrolled\n",
        "\n",
        " \n",
        "l2=[]                                                                           #Creating a list l2\n",
        "for i in range(len(p1['n_enrolled'])):                                          #To initialise a loop from zero till length of 'n_enrolled'\n",
        "    l2.append(l1[0][i])                                                         #To append n_enrolled by dropping the index value\n",
        "                                                                                                         \n",
        "l3=[]                                                                           #Creating another list \n",
        "for x in l2:                                                                    #loop for the values in l3  \n",
        "    l3.append(int(x)) \n",
        "\n",
        "\n",
        "sum=0                                                                           #To Find sum of all the n_enrolled.\n",
        "for i in l3:\n",
        "  sum=sum+i                                                                     #Incrementing value of sum\n",
        "print(sum)                                                                      #Printing sum\n",
        "lf.append(sum)                                                                  #Appending in final list\n",
        "print(lf)"
      ],
      "execution_count": 60,
      "outputs": [
        {
          "output_type": "stream",
          "name": "stdout",
          "text": [
            "1288078\n",
            "[242487, 417677, 484470, 5748168, 5251679, 7720388, 3579155, 5846822, 1137350, 4467724, 707309, 6028773, 382699, 1203766, 1288078]\n"
          ]
        }
      ]
    },
    {
      "cell_type": "code",
      "metadata": {
        "colab": {
          "base_uri": "https://localhost:8080/"
        },
        "id": "bG9cjlMtiSpn",
        "outputId": "d5566024-4341-4fa2-9223-cb216846fe0f"
      },
      "source": [
        "p1=edx[edx['course_length']=='16']                                               #Creating a dataframe p1 of 16 weeks\n",
        "p1=p1.reset_index(drop=True)                                                    #To Reset index in p1 frame\n",
        "p1\n",
        "l1=[]                                                                           #Creating a list l1\n",
        "l1.append(p1['n_enrolled'])                                                     #appending l1 with the n_enrolled\n",
        "\n",
        " \n",
        "l2=[]                                                                           #Creating a list l2\n",
        "for i in range(len(p1['n_enrolled'])):                                          #To initialise a loop from zero till length of 'n_enrolled'\n",
        "    l2.append(l1[0][i])                                                         #To append n_enrolled by dropping the index value\n",
        "                                                                                                         \n",
        "l3=[]                                                                           #Creating another list \n",
        "for x in l2:                                                                    #loop for the values in l3  \n",
        "    l3.append(int(x)) \n",
        "\n",
        "\n",
        "sum=0                                                                           #To Find sum of all the n_enrolled.\n",
        "for i in l3:\n",
        "  sum=sum+i                                                                     #Incrementing value of sum\n",
        "print(sum)                                                                      #Printing sum\n",
        "lf.append(sum)                                                                  #Appending in final list\n",
        "print(lf)"
      ],
      "execution_count": 61,
      "outputs": [
        {
          "output_type": "stream",
          "name": "stdout",
          "text": [
            "897308\n",
            "[242487, 417677, 484470, 5748168, 5251679, 7720388, 3579155, 5846822, 1137350, 4467724, 707309, 6028773, 382699, 1203766, 1288078, 897308]\n"
          ]
        }
      ]
    },
    {
      "cell_type": "code",
      "metadata": {
        "colab": {
          "base_uri": "https://localhost:8080/"
        },
        "id": "Ddg5jGNDfki0",
        "outputId": "70702e43-b5d2-4859-a80b-ee5b33f68761"
      },
      "source": [
        "p1=edx[edx['course_length']=='17']                                               #Creating a dataframe p1 of 17 weeks\n",
        "p1=p1.reset_index(drop=True)                                                    #To Reset index in p1 frame\n",
        "p1\n",
        "l1=[]                                                                           #Creating a list l1\n",
        "l1.append(p1['n_enrolled'])                                                     #appending l1 with the n_enrolled\n",
        "\n",
        " \n",
        "l2=[]                                                                           #Creating a list l2\n",
        "for i in range(len(p1['n_enrolled'])):                                          #To initialise a loop from zero till length of 'n_enrolled'\n",
        "    l2.append(l1[0][i])                                                         #To append n_enrolled by dropping the index value\n",
        "                                                                                                         \n",
        "l3=[]                                                                           #Creating another list \n",
        "for x in l2:                                                                    #loop for the values in l3  \n",
        "    l3.append(int(x)) \n",
        "\n",
        "\n",
        "sum=0                                                                           #To Find sum of all the n_enrolled.\n",
        "for i in l3:\n",
        "  sum=sum+i                                                                     #Incrementing value of sum\n",
        "print(sum)                                                                      #Printing sum\n",
        "lf.append(sum)                                                                  #Appending in final list\n",
        "print(lf)"
      ],
      "execution_count": 62,
      "outputs": [
        {
          "output_type": "stream",
          "name": "stdout",
          "text": [
            "9169\n",
            "[242487, 417677, 484470, 5748168, 5251679, 7720388, 3579155, 5846822, 1137350, 4467724, 707309, 6028773, 382699, 1203766, 1288078, 897308, 9169]\n"
          ]
        }
      ]
    },
    {
      "cell_type": "code",
      "metadata": {
        "colab": {
          "base_uri": "https://localhost:8080/"
        },
        "id": "6uC-s-6WfrT8",
        "outputId": "4b9bc9b7-c73c-4ca0-c0b9-86c7d57d9d7c"
      },
      "source": [
        "p1=edx[edx['course_length']=='18']                                               #Creating a dataframe p1 of 18 weeks\n",
        "p1=p1.reset_index(drop=True)                                                    #To Reset index in p1 frame\n",
        "p1\n",
        "l1=[]                                                                           #Creating a list l1\n",
        "l1.append(p1['n_enrolled'])                                                     #appending l1 with the n_enrolled\n",
        "\n",
        "l2=[]                                                                           #Creating a list l2\n",
        "for i in range(len(p1['n_enrolled'])):                                          #To initialise a loop from zero till length of 'n_enrolled'\n",
        "    l2.append(l1[0][i])  \n",
        "                                                                                #To append n_enrolled by dropping the index value\n",
        "                                                                                                         \n",
        "l3=[]                                                                           #Creating another list \n",
        "for x in l2:                                                                    #loop for the values in l3  \n",
        "    l3.append(int(x)) \n",
        "\n",
        "\n",
        "sum=0                                                                           #To Find sum of all the n_enrolled.\n",
        "for i in l3:\n",
        "  sum=sum+i                                                                     #Incrementing value of sum\n",
        "print(sum)                                                                      #Printing sum\n",
        "lf.append(sum)                                                                  #Appending in final list\n",
        "print(lf)\n",
        "\n"
      ],
      "execution_count": 63,
      "outputs": [
        {
          "output_type": "stream",
          "name": "stdout",
          "text": [
            "124578\n",
            "[242487, 417677, 484470, 5748168, 5251679, 7720388, 3579155, 5846822, 1137350, 4467724, 707309, 6028773, 382699, 1203766, 1288078, 897308, 9169, 124578]\n"
          ]
        }
      ]
    },
    {
      "cell_type": "code",
      "metadata": {
        "colab": {
          "base_uri": "https://localhost:8080/",
          "height": 542
        },
        "id": "HpFRX1hdmEm5",
        "outputId": "4330b554-1df5-48d6-b318-5f432d49b37f"
      },
      "source": [
        "fig = go.Figure(data=[go.Scatter( \n",
        "    x=['1 week','2 weeks','3 weeks','4 weeks','5 weeks','6 weeks','7 weeks','8 weeks','9 weeks',\n",
        "    '10 weeks','11 weeks','12 weeks','13 weeks','14 weeks','15 weeks','16 weeks','17 weeks','18 weeks']\n",
        "    , y=lf,\n",
        "    mode='markers',\n",
        "    marker=dict(\n",
        "        color=[200, 205, 210, 215, 220, 225, 230, 235, 240, 245, 250 ,255, 260, 265, 270 ,275, 280, 285, 290 ,295, 300],                                   #Selecting colors for graph\n",
        "        opacity=[0.6],\n",
        "        size=[50, 40, 43, 50, 20, 56, 46 ,55, 30, 47 ,54 , 65, 30, 58, 50, 45, 40, 35],showscale=True,                                   #Defining the size of each bubble in chart\n",
        "    )\n",
        ")])\n",
        "\n",
        "fig.update_layout(\n",
        "    title='Course length having maximum enrollments ',                                      #title of the bubble chart\n",
        "  yaxis=dict(                                                                   #Assigning attributes to Y axis\n",
        "        title='Number of enrollments',                                                  \n",
        "        gridcolor='white',\n",
        "        gridwidth=2,\n",
        "    ),\n",
        "\n",
        "    xaxis=dict(                                                                 #Assigning attributes to X axis\n",
        "        title='Weeks',  \n",
        "        gridcolor='white',\n",
        "        gridwidth=4,\n",
        "    ),\n",
        "    paper_bgcolor='rgb(243, 243, 243)',                                         #Colors for the backgroungd bubble chart\n",
        "    plot_bgcolor='rgb(243, 243, 243)',\n",
        ")\n",
        "fig.show() "
      ],
      "execution_count": 67,
      "outputs": [
        {
          "output_type": "display_data",
          "data": {
            "text/html": [
              "<html>\n",
              "<head><meta charset=\"utf-8\" /></head>\n",
              "<body>\n",
              "    <div>\n",
              "            <script src=\"https://cdnjs.cloudflare.com/ajax/libs/mathjax/2.7.5/MathJax.js?config=TeX-AMS-MML_SVG\"></script><script type=\"text/javascript\">if (window.MathJax) {MathJax.Hub.Config({SVG: {font: \"STIX-Web\"}});}</script>\n",
              "                <script type=\"text/javascript\">window.PlotlyConfig = {MathJaxConfig: 'local'};</script>\n",
              "        <script src=\"https://cdn.plot.ly/plotly-latest.min.js\"></script>    \n",
              "            <div id=\"5f3b94b8-1f38-4389-818d-be88ce69203a\" class=\"plotly-graph-div\" style=\"height:525px; width:100%;\"></div>\n",
              "            <script type=\"text/javascript\">\n",
              "                \n",
              "                    window.PLOTLYENV=window.PLOTLYENV || {};\n",
              "                    \n",
              "                if (document.getElementById(\"5f3b94b8-1f38-4389-818d-be88ce69203a\")) {\n",
              "                    Plotly.newPlot(\n",
              "                        '5f3b94b8-1f38-4389-818d-be88ce69203a',\n",
              "                        [{\"marker\": {\"color\": [200, 205, 210, 215, 220, 225, 230, 235, 240, 245, 250, 255, 260, 265, 270, 275, 280, 285, 290, 295, 300], \"opacity\": [0.6], \"showscale\": true, \"size\": [50, 40, 43, 50, 20, 56, 46, 55, 30, 47, 54, 65, 30, 58, 50, 45, 40, 35]}, \"mode\": \"markers\", \"type\": \"scatter\", \"x\": [\"1 week\", \"2 weeks\", \"3 weeks\", \"4 weeks\", \"5 weeks\", \"6 weeks\", \"7 weeks\", \"8 weeks\", \"9 weeks\", \"10 weeks\", \"11 weeks\", \"12 weeks\", \"13 weeks\", \"14 weeks\", \"15 weeks\", \"16 weeks\", \"17 weeks\", \"18 weeks\"], \"y\": [242487, 417677, 484470, 5748168, 5251679, 7720388, 3579155, 5846822, 1137350, 4467724, 707309, 6028773, 382699, 1203766, 1288078, 897308, 9169, 124578]}],\n",
              "                        {\"paper_bgcolor\": \"rgb(243, 243, 243)\", \"plot_bgcolor\": \"rgb(243, 243, 243)\", \"template\": {\"data\": {\"bar\": [{\"error_x\": {\"color\": \"#2a3f5f\"}, \"error_y\": {\"color\": \"#2a3f5f\"}, \"marker\": {\"line\": {\"color\": \"#E5ECF6\", \"width\": 0.5}}, \"type\": \"bar\"}], \"barpolar\": [{\"marker\": {\"line\": {\"color\": \"#E5ECF6\", \"width\": 0.5}}, \"type\": \"barpolar\"}], \"carpet\": [{\"aaxis\": {\"endlinecolor\": \"#2a3f5f\", \"gridcolor\": \"white\", \"linecolor\": \"white\", \"minorgridcolor\": \"white\", \"startlinecolor\": \"#2a3f5f\"}, \"baxis\": {\"endlinecolor\": \"#2a3f5f\", \"gridcolor\": \"white\", \"linecolor\": \"white\", \"minorgridcolor\": \"white\", \"startlinecolor\": \"#2a3f5f\"}, \"type\": \"carpet\"}], \"choropleth\": [{\"colorbar\": {\"outlinewidth\": 0, \"ticks\": \"\"}, \"type\": \"choropleth\"}], \"contour\": [{\"colorbar\": {\"outlinewidth\": 0, \"ticks\": \"\"}, \"colorscale\": [[0.0, \"#0d0887\"], [0.1111111111111111, \"#46039f\"], [0.2222222222222222, \"#7201a8\"], [0.3333333333333333, \"#9c179e\"], [0.4444444444444444, \"#bd3786\"], [0.5555555555555556, \"#d8576b\"], [0.6666666666666666, \"#ed7953\"], [0.7777777777777778, \"#fb9f3a\"], [0.8888888888888888, \"#fdca26\"], [1.0, \"#f0f921\"]], \"type\": \"contour\"}], \"contourcarpet\": [{\"colorbar\": {\"outlinewidth\": 0, \"ticks\": \"\"}, \"type\": \"contourcarpet\"}], \"heatmap\": [{\"colorbar\": {\"outlinewidth\": 0, \"ticks\": \"\"}, \"colorscale\": [[0.0, \"#0d0887\"], [0.1111111111111111, \"#46039f\"], [0.2222222222222222, \"#7201a8\"], [0.3333333333333333, \"#9c179e\"], [0.4444444444444444, \"#bd3786\"], [0.5555555555555556, \"#d8576b\"], [0.6666666666666666, \"#ed7953\"], [0.7777777777777778, \"#fb9f3a\"], [0.8888888888888888, \"#fdca26\"], [1.0, \"#f0f921\"]], \"type\": \"heatmap\"}], \"heatmapgl\": [{\"colorbar\": {\"outlinewidth\": 0, \"ticks\": \"\"}, \"colorscale\": [[0.0, \"#0d0887\"], [0.1111111111111111, \"#46039f\"], [0.2222222222222222, \"#7201a8\"], [0.3333333333333333, \"#9c179e\"], [0.4444444444444444, \"#bd3786\"], [0.5555555555555556, \"#d8576b\"], [0.6666666666666666, \"#ed7953\"], [0.7777777777777778, \"#fb9f3a\"], [0.8888888888888888, \"#fdca26\"], [1.0, \"#f0f921\"]], \"type\": \"heatmapgl\"}], \"histogram\": [{\"marker\": {\"colorbar\": {\"outlinewidth\": 0, \"ticks\": \"\"}}, \"type\": \"histogram\"}], \"histogram2d\": [{\"colorbar\": {\"outlinewidth\": 0, \"ticks\": \"\"}, \"colorscale\": [[0.0, \"#0d0887\"], [0.1111111111111111, \"#46039f\"], [0.2222222222222222, \"#7201a8\"], [0.3333333333333333, \"#9c179e\"], [0.4444444444444444, \"#bd3786\"], [0.5555555555555556, \"#d8576b\"], [0.6666666666666666, \"#ed7953\"], [0.7777777777777778, \"#fb9f3a\"], [0.8888888888888888, \"#fdca26\"], [1.0, \"#f0f921\"]], \"type\": \"histogram2d\"}], \"histogram2dcontour\": [{\"colorbar\": {\"outlinewidth\": 0, \"ticks\": \"\"}, \"colorscale\": [[0.0, \"#0d0887\"], [0.1111111111111111, \"#46039f\"], [0.2222222222222222, \"#7201a8\"], [0.3333333333333333, \"#9c179e\"], [0.4444444444444444, \"#bd3786\"], [0.5555555555555556, \"#d8576b\"], [0.6666666666666666, \"#ed7953\"], [0.7777777777777778, \"#fb9f3a\"], [0.8888888888888888, \"#fdca26\"], [1.0, \"#f0f921\"]], \"type\": \"histogram2dcontour\"}], \"mesh3d\": [{\"colorbar\": {\"outlinewidth\": 0, \"ticks\": \"\"}, \"type\": \"mesh3d\"}], \"parcoords\": [{\"line\": {\"colorbar\": {\"outlinewidth\": 0, \"ticks\": \"\"}}, \"type\": \"parcoords\"}], \"pie\": [{\"automargin\": true, \"type\": \"pie\"}], \"scatter\": [{\"marker\": {\"colorbar\": {\"outlinewidth\": 0, \"ticks\": \"\"}}, \"type\": \"scatter\"}], \"scatter3d\": [{\"line\": {\"colorbar\": {\"outlinewidth\": 0, \"ticks\": \"\"}}, \"marker\": {\"colorbar\": {\"outlinewidth\": 0, \"ticks\": \"\"}}, \"type\": \"scatter3d\"}], \"scattercarpet\": [{\"marker\": {\"colorbar\": {\"outlinewidth\": 0, \"ticks\": \"\"}}, \"type\": \"scattercarpet\"}], \"scattergeo\": [{\"marker\": {\"colorbar\": {\"outlinewidth\": 0, \"ticks\": \"\"}}, \"type\": \"scattergeo\"}], \"scattergl\": [{\"marker\": {\"colorbar\": {\"outlinewidth\": 0, \"ticks\": \"\"}}, \"type\": \"scattergl\"}], \"scattermapbox\": [{\"marker\": {\"colorbar\": {\"outlinewidth\": 0, \"ticks\": \"\"}}, \"type\": \"scattermapbox\"}], \"scatterpolar\": [{\"marker\": {\"colorbar\": {\"outlinewidth\": 0, \"ticks\": \"\"}}, \"type\": \"scatterpolar\"}], \"scatterpolargl\": [{\"marker\": {\"colorbar\": {\"outlinewidth\": 0, \"ticks\": \"\"}}, \"type\": \"scatterpolargl\"}], \"scatterternary\": [{\"marker\": {\"colorbar\": {\"outlinewidth\": 0, \"ticks\": \"\"}}, \"type\": \"scatterternary\"}], \"surface\": [{\"colorbar\": {\"outlinewidth\": 0, \"ticks\": \"\"}, \"colorscale\": [[0.0, \"#0d0887\"], [0.1111111111111111, \"#46039f\"], [0.2222222222222222, \"#7201a8\"], [0.3333333333333333, \"#9c179e\"], [0.4444444444444444, \"#bd3786\"], [0.5555555555555556, \"#d8576b\"], [0.6666666666666666, \"#ed7953\"], [0.7777777777777778, \"#fb9f3a\"], [0.8888888888888888, \"#fdca26\"], [1.0, \"#f0f921\"]], \"type\": \"surface\"}], \"table\": [{\"cells\": {\"fill\": {\"color\": \"#EBF0F8\"}, \"line\": {\"color\": \"white\"}}, \"header\": {\"fill\": {\"color\": \"#C8D4E3\"}, \"line\": {\"color\": \"white\"}}, \"type\": \"table\"}]}, \"layout\": {\"annotationdefaults\": {\"arrowcolor\": \"#2a3f5f\", \"arrowhead\": 0, \"arrowwidth\": 1}, \"coloraxis\": {\"colorbar\": {\"outlinewidth\": 0, \"ticks\": \"\"}}, \"colorscale\": {\"diverging\": [[0, \"#8e0152\"], [0.1, \"#c51b7d\"], [0.2, \"#de77ae\"], [0.3, \"#f1b6da\"], [0.4, \"#fde0ef\"], [0.5, \"#f7f7f7\"], [0.6, \"#e6f5d0\"], [0.7, \"#b8e186\"], [0.8, \"#7fbc41\"], [0.9, \"#4d9221\"], [1, \"#276419\"]], \"sequential\": [[0.0, \"#0d0887\"], [0.1111111111111111, \"#46039f\"], [0.2222222222222222, \"#7201a8\"], [0.3333333333333333, \"#9c179e\"], [0.4444444444444444, \"#bd3786\"], [0.5555555555555556, \"#d8576b\"], [0.6666666666666666, \"#ed7953\"], [0.7777777777777778, \"#fb9f3a\"], [0.8888888888888888, \"#fdca26\"], [1.0, \"#f0f921\"]], \"sequentialminus\": [[0.0, \"#0d0887\"], [0.1111111111111111, \"#46039f\"], [0.2222222222222222, \"#7201a8\"], [0.3333333333333333, \"#9c179e\"], [0.4444444444444444, \"#bd3786\"], [0.5555555555555556, \"#d8576b\"], [0.6666666666666666, \"#ed7953\"], [0.7777777777777778, \"#fb9f3a\"], [0.8888888888888888, \"#fdca26\"], [1.0, \"#f0f921\"]]}, \"colorway\": [\"#636efa\", \"#EF553B\", \"#00cc96\", \"#ab63fa\", \"#FFA15A\", \"#19d3f3\", \"#FF6692\", \"#B6E880\", \"#FF97FF\", \"#FECB52\"], \"font\": {\"color\": \"#2a3f5f\"}, \"geo\": {\"bgcolor\": \"white\", \"lakecolor\": \"white\", \"landcolor\": \"#E5ECF6\", \"showlakes\": true, \"showland\": true, \"subunitcolor\": \"white\"}, \"hoverlabel\": {\"align\": \"left\"}, \"hovermode\": \"closest\", \"mapbox\": {\"style\": \"light\"}, \"paper_bgcolor\": \"white\", \"plot_bgcolor\": \"#E5ECF6\", \"polar\": {\"angularaxis\": {\"gridcolor\": \"white\", \"linecolor\": \"white\", \"ticks\": \"\"}, \"bgcolor\": \"#E5ECF6\", \"radialaxis\": {\"gridcolor\": \"white\", \"linecolor\": \"white\", \"ticks\": \"\"}}, \"scene\": {\"xaxis\": {\"backgroundcolor\": \"#E5ECF6\", \"gridcolor\": \"white\", \"gridwidth\": 2, \"linecolor\": \"white\", \"showbackground\": true, \"ticks\": \"\", \"zerolinecolor\": \"white\"}, \"yaxis\": {\"backgroundcolor\": \"#E5ECF6\", \"gridcolor\": \"white\", \"gridwidth\": 2, \"linecolor\": \"white\", \"showbackground\": true, \"ticks\": \"\", \"zerolinecolor\": \"white\"}, \"zaxis\": {\"backgroundcolor\": \"#E5ECF6\", \"gridcolor\": \"white\", \"gridwidth\": 2, \"linecolor\": \"white\", \"showbackground\": true, \"ticks\": \"\", \"zerolinecolor\": \"white\"}}, \"shapedefaults\": {\"line\": {\"color\": \"#2a3f5f\"}}, \"ternary\": {\"aaxis\": {\"gridcolor\": \"white\", \"linecolor\": \"white\", \"ticks\": \"\"}, \"baxis\": {\"gridcolor\": \"white\", \"linecolor\": \"white\", \"ticks\": \"\"}, \"bgcolor\": \"#E5ECF6\", \"caxis\": {\"gridcolor\": \"white\", \"linecolor\": \"white\", \"ticks\": \"\"}}, \"title\": {\"x\": 0.05}, \"xaxis\": {\"automargin\": true, \"gridcolor\": \"white\", \"linecolor\": \"white\", \"ticks\": \"\", \"title\": {\"standoff\": 15}, \"zerolinecolor\": \"white\", \"zerolinewidth\": 2}, \"yaxis\": {\"automargin\": true, \"gridcolor\": \"white\", \"linecolor\": \"white\", \"ticks\": \"\", \"title\": {\"standoff\": 15}, \"zerolinecolor\": \"white\", \"zerolinewidth\": 2}}}, \"title\": {\"text\": \"Course length having maximum enrollments \"}, \"xaxis\": {\"gridcolor\": \"white\", \"gridwidth\": 4, \"title\": {\"text\": \"Weeks\"}}, \"yaxis\": {\"gridcolor\": \"white\", \"gridwidth\": 2, \"title\": {\"text\": \"Number of enrollments\"}}},\n",
              "                        {\"responsive\": true}\n",
              "                    ).then(function(){\n",
              "                            \n",
              "var gd = document.getElementById('5f3b94b8-1f38-4389-818d-be88ce69203a');\n",
              "var x = new MutationObserver(function (mutations, observer) {{\n",
              "        var display = window.getComputedStyle(gd).display;\n",
              "        if (!display || display === 'none') {{\n",
              "            console.log([gd, 'removed!']);\n",
              "            Plotly.purge(gd);\n",
              "            observer.disconnect();\n",
              "        }}\n",
              "}});\n",
              "\n",
              "// Listen for the removal of the full notebook cells\n",
              "var notebookContainer = gd.closest('#notebook-container');\n",
              "if (notebookContainer) {{\n",
              "    x.observe(notebookContainer, {childList: true});\n",
              "}}\n",
              "\n",
              "// Listen for the clearing of the current output cell\n",
              "var outputEl = gd.closest('.output');\n",
              "if (outputEl) {{\n",
              "    x.observe(outputEl, {childList: true});\n",
              "}}\n",
              "\n",
              "                        })\n",
              "                };\n",
              "                \n",
              "            </script>\n",
              "        </div>\n",
              "</body>\n",
              "</html>"
            ]
          },
          "metadata": {}
        }
      ]
    },
    {
      "cell_type": "markdown",
      "metadata": {
        "id": "gjiDOYgWkC7p"
      },
      "source": [
        "# **NOTE**✍\n",
        "\n",
        "✔ **From the above graph, 6 weeks course has the maximum enrollments.**\n",
        "\n",
        "✔ **Above chart is made using Plotly.**"
      ]
    },
    {
      "cell_type": "markdown",
      "metadata": {
        "id": "2KcJLZk_iuLu"
      },
      "source": [
        "# **TASK 7 - What is the number of enrollments in each level?**"
      ]
    },
    {
      "cell_type": "code",
      "metadata": {
        "colab": {
          "base_uri": "https://localhost:8080/"
        },
        "id": "h6Xv64v4itZ4",
        "outputId": "56d1e959-4a8f-4876-e2ec-c47b6b023686"
      },
      "source": [
        "p=[]                                                                            \n",
        "e=edx['Level']                                                                  #Creating a dataframe of e which has level column\n",
        "l=[]                                                                              \n",
        "p.append(e)                                                                     #appending p with the column value \n",
        "for i in range(0,855):\n",
        "    \n",
        "    l.append(p[0][i])                                                           #Storing introductory , intermediate , advance course\n",
        "p=[]\n",
        "e=edx['n_enrolled']                                                             #Storing n_enrolled in e dataframe\n",
        "l1=[]\n",
        "p.append(e)                                                                     #appending e to p\n",
        "var=0\n",
        "for i in range(0,855):\n",
        "\n",
        "\n",
        "  l1.append(p[0][i])\n",
        "integer_map = map(int, l1)\n",
        "l1 = list(integer_map)\n",
        "sumintro=0\n",
        "sumintermediate=0\n",
        "sumadvanced=0\n",
        "\n",
        "for i in range(0,855):\n",
        "    if(l[i]=='Introductory'):\n",
        "        sumintro+=l1[i]\n",
        "    elif(l[i]=='Intermediate'):\n",
        "        sumintermediate+=l1[i]\n",
        "    else:\n",
        "        sumadvanced+=l1[i]\n",
        "print(sumintro)\n",
        "print(sumintermediate)\n",
        "print(sumadvanced)\n",
        "\n",
        "lf1=[]\n",
        "lf1.append(sumintro)\n",
        "lf1.append(sumintermediate)\n",
        "lf1.append(sumadvanced)\n",
        "print(lf1)"
      ],
      "execution_count": 65,
      "outputs": [
        {
          "output_type": "stream",
          "name": "stdout",
          "text": [
            "32379441\n",
            "10159138\n",
            "2999021\n",
            "[32379441, 10159138, 2999021]\n"
          ]
        }
      ]
    },
    {
      "cell_type": "code",
      "metadata": {
        "colab": {
          "base_uri": "https://localhost:8080/",
          "height": 542
        },
        "id": "WxqXKeCxpgAz",
        "outputId": "11c4ec49-cf96-4b9a-a7a5-d4ae64cf1409"
      },
      "source": [
        "labels = ['Introductory','Intermediate', 'Advanced']                                                          #Declaring labels of the subjects for which we have calculated mean\n",
        "values = lf1                                                                                                  #Assigning values to lf1\n",
        "colors = ['#ff9770', '#ffd670', '#e9ff70']                                                                    \n",
        "fig = go.Figure(data=[go.Pie(labels=labels, values=lf1)])                                                     #Code create a pie chart\n",
        "fig.update_traces(hoverinfo='label+percent', textinfo='percent', textfont_size=20, marker=dict(colors=colors))    \n",
        "fig.update_layout(title_text=\"Number of enrollments in each level\")            \n",
        "fig.show()"
      ],
      "execution_count": 66,
      "outputs": [
        {
          "output_type": "display_data",
          "data": {
            "text/html": [
              "<html>\n",
              "<head><meta charset=\"utf-8\" /></head>\n",
              "<body>\n",
              "    <div>\n",
              "            <script src=\"https://cdnjs.cloudflare.com/ajax/libs/mathjax/2.7.5/MathJax.js?config=TeX-AMS-MML_SVG\"></script><script type=\"text/javascript\">if (window.MathJax) {MathJax.Hub.Config({SVG: {font: \"STIX-Web\"}});}</script>\n",
              "                <script type=\"text/javascript\">window.PlotlyConfig = {MathJaxConfig: 'local'};</script>\n",
              "        <script src=\"https://cdn.plot.ly/plotly-latest.min.js\"></script>    \n",
              "            <div id=\"72b36d18-4151-4a7a-affa-8ae5b5f21ecf\" class=\"plotly-graph-div\" style=\"height:525px; width:100%;\"></div>\n",
              "            <script type=\"text/javascript\">\n",
              "                \n",
              "                    window.PLOTLYENV=window.PLOTLYENV || {};\n",
              "                    \n",
              "                if (document.getElementById(\"72b36d18-4151-4a7a-affa-8ae5b5f21ecf\")) {\n",
              "                    Plotly.newPlot(\n",
              "                        '72b36d18-4151-4a7a-affa-8ae5b5f21ecf',\n",
              "                        [{\"hoverinfo\": \"label+percent\", \"labels\": [\"Introductory\", \"Intermediate\", \"Advanced\"], \"marker\": {\"colors\": [\"#ff9770\", \"#ffd670\", \"#e9ff70\"]}, \"textfont\": {\"size\": 20}, \"textinfo\": \"percent\", \"type\": \"pie\", \"values\": [32379441, 10159138, 2999021]}],\n",
              "                        {\"template\": {\"data\": {\"bar\": [{\"error_x\": {\"color\": \"#2a3f5f\"}, \"error_y\": {\"color\": \"#2a3f5f\"}, \"marker\": {\"line\": {\"color\": \"#E5ECF6\", \"width\": 0.5}}, \"type\": \"bar\"}], \"barpolar\": [{\"marker\": {\"line\": {\"color\": \"#E5ECF6\", \"width\": 0.5}}, \"type\": \"barpolar\"}], \"carpet\": [{\"aaxis\": {\"endlinecolor\": \"#2a3f5f\", \"gridcolor\": \"white\", \"linecolor\": \"white\", \"minorgridcolor\": \"white\", \"startlinecolor\": \"#2a3f5f\"}, \"baxis\": {\"endlinecolor\": \"#2a3f5f\", \"gridcolor\": \"white\", \"linecolor\": \"white\", \"minorgridcolor\": \"white\", \"startlinecolor\": \"#2a3f5f\"}, \"type\": \"carpet\"}], \"choropleth\": [{\"colorbar\": {\"outlinewidth\": 0, \"ticks\": \"\"}, \"type\": \"choropleth\"}], \"contour\": [{\"colorbar\": {\"outlinewidth\": 0, \"ticks\": \"\"}, \"colorscale\": [[0.0, \"#0d0887\"], [0.1111111111111111, \"#46039f\"], [0.2222222222222222, \"#7201a8\"], [0.3333333333333333, \"#9c179e\"], [0.4444444444444444, \"#bd3786\"], [0.5555555555555556, \"#d8576b\"], [0.6666666666666666, \"#ed7953\"], [0.7777777777777778, \"#fb9f3a\"], [0.8888888888888888, \"#fdca26\"], [1.0, \"#f0f921\"]], \"type\": \"contour\"}], \"contourcarpet\": [{\"colorbar\": {\"outlinewidth\": 0, \"ticks\": \"\"}, \"type\": \"contourcarpet\"}], \"heatmap\": [{\"colorbar\": {\"outlinewidth\": 0, \"ticks\": \"\"}, \"colorscale\": [[0.0, \"#0d0887\"], [0.1111111111111111, \"#46039f\"], [0.2222222222222222, \"#7201a8\"], [0.3333333333333333, \"#9c179e\"], [0.4444444444444444, \"#bd3786\"], [0.5555555555555556, \"#d8576b\"], [0.6666666666666666, \"#ed7953\"], [0.7777777777777778, \"#fb9f3a\"], [0.8888888888888888, \"#fdca26\"], [1.0, \"#f0f921\"]], \"type\": \"heatmap\"}], \"heatmapgl\": [{\"colorbar\": {\"outlinewidth\": 0, \"ticks\": \"\"}, \"colorscale\": [[0.0, \"#0d0887\"], [0.1111111111111111, \"#46039f\"], [0.2222222222222222, \"#7201a8\"], [0.3333333333333333, \"#9c179e\"], [0.4444444444444444, \"#bd3786\"], [0.5555555555555556, \"#d8576b\"], [0.6666666666666666, \"#ed7953\"], [0.7777777777777778, \"#fb9f3a\"], [0.8888888888888888, \"#fdca26\"], [1.0, \"#f0f921\"]], \"type\": \"heatmapgl\"}], \"histogram\": [{\"marker\": {\"colorbar\": {\"outlinewidth\": 0, \"ticks\": \"\"}}, \"type\": \"histogram\"}], \"histogram2d\": [{\"colorbar\": {\"outlinewidth\": 0, \"ticks\": \"\"}, \"colorscale\": [[0.0, \"#0d0887\"], [0.1111111111111111, \"#46039f\"], [0.2222222222222222, \"#7201a8\"], [0.3333333333333333, \"#9c179e\"], [0.4444444444444444, \"#bd3786\"], [0.5555555555555556, \"#d8576b\"], [0.6666666666666666, \"#ed7953\"], [0.7777777777777778, \"#fb9f3a\"], [0.8888888888888888, \"#fdca26\"], [1.0, \"#f0f921\"]], \"type\": \"histogram2d\"}], \"histogram2dcontour\": [{\"colorbar\": {\"outlinewidth\": 0, \"ticks\": \"\"}, \"colorscale\": [[0.0, \"#0d0887\"], [0.1111111111111111, \"#46039f\"], [0.2222222222222222, \"#7201a8\"], [0.3333333333333333, \"#9c179e\"], [0.4444444444444444, \"#bd3786\"], [0.5555555555555556, \"#d8576b\"], [0.6666666666666666, \"#ed7953\"], [0.7777777777777778, \"#fb9f3a\"], [0.8888888888888888, \"#fdca26\"], [1.0, \"#f0f921\"]], \"type\": \"histogram2dcontour\"}], \"mesh3d\": [{\"colorbar\": {\"outlinewidth\": 0, \"ticks\": \"\"}, \"type\": \"mesh3d\"}], \"parcoords\": [{\"line\": {\"colorbar\": {\"outlinewidth\": 0, \"ticks\": \"\"}}, \"type\": \"parcoords\"}], \"pie\": [{\"automargin\": true, \"type\": \"pie\"}], \"scatter\": [{\"marker\": {\"colorbar\": {\"outlinewidth\": 0, \"ticks\": \"\"}}, \"type\": \"scatter\"}], \"scatter3d\": [{\"line\": {\"colorbar\": {\"outlinewidth\": 0, \"ticks\": \"\"}}, \"marker\": {\"colorbar\": {\"outlinewidth\": 0, \"ticks\": \"\"}}, \"type\": \"scatter3d\"}], \"scattercarpet\": [{\"marker\": {\"colorbar\": {\"outlinewidth\": 0, \"ticks\": \"\"}}, \"type\": \"scattercarpet\"}], \"scattergeo\": [{\"marker\": {\"colorbar\": {\"outlinewidth\": 0, \"ticks\": \"\"}}, \"type\": \"scattergeo\"}], \"scattergl\": [{\"marker\": {\"colorbar\": {\"outlinewidth\": 0, \"ticks\": \"\"}}, \"type\": \"scattergl\"}], \"scattermapbox\": [{\"marker\": {\"colorbar\": {\"outlinewidth\": 0, \"ticks\": \"\"}}, \"type\": \"scattermapbox\"}], \"scatterpolar\": [{\"marker\": {\"colorbar\": {\"outlinewidth\": 0, \"ticks\": \"\"}}, \"type\": \"scatterpolar\"}], \"scatterpolargl\": [{\"marker\": {\"colorbar\": {\"outlinewidth\": 0, \"ticks\": \"\"}}, \"type\": \"scatterpolargl\"}], \"scatterternary\": [{\"marker\": {\"colorbar\": {\"outlinewidth\": 0, \"ticks\": \"\"}}, \"type\": \"scatterternary\"}], \"surface\": [{\"colorbar\": {\"outlinewidth\": 0, \"ticks\": \"\"}, \"colorscale\": [[0.0, \"#0d0887\"], [0.1111111111111111, \"#46039f\"], [0.2222222222222222, \"#7201a8\"], [0.3333333333333333, \"#9c179e\"], [0.4444444444444444, \"#bd3786\"], [0.5555555555555556, \"#d8576b\"], [0.6666666666666666, \"#ed7953\"], [0.7777777777777778, \"#fb9f3a\"], [0.8888888888888888, \"#fdca26\"], [1.0, \"#f0f921\"]], \"type\": \"surface\"}], \"table\": [{\"cells\": {\"fill\": {\"color\": \"#EBF0F8\"}, \"line\": {\"color\": \"white\"}}, \"header\": {\"fill\": {\"color\": \"#C8D4E3\"}, \"line\": {\"color\": \"white\"}}, \"type\": \"table\"}]}, \"layout\": {\"annotationdefaults\": {\"arrowcolor\": \"#2a3f5f\", \"arrowhead\": 0, \"arrowwidth\": 1}, \"coloraxis\": {\"colorbar\": {\"outlinewidth\": 0, \"ticks\": \"\"}}, \"colorscale\": {\"diverging\": [[0, \"#8e0152\"], [0.1, \"#c51b7d\"], [0.2, \"#de77ae\"], [0.3, \"#f1b6da\"], [0.4, \"#fde0ef\"], [0.5, \"#f7f7f7\"], [0.6, \"#e6f5d0\"], [0.7, \"#b8e186\"], [0.8, \"#7fbc41\"], [0.9, \"#4d9221\"], [1, \"#276419\"]], \"sequential\": [[0.0, \"#0d0887\"], [0.1111111111111111, \"#46039f\"], [0.2222222222222222, \"#7201a8\"], [0.3333333333333333, \"#9c179e\"], [0.4444444444444444, \"#bd3786\"], [0.5555555555555556, \"#d8576b\"], [0.6666666666666666, \"#ed7953\"], [0.7777777777777778, \"#fb9f3a\"], [0.8888888888888888, \"#fdca26\"], [1.0, \"#f0f921\"]], \"sequentialminus\": [[0.0, \"#0d0887\"], [0.1111111111111111, \"#46039f\"], [0.2222222222222222, \"#7201a8\"], [0.3333333333333333, \"#9c179e\"], [0.4444444444444444, \"#bd3786\"], [0.5555555555555556, \"#d8576b\"], [0.6666666666666666, \"#ed7953\"], [0.7777777777777778, \"#fb9f3a\"], [0.8888888888888888, \"#fdca26\"], [1.0, \"#f0f921\"]]}, \"colorway\": [\"#636efa\", \"#EF553B\", \"#00cc96\", \"#ab63fa\", \"#FFA15A\", \"#19d3f3\", \"#FF6692\", \"#B6E880\", \"#FF97FF\", \"#FECB52\"], \"font\": {\"color\": \"#2a3f5f\"}, \"geo\": {\"bgcolor\": \"white\", \"lakecolor\": \"white\", \"landcolor\": \"#E5ECF6\", \"showlakes\": true, \"showland\": true, \"subunitcolor\": \"white\"}, \"hoverlabel\": {\"align\": \"left\"}, \"hovermode\": \"closest\", \"mapbox\": {\"style\": \"light\"}, \"paper_bgcolor\": \"white\", \"plot_bgcolor\": \"#E5ECF6\", \"polar\": {\"angularaxis\": {\"gridcolor\": \"white\", \"linecolor\": \"white\", \"ticks\": \"\"}, \"bgcolor\": \"#E5ECF6\", \"radialaxis\": {\"gridcolor\": \"white\", \"linecolor\": \"white\", \"ticks\": \"\"}}, \"scene\": {\"xaxis\": {\"backgroundcolor\": \"#E5ECF6\", \"gridcolor\": \"white\", \"gridwidth\": 2, \"linecolor\": \"white\", \"showbackground\": true, \"ticks\": \"\", \"zerolinecolor\": \"white\"}, \"yaxis\": {\"backgroundcolor\": \"#E5ECF6\", \"gridcolor\": \"white\", \"gridwidth\": 2, \"linecolor\": \"white\", \"showbackground\": true, \"ticks\": \"\", \"zerolinecolor\": \"white\"}, \"zaxis\": {\"backgroundcolor\": \"#E5ECF6\", \"gridcolor\": \"white\", \"gridwidth\": 2, \"linecolor\": \"white\", \"showbackground\": true, \"ticks\": \"\", \"zerolinecolor\": \"white\"}}, \"shapedefaults\": {\"line\": {\"color\": \"#2a3f5f\"}}, \"ternary\": {\"aaxis\": {\"gridcolor\": \"white\", \"linecolor\": \"white\", \"ticks\": \"\"}, \"baxis\": {\"gridcolor\": \"white\", \"linecolor\": \"white\", \"ticks\": \"\"}, \"bgcolor\": \"#E5ECF6\", \"caxis\": {\"gridcolor\": \"white\", \"linecolor\": \"white\", \"ticks\": \"\"}}, \"title\": {\"x\": 0.05}, \"xaxis\": {\"automargin\": true, \"gridcolor\": \"white\", \"linecolor\": \"white\", \"ticks\": \"\", \"title\": {\"standoff\": 15}, \"zerolinecolor\": \"white\", \"zerolinewidth\": 2}, \"yaxis\": {\"automargin\": true, \"gridcolor\": \"white\", \"linecolor\": \"white\", \"ticks\": \"\", \"title\": {\"standoff\": 15}, \"zerolinecolor\": \"white\", \"zerolinewidth\": 2}}}, \"title\": {\"text\": \"Number of enrollments in each level\"}},\n",
              "                        {\"responsive\": true}\n",
              "                    ).then(function(){\n",
              "                            \n",
              "var gd = document.getElementById('72b36d18-4151-4a7a-affa-8ae5b5f21ecf');\n",
              "var x = new MutationObserver(function (mutations, observer) {{\n",
              "        var display = window.getComputedStyle(gd).display;\n",
              "        if (!display || display === 'none') {{\n",
              "            console.log([gd, 'removed!']);\n",
              "            Plotly.purge(gd);\n",
              "            observer.disconnect();\n",
              "        }}\n",
              "}});\n",
              "\n",
              "// Listen for the removal of the full notebook cells\n",
              "var notebookContainer = gd.closest('#notebook-container');\n",
              "if (notebookContainer) {{\n",
              "    x.observe(notebookContainer, {childList: true});\n",
              "}}\n",
              "\n",
              "// Listen for the clearing of the current output cell\n",
              "var outputEl = gd.closest('.output');\n",
              "if (outputEl) {{\n",
              "    x.observe(outputEl, {childList: true});\n",
              "}}\n",
              "\n",
              "                        })\n",
              "                };\n",
              "                \n",
              "            </script>\n",
              "        </div>\n",
              "</body>\n",
              "</html>"
            ]
          },
          "metadata": {}
        }
      ]
    },
    {
      "cell_type": "markdown",
      "metadata": {
        "id": "3N_E6d_QkN-V"
      },
      "source": [
        "# **NOTE**✍\n",
        "\n",
        "✔ **From the above graph, we can conclude that Introductory level has the maximum enrollments.**\n",
        "\n",
        "✔  **Above chart is made using Plotly.**"
      ]
    },
    {
      "cell_type": "markdown",
      "metadata": {
        "id": "58xX0SZqz_iB"
      },
      "source": [
        "\n",
        "\n",
        "> # **Step 5 - Summarize your inference and write a conclusion**\n",
        "\n"
      ]
    },
    {
      "cell_type": "markdown",
      "metadata": {
        "id": "wQoudBWtrTHN"
      },
      "source": [
        "# **SUMMARY**\n",
        "\n",
        "**In this mini project of Data Visualization and Analysis, we have learnt the use of Pandas which is a software library of Python used for data manipulation and analysis.**\n",
        "\n",
        "**For Data Visualization we have used Matplotlib, Plotly and Seaborn, which are Python plotting libraries covering wide range of charts and graphs. The following types of graph has been used:**\n",
        "\n",
        "\n",
        "\n",
        "\n",
        "*   **Heat Map**\n",
        "*   **Radar Chart**\n",
        "\n",
        "*   **Bar Graph**\n",
        "*   **Pie Chart**\n",
        "\n",
        "*   **Bubble Chart**\n",
        "*   **Donut Chart**\n",
        "\n",
        "*   **Scatter Plot**\n",
        "\n",
        "\n",
        "**We selected a dataset of edx courses from Kaggle and performed data cleaning, analysis, and visualization of certain questions and performed some basic function like calculating sum, mean, count, splitting and appending items in list.**"
      ]
    },
    {
      "cell_type": "markdown",
      "metadata": {
        "id": "7bD7AUuw0OCT"
      },
      "source": [
        "# **CONCLUSION**\n",
        "\n",
        "**We were able to acheive the appropriate results of the tasks and were able to compute all the basic functions in the project by using Pandas, Matplotplib, Plotly and Seaborn.**"
      ]
    },
    {
      "cell_type": "markdown",
      "metadata": {
        "id": "dYAepQwf2Nz1"
      },
      "source": [
        "# **FUTURE WORK**\n",
        "\n",
        "\n",
        "\n",
        "**1.   Using different types of data visualization for handling large data.**\n",
        "\n",
        "**2.  We will try to filter out the best courses in every subjects.**\n",
        "\n",
        "**3. Trying to merge two set of data columns in one graph.**\n",
        "\n",
        "**4. Making the graphs into 3D visuals.**\n",
        "\n",
        "**5. We will try to add more interesting questions.** \n",
        "\n"
      ]
    },
    {
      "cell_type": "markdown",
      "metadata": {
        "id": "UJSGq2xA2S5G"
      },
      "source": [
        "# **LINKS**\n",
        "https://www.kaggle.com/datasets?fileType=csv\n",
        "\n",
        "https://jovian.ml/forum/t/recommended-datasets-for-course-project/11711\n",
        "\n",
        "https://www.geeksforgeeks.org/python-pandas-dataframe/\n",
        "\n",
        "https://www.edureka.co/blog/python-matplotlib-tutorial/\n",
        "\n",
        "https://plotly.com/python/pie-charts/\n",
        "\n",
        "https://www.geeksforgeeks.org/seaborn-heatmap-a-comprehensive-guide/"
      ]
    },
    {
      "cell_type": "markdown",
      "metadata": {
        "id": "sZPg5y61zYCI"
      },
      "source": [
        "**Submitted by:-**\n",
        "\n",
        "**Sanyam Bothra-E20CSE151**\n",
        "\n",
        "**Ishita Goyal-E20CSE153**\n",
        "\n",
        "**Sneha Gupta-E20CSE154**"
      ]
    }
  ]
}